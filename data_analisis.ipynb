{
 "cells": [
  {
   "cell_type": "markdown",
   "metadata": {},
   "source": [
    "# <p><center> **PROYECTO 06** </center></p>  "
   ]
  },
  {
   "cell_type": "markdown",
   "metadata": {},
   "source": [
    "## Lectura de datos y primeras impresiones"
   ]
  },
  {
   "cell_type": "markdown",
   "metadata": {},
   "source": [
    "En esta sección haré la lectura de datos, corregiré la lectura y daré un primer vistazo a el DataSet, comentaré mis observaciones y las posibles correcciones que realizaré en los siguientes pasos."
   ]
  },
  {
   "cell_type": "code",
   "execution_count": 1,
   "metadata": {
    "trusted": false
   },
   "outputs": [],
   "source": [
    "# importar librerías, las agregaré aquí a como las vaya utilizando\n",
    "import pandas as pd\n",
    "import numpy as np\n",
    "import matplotlib.pyplot as plt\n",
    "import scipy.stats as st\n",
    "import seaborn as sns"
   ]
  },
  {
   "cell_type": "code",
   "execution_count": 2,
   "metadata": {
    "trusted": false
   },
   "outputs": [],
   "source": [
    "# lectura del DataSet\n",
    "df = pd.read_csv('games.csv')"
   ]
  },
  {
   "cell_type": "code",
   "execution_count": 3,
   "metadata": {
    "trusted": false
   },
   "outputs": [
    {
     "name": "stdout",
     "output_type": "stream",
     "text": [
      "<class 'pandas.core.frame.DataFrame'>\n",
      "RangeIndex: 16715 entries, 0 to 16714\n",
      "Data columns (total 11 columns):\n",
      " #   Column           Non-Null Count  Dtype  \n",
      "---  ------           --------------  -----  \n",
      " 0   Name             16713 non-null  object \n",
      " 1   Platform         16715 non-null  object \n",
      " 2   Year_of_Release  16446 non-null  float64\n",
      " 3   Genre            16713 non-null  object \n",
      " 4   NA_sales         16715 non-null  float64\n",
      " 5   EU_sales         16715 non-null  float64\n",
      " 6   JP_sales         16715 non-null  float64\n",
      " 7   Other_sales      16715 non-null  float64\n",
      " 8   Critic_Score     8137 non-null   float64\n",
      " 9   User_Score       10014 non-null  object \n",
      " 10  Rating           9949 non-null   object \n",
      "dtypes: float64(6), object(5)\n",
      "memory usage: 1.4+ MB\n"
     ]
    },
    {
     "data": {
      "text/html": [
       "<div>\n",
       "<style scoped>\n",
       "    .dataframe tbody tr th:only-of-type {\n",
       "        vertical-align: middle;\n",
       "    }\n",
       "\n",
       "    .dataframe tbody tr th {\n",
       "        vertical-align: top;\n",
       "    }\n",
       "\n",
       "    .dataframe thead th {\n",
       "        text-align: right;\n",
       "    }\n",
       "</style>\n",
       "<table border=\"1\" class=\"dataframe\">\n",
       "  <thead>\n",
       "    <tr style=\"text-align: right;\">\n",
       "      <th></th>\n",
       "      <th>Name</th>\n",
       "      <th>Platform</th>\n",
       "      <th>Year_of_Release</th>\n",
       "      <th>Genre</th>\n",
       "      <th>NA_sales</th>\n",
       "      <th>EU_sales</th>\n",
       "      <th>JP_sales</th>\n",
       "      <th>Other_sales</th>\n",
       "      <th>Critic_Score</th>\n",
       "      <th>User_Score</th>\n",
       "      <th>Rating</th>\n",
       "    </tr>\n",
       "  </thead>\n",
       "  <tbody>\n",
       "    <tr>\n",
       "      <th>1200</th>\n",
       "      <td>LEGO Pirates of the Caribbean: The Video Game</td>\n",
       "      <td>Wii</td>\n",
       "      <td>2011.0</td>\n",
       "      <td>Action</td>\n",
       "      <td>0.73</td>\n",
       "      <td>0.67</td>\n",
       "      <td>0.00</td>\n",
       "      <td>0.15</td>\n",
       "      <td>73.0</td>\n",
       "      <td>7</td>\n",
       "      <td>E10+</td>\n",
       "    </tr>\n",
       "    <tr>\n",
       "      <th>16361</th>\n",
       "      <td>PDC World Championship Darts 2009</td>\n",
       "      <td>Wii</td>\n",
       "      <td>2009.0</td>\n",
       "      <td>Sports</td>\n",
       "      <td>0.00</td>\n",
       "      <td>0.01</td>\n",
       "      <td>0.00</td>\n",
       "      <td>0.00</td>\n",
       "      <td>NaN</td>\n",
       "      <td>NaN</td>\n",
       "      <td>NaN</td>\n",
       "    </tr>\n",
       "    <tr>\n",
       "      <th>337</th>\n",
       "      <td>Assassin's Creed IV: Black Flag</td>\n",
       "      <td>PS3</td>\n",
       "      <td>2013.0</td>\n",
       "      <td>Action</td>\n",
       "      <td>1.33</td>\n",
       "      <td>1.68</td>\n",
       "      <td>0.13</td>\n",
       "      <td>0.57</td>\n",
       "      <td>88.0</td>\n",
       "      <td>8.1</td>\n",
       "      <td>M</td>\n",
       "    </tr>\n",
       "    <tr>\n",
       "      <th>12769</th>\n",
       "      <td>Generation of Chaos</td>\n",
       "      <td>PSP</td>\n",
       "      <td>2005.0</td>\n",
       "      <td>Role-Playing</td>\n",
       "      <td>0.05</td>\n",
       "      <td>0.00</td>\n",
       "      <td>0.00</td>\n",
       "      <td>0.00</td>\n",
       "      <td>60.0</td>\n",
       "      <td>7.7</td>\n",
       "      <td>T</td>\n",
       "    </tr>\n",
       "    <tr>\n",
       "      <th>16572</th>\n",
       "      <td>King's Bounty: Armored Princess</td>\n",
       "      <td>PC</td>\n",
       "      <td>2009.0</td>\n",
       "      <td>Role-Playing</td>\n",
       "      <td>0.00</td>\n",
       "      <td>0.01</td>\n",
       "      <td>0.00</td>\n",
       "      <td>0.00</td>\n",
       "      <td>82.0</td>\n",
       "      <td>8.6</td>\n",
       "      <td>T</td>\n",
       "    </tr>\n",
       "    <tr>\n",
       "      <th>3644</th>\n",
       "      <td>Contender 2</td>\n",
       "      <td>PS</td>\n",
       "      <td>2000.0</td>\n",
       "      <td>Fighting</td>\n",
       "      <td>0.31</td>\n",
       "      <td>0.21</td>\n",
       "      <td>0.00</td>\n",
       "      <td>0.04</td>\n",
       "      <td>NaN</td>\n",
       "      <td>tbd</td>\n",
       "      <td>T</td>\n",
       "    </tr>\n",
       "    <tr>\n",
       "      <th>12450</th>\n",
       "      <td>Biker Mice From Mars</td>\n",
       "      <td>PS2</td>\n",
       "      <td>2006.0</td>\n",
       "      <td>Racing</td>\n",
       "      <td>0.03</td>\n",
       "      <td>0.02</td>\n",
       "      <td>0.00</td>\n",
       "      <td>0.01</td>\n",
       "      <td>27.0</td>\n",
       "      <td>tbd</td>\n",
       "      <td>E10+</td>\n",
       "    </tr>\n",
       "    <tr>\n",
       "      <th>980</th>\n",
       "      <td>Professor Layton and the Mask of Miracle</td>\n",
       "      <td>3DS</td>\n",
       "      <td>2011.0</td>\n",
       "      <td>Puzzle</td>\n",
       "      <td>0.32</td>\n",
       "      <td>0.97</td>\n",
       "      <td>0.36</td>\n",
       "      <td>0.13</td>\n",
       "      <td>NaN</td>\n",
       "      <td>NaN</td>\n",
       "      <td>NaN</td>\n",
       "    </tr>\n",
       "    <tr>\n",
       "      <th>9492</th>\n",
       "      <td>Space Camp</td>\n",
       "      <td>Wii</td>\n",
       "      <td>2009.0</td>\n",
       "      <td>Action</td>\n",
       "      <td>0.12</td>\n",
       "      <td>0.00</td>\n",
       "      <td>0.00</td>\n",
       "      <td>0.01</td>\n",
       "      <td>NaN</td>\n",
       "      <td>6.2</td>\n",
       "      <td>E</td>\n",
       "    </tr>\n",
       "    <tr>\n",
       "      <th>1842</th>\n",
       "      <td>NBA Jam Tournament Edition</td>\n",
       "      <td>GEN</td>\n",
       "      <td>1994.0</td>\n",
       "      <td>Sports</td>\n",
       "      <td>0.95</td>\n",
       "      <td>0.14</td>\n",
       "      <td>0.00</td>\n",
       "      <td>0.03</td>\n",
       "      <td>NaN</td>\n",
       "      <td>NaN</td>\n",
       "      <td>NaN</td>\n",
       "    </tr>\n",
       "  </tbody>\n",
       "</table>\n",
       "</div>"
      ],
      "text/plain": [
       "                                                Name Platform  \\\n",
       "1200   LEGO Pirates of the Caribbean: The Video Game      Wii   \n",
       "16361              PDC World Championship Darts 2009      Wii   \n",
       "337                  Assassin's Creed IV: Black Flag      PS3   \n",
       "12769                            Generation of Chaos      PSP   \n",
       "16572                King's Bounty: Armored Princess       PC   \n",
       "3644                                     Contender 2       PS   \n",
       "12450                           Biker Mice From Mars      PS2   \n",
       "980         Professor Layton and the Mask of Miracle      3DS   \n",
       "9492                                      Space Camp      Wii   \n",
       "1842                      NBA Jam Tournament Edition      GEN   \n",
       "\n",
       "       Year_of_Release         Genre  NA_sales  EU_sales  JP_sales  \\\n",
       "1200            2011.0        Action      0.73      0.67      0.00   \n",
       "16361           2009.0        Sports      0.00      0.01      0.00   \n",
       "337             2013.0        Action      1.33      1.68      0.13   \n",
       "12769           2005.0  Role-Playing      0.05      0.00      0.00   \n",
       "16572           2009.0  Role-Playing      0.00      0.01      0.00   \n",
       "3644            2000.0      Fighting      0.31      0.21      0.00   \n",
       "12450           2006.0        Racing      0.03      0.02      0.00   \n",
       "980             2011.0        Puzzle      0.32      0.97      0.36   \n",
       "9492            2009.0        Action      0.12      0.00      0.00   \n",
       "1842            1994.0        Sports      0.95      0.14      0.00   \n",
       "\n",
       "       Other_sales  Critic_Score User_Score Rating  \n",
       "1200          0.15          73.0          7   E10+  \n",
       "16361         0.00           NaN        NaN    NaN  \n",
       "337           0.57          88.0        8.1      M  \n",
       "12769         0.00          60.0        7.7      T  \n",
       "16572         0.00          82.0        8.6      T  \n",
       "3644          0.04           NaN        tbd      T  \n",
       "12450         0.01          27.0        tbd   E10+  \n",
       "980           0.13           NaN        NaN    NaN  \n",
       "9492          0.01           NaN        6.2      E  \n",
       "1842          0.03           NaN        NaN    NaN  "
      ]
     },
     "execution_count": 3,
     "metadata": {},
     "output_type": "execute_result"
    }
   ],
   "source": [
    "# mostrar información del DataSet\n",
    "df.info()\n",
    "df.sample(10)"
   ]
  },
  {
   "cell_type": "markdown",
   "metadata": {},
   "source": [
    "Podemos ver varios detalles:\n",
    "    \n",
    "- La columnas tienen nombres con mayusculas, y nosotros las necesitamos en 'snake_case'.  \n",
    "- La columna 'Year_of_release' está en tipo float.\n",
    "- La columna 'User_Score' es tipo object y tiene valores extraños como 'tdb'.\n",
    "- Vemos valores nulos en las columnas 'Name', 'Year_of_release', 'Genre', 'Critic_Score', 'User_score' y 'Rating'. \n",
    "\n",
    "Se irán atendiendo estos errores pero haré una revisión columna a columna."
   ]
  },
  {
   "cell_type": "markdown",
   "metadata": {},
   "source": [
    "## Corrección de errores en el DataSet"
   ]
  },
  {
   "cell_type": "markdown",
   "metadata": {},
   "source": [
    "Haremos una profunda revisión a cada una de las columnas buscando:\n",
    "- duplicados y sus causas\n",
    "- nulos y sus causas\n",
    "- errores en tipo"
   ]
  },
  {
   "cell_type": "markdown",
   "metadata": {},
   "source": [
    "### columnas a snake_case"
   ]
  },
  {
   "cell_type": "code",
   "execution_count": 4,
   "metadata": {
    "trusted": false
   },
   "outputs": [
    {
     "data": {
      "text/plain": [
       "Index(['name', 'platform', 'year_of_release', 'genre', 'na_sales', 'eu_sales',\n",
       "       'jp_sales', 'other_sales', 'critic_score', 'user_score', 'rating'],\n",
       "      dtype='object')"
      ]
     },
     "execution_count": 4,
     "metadata": {},
     "output_type": "execute_result"
    }
   ],
   "source": [
    "column_names = list(df.columns)\n",
    "column_names = [x.lower() for x in column_names]\n",
    "df.columns = column_names\n",
    "df.columns"
   ]
  },
  {
   "cell_type": "markdown",
   "metadata": {},
   "source": [
    "No se observó ningun problema en particular, el cambio en los nombres de las columnas se realizó satisfactoriamente"
   ]
  },
  {
   "cell_type": "markdown",
   "metadata": {},
   "source": [
    "### columna 'name':"
   ]
  },
  {
   "cell_type": "markdown",
   "metadata": {},
   "source": [
    "Haremos una revisión de la columna name"
   ]
  },
  {
   "cell_type": "markdown",
   "metadata": {},
   "source": [
    "#### valores nulos:"
   ]
  },
  {
   "cell_type": "code",
   "execution_count": 5,
   "metadata": {
    "trusted": false
   },
   "outputs": [
    {
     "data": {
      "text/html": [
       "<div>\n",
       "<style scoped>\n",
       "    .dataframe tbody tr th:only-of-type {\n",
       "        vertical-align: middle;\n",
       "    }\n",
       "\n",
       "    .dataframe tbody tr th {\n",
       "        vertical-align: top;\n",
       "    }\n",
       "\n",
       "    .dataframe thead th {\n",
       "        text-align: right;\n",
       "    }\n",
       "</style>\n",
       "<table border=\"1\" class=\"dataframe\">\n",
       "  <thead>\n",
       "    <tr style=\"text-align: right;\">\n",
       "      <th></th>\n",
       "      <th>name</th>\n",
       "      <th>platform</th>\n",
       "      <th>year_of_release</th>\n",
       "      <th>genre</th>\n",
       "      <th>na_sales</th>\n",
       "      <th>eu_sales</th>\n",
       "      <th>jp_sales</th>\n",
       "      <th>other_sales</th>\n",
       "      <th>critic_score</th>\n",
       "      <th>user_score</th>\n",
       "      <th>rating</th>\n",
       "    </tr>\n",
       "  </thead>\n",
       "  <tbody>\n",
       "    <tr>\n",
       "      <th>659</th>\n",
       "      <td>NaN</td>\n",
       "      <td>GEN</td>\n",
       "      <td>1993.0</td>\n",
       "      <td>NaN</td>\n",
       "      <td>1.78</td>\n",
       "      <td>0.53</td>\n",
       "      <td>0.00</td>\n",
       "      <td>0.08</td>\n",
       "      <td>NaN</td>\n",
       "      <td>NaN</td>\n",
       "      <td>NaN</td>\n",
       "    </tr>\n",
       "    <tr>\n",
       "      <th>14244</th>\n",
       "      <td>NaN</td>\n",
       "      <td>GEN</td>\n",
       "      <td>1993.0</td>\n",
       "      <td>NaN</td>\n",
       "      <td>0.00</td>\n",
       "      <td>0.00</td>\n",
       "      <td>0.03</td>\n",
       "      <td>0.00</td>\n",
       "      <td>NaN</td>\n",
       "      <td>NaN</td>\n",
       "      <td>NaN</td>\n",
       "    </tr>\n",
       "  </tbody>\n",
       "</table>\n",
       "</div>"
      ],
      "text/plain": [
       "      name platform  year_of_release genre  na_sales  eu_sales  jp_sales  \\\n",
       "659    NaN      GEN           1993.0   NaN      1.78      0.53      0.00   \n",
       "14244  NaN      GEN           1993.0   NaN      0.00      0.00      0.03   \n",
       "\n",
       "       other_sales  critic_score user_score rating  \n",
       "659           0.08           NaN        NaN    NaN  \n",
       "14244         0.00           NaN        NaN    NaN  "
      ]
     },
     "execution_count": 5,
     "metadata": {},
     "output_type": "execute_result"
    }
   ],
   "source": [
    "df[df['name'].isna()]"
   ]
  },
  {
   "cell_type": "markdown",
   "metadata": {},
   "source": [
    "Vemos dos valores nulos en name, son juegos de los cuales no poseemos el nombre, pero al tener las ventas podemos mantenerlos así, en futuros análisis podemos ponerlos en grupos como 'otros'"
   ]
  },
  {
   "cell_type": "markdown",
   "metadata": {},
   "source": [
    "#### duplicados:"
   ]
  },
  {
   "cell_type": "code",
   "execution_count": 6,
   "metadata": {
    "trusted": false
   },
   "outputs": [
    {
     "data": {
      "text/html": [
       "<div>\n",
       "<style scoped>\n",
       "    .dataframe tbody tr th:only-of-type {\n",
       "        vertical-align: middle;\n",
       "    }\n",
       "\n",
       "    .dataframe tbody tr th {\n",
       "        vertical-align: top;\n",
       "    }\n",
       "\n",
       "    .dataframe thead th {\n",
       "        text-align: right;\n",
       "    }\n",
       "</style>\n",
       "<table border=\"1\" class=\"dataframe\">\n",
       "  <thead>\n",
       "    <tr style=\"text-align: right;\">\n",
       "      <th></th>\n",
       "      <th>name</th>\n",
       "      <th>platform</th>\n",
       "      <th>year_of_release</th>\n",
       "      <th>genre</th>\n",
       "      <th>na_sales</th>\n",
       "      <th>eu_sales</th>\n",
       "      <th>jp_sales</th>\n",
       "      <th>other_sales</th>\n",
       "      <th>critic_score</th>\n",
       "      <th>user_score</th>\n",
       "      <th>rating</th>\n",
       "    </tr>\n",
       "  </thead>\n",
       "  <tbody>\n",
       "    <tr>\n",
       "      <th>3862</th>\n",
       "      <td>Frozen: Olaf's Quest</td>\n",
       "      <td>DS</td>\n",
       "      <td>2013.0</td>\n",
       "      <td>Platform</td>\n",
       "      <td>0.21</td>\n",
       "      <td>0.26</td>\n",
       "      <td>0.00</td>\n",
       "      <td>0.04</td>\n",
       "      <td>NaN</td>\n",
       "      <td>NaN</td>\n",
       "      <td>NaN</td>\n",
       "    </tr>\n",
       "    <tr>\n",
       "      <th>3358</th>\n",
       "      <td>Frozen: Olaf's Quest</td>\n",
       "      <td>3DS</td>\n",
       "      <td>2013.0</td>\n",
       "      <td>Platform</td>\n",
       "      <td>0.27</td>\n",
       "      <td>0.27</td>\n",
       "      <td>0.00</td>\n",
       "      <td>0.05</td>\n",
       "      <td>NaN</td>\n",
       "      <td>NaN</td>\n",
       "      <td>NaN</td>\n",
       "    </tr>\n",
       "    <tr>\n",
       "      <th>14658</th>\n",
       "      <td>007: Quantum of Solace</td>\n",
       "      <td>PC</td>\n",
       "      <td>2008.0</td>\n",
       "      <td>Action</td>\n",
       "      <td>0.01</td>\n",
       "      <td>0.01</td>\n",
       "      <td>0.00</td>\n",
       "      <td>0.00</td>\n",
       "      <td>70.0</td>\n",
       "      <td>6.3</td>\n",
       "      <td>T</td>\n",
       "    </tr>\n",
       "    <tr>\n",
       "      <th>9507</th>\n",
       "      <td>007: Quantum of Solace</td>\n",
       "      <td>DS</td>\n",
       "      <td>2008.0</td>\n",
       "      <td>Action</td>\n",
       "      <td>0.11</td>\n",
       "      <td>0.01</td>\n",
       "      <td>0.00</td>\n",
       "      <td>0.01</td>\n",
       "      <td>65.0</td>\n",
       "      <td>tbd</td>\n",
       "      <td>T</td>\n",
       "    </tr>\n",
       "    <tr>\n",
       "      <th>3120</th>\n",
       "      <td>007: Quantum of Solace</td>\n",
       "      <td>Wii</td>\n",
       "      <td>2008.0</td>\n",
       "      <td>Action</td>\n",
       "      <td>0.29</td>\n",
       "      <td>0.28</td>\n",
       "      <td>0.01</td>\n",
       "      <td>0.07</td>\n",
       "      <td>54.0</td>\n",
       "      <td>7.5</td>\n",
       "      <td>T</td>\n",
       "    </tr>\n",
       "    <tr>\n",
       "      <th>...</th>\n",
       "      <td>...</td>\n",
       "      <td>...</td>\n",
       "      <td>...</td>\n",
       "      <td>...</td>\n",
       "      <td>...</td>\n",
       "      <td>...</td>\n",
       "      <td>...</td>\n",
       "      <td>...</td>\n",
       "      <td>...</td>\n",
       "      <td>...</td>\n",
       "      <td>...</td>\n",
       "    </tr>\n",
       "    <tr>\n",
       "      <th>12648</th>\n",
       "      <td>pro evolution soccer 2011</td>\n",
       "      <td>PC</td>\n",
       "      <td>2010.0</td>\n",
       "      <td>Sports</td>\n",
       "      <td>0.00</td>\n",
       "      <td>0.05</td>\n",
       "      <td>0.00</td>\n",
       "      <td>0.01</td>\n",
       "      <td>79.0</td>\n",
       "      <td>NaN</td>\n",
       "      <td>NaN</td>\n",
       "    </tr>\n",
       "    <tr>\n",
       "      <th>15612</th>\n",
       "      <td>uDraw Studio: Instant Artist</td>\n",
       "      <td>X360</td>\n",
       "      <td>2011.0</td>\n",
       "      <td>Misc</td>\n",
       "      <td>0.01</td>\n",
       "      <td>0.01</td>\n",
       "      <td>0.00</td>\n",
       "      <td>0.00</td>\n",
       "      <td>54.0</td>\n",
       "      <td>5.7</td>\n",
       "      <td>E</td>\n",
       "    </tr>\n",
       "    <tr>\n",
       "      <th>8280</th>\n",
       "      <td>uDraw Studio: Instant Artist</td>\n",
       "      <td>Wii</td>\n",
       "      <td>2011.0</td>\n",
       "      <td>Misc</td>\n",
       "      <td>0.06</td>\n",
       "      <td>0.09</td>\n",
       "      <td>0.00</td>\n",
       "      <td>0.02</td>\n",
       "      <td>NaN</td>\n",
       "      <td>tbd</td>\n",
       "      <td>E</td>\n",
       "    </tr>\n",
       "    <tr>\n",
       "      <th>659</th>\n",
       "      <td>NaN</td>\n",
       "      <td>GEN</td>\n",
       "      <td>1993.0</td>\n",
       "      <td>NaN</td>\n",
       "      <td>1.78</td>\n",
       "      <td>0.53</td>\n",
       "      <td>0.00</td>\n",
       "      <td>0.08</td>\n",
       "      <td>NaN</td>\n",
       "      <td>NaN</td>\n",
       "      <td>NaN</td>\n",
       "    </tr>\n",
       "    <tr>\n",
       "      <th>14244</th>\n",
       "      <td>NaN</td>\n",
       "      <td>GEN</td>\n",
       "      <td>1993.0</td>\n",
       "      <td>NaN</td>\n",
       "      <td>0.00</td>\n",
       "      <td>0.00</td>\n",
       "      <td>0.03</td>\n",
       "      <td>0.00</td>\n",
       "      <td>NaN</td>\n",
       "      <td>NaN</td>\n",
       "      <td>NaN</td>\n",
       "    </tr>\n",
       "  </tbody>\n",
       "</table>\n",
       "<p>7961 rows × 11 columns</p>\n",
       "</div>"
      ],
      "text/plain": [
       "                               name platform  year_of_release     genre  \\\n",
       "3862           Frozen: Olaf's Quest       DS           2013.0  Platform   \n",
       "3358           Frozen: Olaf's Quest      3DS           2013.0  Platform   \n",
       "14658        007: Quantum of Solace       PC           2008.0    Action   \n",
       "9507         007: Quantum of Solace       DS           2008.0    Action   \n",
       "3120         007: Quantum of Solace      Wii           2008.0    Action   \n",
       "...                             ...      ...              ...       ...   \n",
       "12648     pro evolution soccer 2011       PC           2010.0    Sports   \n",
       "15612  uDraw Studio: Instant Artist     X360           2011.0      Misc   \n",
       "8280   uDraw Studio: Instant Artist      Wii           2011.0      Misc   \n",
       "659                             NaN      GEN           1993.0       NaN   \n",
       "14244                           NaN      GEN           1993.0       NaN   \n",
       "\n",
       "       na_sales  eu_sales  jp_sales  other_sales  critic_score user_score  \\\n",
       "3862       0.21      0.26      0.00         0.04           NaN        NaN   \n",
       "3358       0.27      0.27      0.00         0.05           NaN        NaN   \n",
       "14658      0.01      0.01      0.00         0.00          70.0        6.3   \n",
       "9507       0.11      0.01      0.00         0.01          65.0        tbd   \n",
       "3120       0.29      0.28      0.01         0.07          54.0        7.5   \n",
       "...         ...       ...       ...          ...           ...        ...   \n",
       "12648      0.00      0.05      0.00         0.01          79.0        NaN   \n",
       "15612      0.01      0.01      0.00         0.00          54.0        5.7   \n",
       "8280       0.06      0.09      0.00         0.02           NaN        tbd   \n",
       "659        1.78      0.53      0.00         0.08           NaN        NaN   \n",
       "14244      0.00      0.00      0.03         0.00           NaN        NaN   \n",
       "\n",
       "      rating  \n",
       "3862     NaN  \n",
       "3358     NaN  \n",
       "14658      T  \n",
       "9507       T  \n",
       "3120       T  \n",
       "...      ...  \n",
       "12648    NaN  \n",
       "15612      E  \n",
       "8280       E  \n",
       "659      NaN  \n",
       "14244    NaN  \n",
       "\n",
       "[7961 rows x 11 columns]"
      ]
     },
     "execution_count": 6,
     "metadata": {},
     "output_type": "execute_result"
    }
   ],
   "source": [
    "df[df['name'].duplicated(keep=False)].sort_values(by='name')"
   ]
  },
  {
   "cell_type": "markdown",
   "metadata": {},
   "source": [
    "Tenemos casi 8000 nombres que se repiten, algunos de estos son lanzamientos del mismo juego en distintas consolas, no debemos eliminarlos. Creo que si se repite tanto en nombre como en plataforma tenemos juegos duplicados completamente, lo tomaré en cuenta en análisis mas profundos."
   ]
  },
  {
   "cell_type": "markdown",
   "metadata": {},
   "source": [
    "### columna 'platform':"
   ]
  },
  {
   "cell_type": "markdown",
   "metadata": {},
   "source": [
    "Procederemos a analizar la columna 'platform'"
   ]
  },
  {
   "cell_type": "markdown",
   "metadata": {},
   "source": [
    "#### valores nulos:"
   ]
  },
  {
   "cell_type": "code",
   "execution_count": 7,
   "metadata": {
    "trusted": false
   },
   "outputs": [
    {
     "data": {
      "text/html": [
       "<div>\n",
       "<style scoped>\n",
       "    .dataframe tbody tr th:only-of-type {\n",
       "        vertical-align: middle;\n",
       "    }\n",
       "\n",
       "    .dataframe tbody tr th {\n",
       "        vertical-align: top;\n",
       "    }\n",
       "\n",
       "    .dataframe thead th {\n",
       "        text-align: right;\n",
       "    }\n",
       "</style>\n",
       "<table border=\"1\" class=\"dataframe\">\n",
       "  <thead>\n",
       "    <tr style=\"text-align: right;\">\n",
       "      <th></th>\n",
       "      <th>name</th>\n",
       "      <th>platform</th>\n",
       "      <th>year_of_release</th>\n",
       "      <th>genre</th>\n",
       "      <th>na_sales</th>\n",
       "      <th>eu_sales</th>\n",
       "      <th>jp_sales</th>\n",
       "      <th>other_sales</th>\n",
       "      <th>critic_score</th>\n",
       "      <th>user_score</th>\n",
       "      <th>rating</th>\n",
       "    </tr>\n",
       "  </thead>\n",
       "  <tbody>\n",
       "  </tbody>\n",
       "</table>\n",
       "</div>"
      ],
      "text/plain": [
       "Empty DataFrame\n",
       "Columns: [name, platform, year_of_release, genre, na_sales, eu_sales, jp_sales, other_sales, critic_score, user_score, rating]\n",
       "Index: []"
      ]
     },
     "execution_count": 7,
     "metadata": {},
     "output_type": "execute_result"
    }
   ],
   "source": [
    "df[df['platform'].isna()]"
   ]
  },
  {
   "cell_type": "markdown",
   "metadata": {},
   "source": [
    "No existen valores nulos"
   ]
  },
  {
   "cell_type": "markdown",
   "metadata": {},
   "source": [
    "#### duplicados y únicos"
   ]
  },
  {
   "cell_type": "code",
   "execution_count": 8,
   "metadata": {
    "trusted": false
   },
   "outputs": [
    {
     "data": {
      "text/plain": [
       "array(['Wii', 'NES', 'GB', 'DS', 'X360', 'PS3', 'PS2', 'SNES', 'GBA',\n",
       "       'PS4', '3DS', 'N64', 'PS', 'XB', 'PC', '2600', 'PSP', 'XOne',\n",
       "       'WiiU', 'GC', 'GEN', 'DC', 'PSV', 'SAT', 'SCD', 'WS', 'NG', 'TG16',\n",
       "       '3DO', 'GG', 'PCFX'], dtype=object)"
      ]
     },
     "execution_count": 8,
     "metadata": {},
     "output_type": "execute_result"
    }
   ],
   "source": [
    "df['platform'].unique()"
   ]
  },
  {
   "cell_type": "markdown",
   "metadata": {},
   "source": [
    "No encontramos errores gramaticales en las plataformas. No tiene sentido buscar duplicados en esta columna."
   ]
  },
  {
   "cell_type": "markdown",
   "metadata": {},
   "source": [
    "### columna 'year_of_release'"
   ]
  },
  {
   "cell_type": "markdown",
   "metadata": {},
   "source": [
    "Analizaremos la columna 'year_of_release'. en esta columna vimos que su valor era float. tenemos que saber si es float porque contiene valores no enteros, o si tiene ese tipo de variable por valores NaN."
   ]
  },
  {
   "cell_type": "code",
   "execution_count": 9,
   "metadata": {
    "trusted": false
   },
   "outputs": [
    {
     "data": {
      "text/plain": [
       "array([nan])"
      ]
     },
     "execution_count": 9,
     "metadata": {},
     "output_type": "execute_result"
    }
   ],
   "source": [
    "# Aunque no creo que existan valores no enteros, haré una búsqueda para que me muestre aquellos valores que no sean enteros.\n",
    "df_auxiliar = df.query('year_of_release % 1 != 0')\n",
    "df_auxiliar['year_of_release'].unique()"
   ]
  },
  {
   "cell_type": "markdown",
   "metadata": {},
   "source": [
    "Vemos que solo tenemos números enteros o nulos. los valores nulos se almacenan en variable Float64, por lo que no haré cambios en el tipo de dato de la columna."
   ]
  },
  {
   "cell_type": "markdown",
   "metadata": {},
   "source": [
    "#### valores nulos"
   ]
  },
  {
   "cell_type": "code",
   "execution_count": 10,
   "metadata": {
    "trusted": false
   },
   "outputs": [
    {
     "data": {
      "text/html": [
       "<div>\n",
       "<style scoped>\n",
       "    .dataframe tbody tr th:only-of-type {\n",
       "        vertical-align: middle;\n",
       "    }\n",
       "\n",
       "    .dataframe tbody tr th {\n",
       "        vertical-align: top;\n",
       "    }\n",
       "\n",
       "    .dataframe thead th {\n",
       "        text-align: right;\n",
       "    }\n",
       "</style>\n",
       "<table border=\"1\" class=\"dataframe\">\n",
       "  <thead>\n",
       "    <tr style=\"text-align: right;\">\n",
       "      <th></th>\n",
       "      <th>name</th>\n",
       "      <th>platform</th>\n",
       "      <th>year_of_release</th>\n",
       "      <th>genre</th>\n",
       "      <th>na_sales</th>\n",
       "      <th>eu_sales</th>\n",
       "      <th>jp_sales</th>\n",
       "      <th>other_sales</th>\n",
       "      <th>critic_score</th>\n",
       "      <th>user_score</th>\n",
       "      <th>rating</th>\n",
       "    </tr>\n",
       "  </thead>\n",
       "  <tbody>\n",
       "    <tr>\n",
       "      <th>183</th>\n",
       "      <td>Madden NFL 2004</td>\n",
       "      <td>PS2</td>\n",
       "      <td>NaN</td>\n",
       "      <td>Sports</td>\n",
       "      <td>4.26</td>\n",
       "      <td>0.26</td>\n",
       "      <td>0.01</td>\n",
       "      <td>0.71</td>\n",
       "      <td>94.0</td>\n",
       "      <td>8.5</td>\n",
       "      <td>E</td>\n",
       "    </tr>\n",
       "    <tr>\n",
       "      <th>377</th>\n",
       "      <td>FIFA Soccer 2004</td>\n",
       "      <td>PS2</td>\n",
       "      <td>NaN</td>\n",
       "      <td>Sports</td>\n",
       "      <td>0.59</td>\n",
       "      <td>2.36</td>\n",
       "      <td>0.04</td>\n",
       "      <td>0.51</td>\n",
       "      <td>84.0</td>\n",
       "      <td>6.4</td>\n",
       "      <td>E</td>\n",
       "    </tr>\n",
       "    <tr>\n",
       "      <th>456</th>\n",
       "      <td>LEGO Batman: The Videogame</td>\n",
       "      <td>Wii</td>\n",
       "      <td>NaN</td>\n",
       "      <td>Action</td>\n",
       "      <td>1.80</td>\n",
       "      <td>0.97</td>\n",
       "      <td>0.00</td>\n",
       "      <td>0.29</td>\n",
       "      <td>74.0</td>\n",
       "      <td>7.9</td>\n",
       "      <td>E10+</td>\n",
       "    </tr>\n",
       "    <tr>\n",
       "      <th>475</th>\n",
       "      <td>wwe Smackdown vs. Raw 2006</td>\n",
       "      <td>PS2</td>\n",
       "      <td>NaN</td>\n",
       "      <td>Fighting</td>\n",
       "      <td>1.57</td>\n",
       "      <td>1.02</td>\n",
       "      <td>0.00</td>\n",
       "      <td>0.41</td>\n",
       "      <td>NaN</td>\n",
       "      <td>NaN</td>\n",
       "      <td>NaN</td>\n",
       "    </tr>\n",
       "    <tr>\n",
       "      <th>609</th>\n",
       "      <td>Space Invaders</td>\n",
       "      <td>2600</td>\n",
       "      <td>NaN</td>\n",
       "      <td>Shooter</td>\n",
       "      <td>2.36</td>\n",
       "      <td>0.14</td>\n",
       "      <td>0.00</td>\n",
       "      <td>0.03</td>\n",
       "      <td>NaN</td>\n",
       "      <td>NaN</td>\n",
       "      <td>NaN</td>\n",
       "    </tr>\n",
       "    <tr>\n",
       "      <th>...</th>\n",
       "      <td>...</td>\n",
       "      <td>...</td>\n",
       "      <td>...</td>\n",
       "      <td>...</td>\n",
       "      <td>...</td>\n",
       "      <td>...</td>\n",
       "      <td>...</td>\n",
       "      <td>...</td>\n",
       "      <td>...</td>\n",
       "      <td>...</td>\n",
       "      <td>...</td>\n",
       "    </tr>\n",
       "    <tr>\n",
       "      <th>16373</th>\n",
       "      <td>PDC World Championship Darts 2008</td>\n",
       "      <td>PSP</td>\n",
       "      <td>NaN</td>\n",
       "      <td>Sports</td>\n",
       "      <td>0.01</td>\n",
       "      <td>0.00</td>\n",
       "      <td>0.00</td>\n",
       "      <td>0.00</td>\n",
       "      <td>43.0</td>\n",
       "      <td>tbd</td>\n",
       "      <td>E10+</td>\n",
       "    </tr>\n",
       "    <tr>\n",
       "      <th>16405</th>\n",
       "      <td>Freaky Flyers</td>\n",
       "      <td>GC</td>\n",
       "      <td>NaN</td>\n",
       "      <td>Racing</td>\n",
       "      <td>0.01</td>\n",
       "      <td>0.00</td>\n",
       "      <td>0.00</td>\n",
       "      <td>0.00</td>\n",
       "      <td>69.0</td>\n",
       "      <td>6.5</td>\n",
       "      <td>T</td>\n",
       "    </tr>\n",
       "    <tr>\n",
       "      <th>16448</th>\n",
       "      <td>Inversion</td>\n",
       "      <td>PC</td>\n",
       "      <td>NaN</td>\n",
       "      <td>Shooter</td>\n",
       "      <td>0.01</td>\n",
       "      <td>0.00</td>\n",
       "      <td>0.00</td>\n",
       "      <td>0.00</td>\n",
       "      <td>59.0</td>\n",
       "      <td>6.7</td>\n",
       "      <td>M</td>\n",
       "    </tr>\n",
       "    <tr>\n",
       "      <th>16458</th>\n",
       "      <td>Hakuouki: Shinsengumi Kitan</td>\n",
       "      <td>PS3</td>\n",
       "      <td>NaN</td>\n",
       "      <td>Adventure</td>\n",
       "      <td>0.01</td>\n",
       "      <td>0.00</td>\n",
       "      <td>0.00</td>\n",
       "      <td>0.00</td>\n",
       "      <td>NaN</td>\n",
       "      <td>NaN</td>\n",
       "      <td>NaN</td>\n",
       "    </tr>\n",
       "    <tr>\n",
       "      <th>16522</th>\n",
       "      <td>Virtua Quest</td>\n",
       "      <td>GC</td>\n",
       "      <td>NaN</td>\n",
       "      <td>Role-Playing</td>\n",
       "      <td>0.01</td>\n",
       "      <td>0.00</td>\n",
       "      <td>0.00</td>\n",
       "      <td>0.00</td>\n",
       "      <td>55.0</td>\n",
       "      <td>5.5</td>\n",
       "      <td>T</td>\n",
       "    </tr>\n",
       "  </tbody>\n",
       "</table>\n",
       "<p>269 rows × 11 columns</p>\n",
       "</div>"
      ],
      "text/plain": [
       "                                    name platform  year_of_release  \\\n",
       "183                      Madden NFL 2004      PS2              NaN   \n",
       "377                     FIFA Soccer 2004      PS2              NaN   \n",
       "456           LEGO Batman: The Videogame      Wii              NaN   \n",
       "475           wwe Smackdown vs. Raw 2006      PS2              NaN   \n",
       "609                       Space Invaders     2600              NaN   \n",
       "...                                  ...      ...              ...   \n",
       "16373  PDC World Championship Darts 2008      PSP              NaN   \n",
       "16405                      Freaky Flyers       GC              NaN   \n",
       "16448                          Inversion       PC              NaN   \n",
       "16458        Hakuouki: Shinsengumi Kitan      PS3              NaN   \n",
       "16522                       Virtua Quest       GC              NaN   \n",
       "\n",
       "              genre  na_sales  eu_sales  jp_sales  other_sales  critic_score  \\\n",
       "183          Sports      4.26      0.26      0.01         0.71          94.0   \n",
       "377          Sports      0.59      2.36      0.04         0.51          84.0   \n",
       "456          Action      1.80      0.97      0.00         0.29          74.0   \n",
       "475        Fighting      1.57      1.02      0.00         0.41           NaN   \n",
       "609         Shooter      2.36      0.14      0.00         0.03           NaN   \n",
       "...             ...       ...       ...       ...          ...           ...   \n",
       "16373        Sports      0.01      0.00      0.00         0.00          43.0   \n",
       "16405        Racing      0.01      0.00      0.00         0.00          69.0   \n",
       "16448       Shooter      0.01      0.00      0.00         0.00          59.0   \n",
       "16458     Adventure      0.01      0.00      0.00         0.00           NaN   \n",
       "16522  Role-Playing      0.01      0.00      0.00         0.00          55.0   \n",
       "\n",
       "      user_score rating  \n",
       "183          8.5      E  \n",
       "377          6.4      E  \n",
       "456          7.9   E10+  \n",
       "475          NaN    NaN  \n",
       "609          NaN    NaN  \n",
       "...          ...    ...  \n",
       "16373        tbd   E10+  \n",
       "16405        6.5      T  \n",
       "16448        6.7      M  \n",
       "16458        NaN    NaN  \n",
       "16522        5.5      T  \n",
       "\n",
       "[269 rows x 11 columns]"
      ]
     },
     "execution_count": 10,
     "metadata": {},
     "output_type": "execute_result"
    }
   ],
   "source": [
    "df[df['year_of_release'].isna()]"
   ]
  },
  {
   "cell_type": "markdown",
   "metadata": {},
   "source": [
    "Tenemos 269 videojuegos que no tienen año de lamzamiento, podríamos buscar en internet los valores y enriquecer la tabla, pero por lo pronto lo dejaremos así. No tiene sentido buscar duplicados en esta columna."
   ]
  },
  {
   "cell_type": "markdown",
   "metadata": {},
   "source": [
    "### columna 'Genre'"
   ]
  },
  {
   "cell_type": "markdown",
   "metadata": {},
   "source": [
    "No encontramos problemas en un primer vistazo, pero haremos un vistaso profundo en esta columna."
   ]
  },
  {
   "cell_type": "code",
   "execution_count": 11,
   "metadata": {
    "trusted": false
   },
   "outputs": [
    {
     "data": {
      "text/plain": [
       "array(['Sports', 'Platform', 'Racing', 'Role-Playing', 'Puzzle', 'Misc',\n",
       "       'Shooter', 'Simulation', 'Action', 'Fighting', 'Adventure',\n",
       "       'Strategy', nan], dtype=object)"
      ]
     },
     "execution_count": 11,
     "metadata": {},
     "output_type": "execute_result"
    }
   ],
   "source": [
    "df['genre'].unique()"
   ]
  },
  {
   "cell_type": "markdown",
   "metadata": {},
   "source": [
    "No tenemos generos con errores gramaticales, pero observamos que contiene valores nulos."
   ]
  },
  {
   "cell_type": "markdown",
   "metadata": {},
   "source": [
    "#### valores nulos:"
   ]
  },
  {
   "cell_type": "code",
   "execution_count": 12,
   "metadata": {
    "trusted": false
   },
   "outputs": [
    {
     "data": {
      "text/html": [
       "<div>\n",
       "<style scoped>\n",
       "    .dataframe tbody tr th:only-of-type {\n",
       "        vertical-align: middle;\n",
       "    }\n",
       "\n",
       "    .dataframe tbody tr th {\n",
       "        vertical-align: top;\n",
       "    }\n",
       "\n",
       "    .dataframe thead th {\n",
       "        text-align: right;\n",
       "    }\n",
       "</style>\n",
       "<table border=\"1\" class=\"dataframe\">\n",
       "  <thead>\n",
       "    <tr style=\"text-align: right;\">\n",
       "      <th></th>\n",
       "      <th>name</th>\n",
       "      <th>platform</th>\n",
       "      <th>year_of_release</th>\n",
       "      <th>genre</th>\n",
       "      <th>na_sales</th>\n",
       "      <th>eu_sales</th>\n",
       "      <th>jp_sales</th>\n",
       "      <th>other_sales</th>\n",
       "      <th>critic_score</th>\n",
       "      <th>user_score</th>\n",
       "      <th>rating</th>\n",
       "    </tr>\n",
       "  </thead>\n",
       "  <tbody>\n",
       "    <tr>\n",
       "      <th>659</th>\n",
       "      <td>NaN</td>\n",
       "      <td>GEN</td>\n",
       "      <td>1993.0</td>\n",
       "      <td>NaN</td>\n",
       "      <td>1.78</td>\n",
       "      <td>0.53</td>\n",
       "      <td>0.00</td>\n",
       "      <td>0.08</td>\n",
       "      <td>NaN</td>\n",
       "      <td>NaN</td>\n",
       "      <td>NaN</td>\n",
       "    </tr>\n",
       "    <tr>\n",
       "      <th>14244</th>\n",
       "      <td>NaN</td>\n",
       "      <td>GEN</td>\n",
       "      <td>1993.0</td>\n",
       "      <td>NaN</td>\n",
       "      <td>0.00</td>\n",
       "      <td>0.00</td>\n",
       "      <td>0.03</td>\n",
       "      <td>0.00</td>\n",
       "      <td>NaN</td>\n",
       "      <td>NaN</td>\n",
       "      <td>NaN</td>\n",
       "    </tr>\n",
       "  </tbody>\n",
       "</table>\n",
       "</div>"
      ],
      "text/plain": [
       "      name platform  year_of_release genre  na_sales  eu_sales  jp_sales  \\\n",
       "659    NaN      GEN           1993.0   NaN      1.78      0.53      0.00   \n",
       "14244  NaN      GEN           1993.0   NaN      0.00      0.00      0.03   \n",
       "\n",
       "       other_sales  critic_score user_score rating  \n",
       "659           0.08           NaN        NaN    NaN  \n",
       "14244         0.00           NaN        NaN    NaN  "
      ]
     },
     "execution_count": 12,
     "metadata": {},
     "output_type": "execute_result"
    }
   ],
   "source": [
    "df[df['genre'].isna()]"
   ]
  },
  {
   "cell_type": "markdown",
   "metadata": {},
   "source": [
    "Es entendible que al no saber el nombre no tengamos información del género del juego, los matendré porque ocntienen ventas que pueden sumarse al año de 1993. No tiene sentido buscar duplicados en esta columna."
   ]
  },
  {
   "cell_type": "markdown",
   "metadata": {},
   "source": [
    "### Columna 'na_sales':"
   ]
  },
  {
   "cell_type": "markdown",
   "metadata": {},
   "source": [
    "Vemos de entrada que tiene valores nulos, los cambiaré a 0 pues esto significa que no hubo ventas en la región."
   ]
  },
  {
   "cell_type": "markdown",
   "metadata": {},
   "source": [
    "#### valores nulos:"
   ]
  },
  {
   "cell_type": "code",
   "execution_count": 13,
   "metadata": {
    "trusted": false
   },
   "outputs": [
    {
     "data": {
      "text/plain": [
       "np.int64(0)"
      ]
     },
     "execution_count": 13,
     "metadata": {},
     "output_type": "execute_result"
    }
   ],
   "source": [
    "df['na_sales'] = df['na_sales'].fillna(0)\n",
    "df['na_sales'].isna().sum()"
   ]
  },
  {
   "cell_type": "markdown",
   "metadata": {},
   "source": [
    "Comprobamos que no tuviera nulos la columna. No tiene sentido buscar duplicados en esta columna."
   ]
  },
  {
   "cell_type": "markdown",
   "metadata": {},
   "source": [
    "### Columna 'eu_sales':"
   ]
  },
  {
   "cell_type": "markdown",
   "metadata": {},
   "source": [
    "Haremos el mismo procedimiento que n la columna 'na_sales':"
   ]
  },
  {
   "cell_type": "code",
   "execution_count": 14,
   "metadata": {
    "trusted": false
   },
   "outputs": [
    {
     "data": {
      "text/plain": [
       "np.int64(0)"
      ]
     },
     "execution_count": 14,
     "metadata": {},
     "output_type": "execute_result"
    }
   ],
   "source": [
    "df['eu_sales'] = df['eu_sales'].fillna(0)\n",
    "df['eu_sales'].isna().sum()"
   ]
  },
  {
   "cell_type": "markdown",
   "metadata": {},
   "source": [
    "### Columna 'jp_sales':"
   ]
  },
  {
   "cell_type": "markdown",
   "metadata": {},
   "source": [
    "Haremos el mismo procedimiento que n la columna 'na_sales':"
   ]
  },
  {
   "cell_type": "code",
   "execution_count": 15,
   "metadata": {
    "trusted": false
   },
   "outputs": [
    {
     "data": {
      "text/plain": [
       "np.int64(0)"
      ]
     },
     "execution_count": 15,
     "metadata": {},
     "output_type": "execute_result"
    }
   ],
   "source": [
    "df['jp_sales'] = df['jp_sales'].fillna(0)\n",
    "df['jp_sales'].isna().sum()"
   ]
  },
  {
   "cell_type": "markdown",
   "metadata": {},
   "source": [
    "### Columna 'other_sales':"
   ]
  },
  {
   "cell_type": "markdown",
   "metadata": {},
   "source": [
    "Haremos el mismo procedimiento que n la columna anterior."
   ]
  },
  {
   "cell_type": "code",
   "execution_count": 16,
   "metadata": {
    "trusted": false
   },
   "outputs": [
    {
     "data": {
      "text/plain": [
       "np.int64(0)"
      ]
     },
     "execution_count": 16,
     "metadata": {},
     "output_type": "execute_result"
    }
   ],
   "source": [
    "df['other_sales'] = df['other_sales'].fillna(0)\n",
    "df['other_sales'].isna().sum()"
   ]
  },
  {
   "cell_type": "markdown",
   "metadata": {},
   "source": [
    "### Columna 'critic_score':"
   ]
  },
  {
   "cell_type": "markdown",
   "metadata": {},
   "source": [
    "En esta columna no se ve ningun problema. los vlaores nulos son debido a que no se tiene crítica sobre el juego, se mantendrá el valor nulo."
   ]
  },
  {
   "cell_type": "markdown",
   "metadata": {},
   "source": [
    "### columna 'user_score'"
   ]
  },
  {
   "cell_type": "markdown",
   "metadata": {},
   "source": [
    "esta columna tiene el tipo object. significa que o tiene strings, o tiene el tipo de variable errado."
   ]
  },
  {
   "cell_type": "code",
   "execution_count": 17,
   "metadata": {
    "trusted": false
   },
   "outputs": [
    {
     "data": {
      "text/plain": [
       "array(['0', '0.2', '0.3', '0.5', '0.6', '0.7', '0.9', '1', '1.1', '1.2',\n",
       "       '1.3', '1.4', '1.5', '1.6', '1.7', '1.8', '1.9', '2', '2.1', '2.2',\n",
       "       '2.3', '2.4', '2.5', '2.6', '2.7', '2.8', '2.9', '3', '3.1', '3.2',\n",
       "       '3.3', '3.4', '3.5', '3.6', '3.7', '3.8', '3.9', '4', '4.1', '4.2',\n",
       "       '4.3', '4.4', '4.5', '4.6', '4.7', '4.8', '4.9', '5', '5.1', '5.2',\n",
       "       '5.3', '5.4', '5.5', '5.6', '5.7', '5.8', '5.9', '6', '6.1', '6.2',\n",
       "       '6.3', '6.4', '6.5', '6.6', '6.7', '6.8', '6.9', '7', '7.1', '7.2',\n",
       "       '7.3', '7.4', '7.5', '7.6', '7.7', '7.8', '7.9', '8', '8.1', '8.2',\n",
       "       '8.3', '8.4', '8.5', '8.6', '8.7', '8.8', '8.9', '9', '9.1', '9.2',\n",
       "       '9.3', '9.4', '9.5', '9.6', '9.7', 'tbd', nan], dtype=object)"
      ]
     },
     "execution_count": 17,
     "metadata": {},
     "output_type": "execute_result"
    }
   ],
   "source": [
    "df['user_score'].sort_values().unique()"
   ]
  },
  {
   "cell_type": "code",
   "execution_count": 18,
   "metadata": {
    "trusted": false
   },
   "outputs": [],
   "source": [
    "df['user_score'] = df['user_score'].replace('tbd', np.nan)"
   ]
  },
  {
   "cell_type": "code",
   "execution_count": 19,
   "metadata": {
    "trusted": false
   },
   "outputs": [
    {
     "data": {
      "text/plain": [
       "array(['0', '0.2', '0.3', '0.5', '0.6', '0.7', '0.9', '1', '1.1', '1.2',\n",
       "       '1.3', '1.4', '1.5', '1.6', '1.7', '1.8', '1.9', '2', '2.1', '2.2',\n",
       "       '2.3', '2.4', '2.5', '2.6', '2.7', '2.8', '2.9', '3', '3.1', '3.2',\n",
       "       '3.3', '3.4', '3.5', '3.6', '3.7', '3.8', '3.9', '4', '4.1', '4.2',\n",
       "       '4.3', '4.4', '4.5', '4.6', '4.7', '4.8', '4.9', '5', '5.1', '5.2',\n",
       "       '5.3', '5.4', '5.5', '5.6', '5.7', '5.8', '5.9', '6', '6.1', '6.2',\n",
       "       '6.3', '6.4', '6.5', '6.6', '6.7', '6.8', '6.9', '7', '7.1', '7.2',\n",
       "       '7.3', '7.4', '7.5', '7.6', '7.7', '7.8', '7.9', '8', '8.1', '8.2',\n",
       "       '8.3', '8.4', '8.5', '8.6', '8.7', '8.8', '8.9', '9', '9.1', '9.2',\n",
       "       '9.3', '9.4', '9.5', '9.6', '9.7', nan], dtype=object)"
      ]
     },
     "execution_count": 19,
     "metadata": {},
     "output_type": "execute_result"
    }
   ],
   "source": [
    "df['user_score'].sort_values().unique()"
   ]
  },
  {
   "cell_type": "code",
   "execution_count": 20,
   "metadata": {
    "trusted": false
   },
   "outputs": [],
   "source": [
    "df['user_score'] = df['user_score'].astype('float64')"
   ]
  },
  {
   "cell_type": "markdown",
   "metadata": {},
   "source": [
    "Vimos valores con 'tbd', la descripción del proyecto nos dice que significan 'to be determinated', las convertí en tipo NaN ya que no presentan ningun valor si no están determinados."
   ]
  },
  {
   "cell_type": "markdown",
   "metadata": {},
   "source": [
    "### Columna 'rating':"
   ]
  },
  {
   "cell_type": "markdown",
   "metadata": {},
   "source": [
    "No vemos errores en la columna, pero vale la pena revisar si no hay errores gramaticales"
   ]
  },
  {
   "cell_type": "code",
   "execution_count": 21,
   "metadata": {
    "trusted": false
   },
   "outputs": [
    {
     "data": {
      "text/plain": [
       "array(['E', nan, 'M', 'T', 'E10+', 'K-A', 'AO', 'EC', 'RP'], dtype=object)"
      ]
     },
     "execution_count": 21,
     "metadata": {},
     "output_type": "execute_result"
    }
   ],
   "source": [
    "df['rating'].unique()"
   ]
  },
  {
   "cell_type": "markdown",
   "metadata": {},
   "source": [
    "Todo bien en la columna 'rating', aunque vemos valores nulos no eliminaremos ninguno de estos datos."
   ]
  },
  {
   "cell_type": "markdown",
   "metadata": {},
   "source": [
    "### duplicados explicito e implicitos"
   ]
  },
  {
   "cell_type": "markdown",
   "metadata": {},
   "source": [
    "Haremos la búsqueda de duplicados explicitos, y tambien de implícitos, para ser específicos buscaremos videojuegos con el mismo nombre en la misma plataforma."
   ]
  },
  {
   "cell_type": "code",
   "execution_count": 22,
   "metadata": {
    "trusted": false
   },
   "outputs": [
    {
     "data": {
      "text/plain": [
       "np.int64(0)"
      ]
     },
     "execution_count": 22,
     "metadata": {},
     "output_type": "execute_result"
    }
   ],
   "source": [
    "df.duplicated().sum()"
   ]
  },
  {
   "cell_type": "code",
   "execution_count": 23,
   "metadata": {
    "trusted": false
   },
   "outputs": [
    {
     "data": {
      "text/html": [
       "<div>\n",
       "<style scoped>\n",
       "    .dataframe tbody tr th:only-of-type {\n",
       "        vertical-align: middle;\n",
       "    }\n",
       "\n",
       "    .dataframe tbody tr th {\n",
       "        vertical-align: top;\n",
       "    }\n",
       "\n",
       "    .dataframe thead th {\n",
       "        text-align: right;\n",
       "    }\n",
       "</style>\n",
       "<table border=\"1\" class=\"dataframe\">\n",
       "  <thead>\n",
       "    <tr style=\"text-align: right;\">\n",
       "      <th></th>\n",
       "      <th>name</th>\n",
       "      <th>platform</th>\n",
       "      <th>year_of_release</th>\n",
       "      <th>genre</th>\n",
       "      <th>na_sales</th>\n",
       "      <th>eu_sales</th>\n",
       "      <th>jp_sales</th>\n",
       "      <th>other_sales</th>\n",
       "      <th>critic_score</th>\n",
       "      <th>user_score</th>\n",
       "      <th>rating</th>\n",
       "    </tr>\n",
       "  </thead>\n",
       "  <tbody>\n",
       "    <tr>\n",
       "      <th>604</th>\n",
       "      <td>Madden NFL 13</td>\n",
       "      <td>PS3</td>\n",
       "      <td>2012.0</td>\n",
       "      <td>Sports</td>\n",
       "      <td>2.11</td>\n",
       "      <td>0.22</td>\n",
       "      <td>0.00</td>\n",
       "      <td>0.23</td>\n",
       "      <td>83.0</td>\n",
       "      <td>5.5</td>\n",
       "      <td>E</td>\n",
       "    </tr>\n",
       "    <tr>\n",
       "      <th>16230</th>\n",
       "      <td>Madden NFL 13</td>\n",
       "      <td>PS3</td>\n",
       "      <td>2012.0</td>\n",
       "      <td>Sports</td>\n",
       "      <td>0.00</td>\n",
       "      <td>0.01</td>\n",
       "      <td>0.00</td>\n",
       "      <td>0.00</td>\n",
       "      <td>83.0</td>\n",
       "      <td>5.5</td>\n",
       "      <td>E</td>\n",
       "    </tr>\n",
       "    <tr>\n",
       "      <th>1190</th>\n",
       "      <td>Need for Speed: Most Wanted</td>\n",
       "      <td>X360</td>\n",
       "      <td>2012.0</td>\n",
       "      <td>Racing</td>\n",
       "      <td>0.62</td>\n",
       "      <td>0.78</td>\n",
       "      <td>0.01</td>\n",
       "      <td>0.15</td>\n",
       "      <td>83.0</td>\n",
       "      <td>8.5</td>\n",
       "      <td>T</td>\n",
       "    </tr>\n",
       "    <tr>\n",
       "      <th>1591</th>\n",
       "      <td>Need for Speed: Most Wanted</td>\n",
       "      <td>X360</td>\n",
       "      <td>2005.0</td>\n",
       "      <td>Racing</td>\n",
       "      <td>1.00</td>\n",
       "      <td>0.13</td>\n",
       "      <td>0.02</td>\n",
       "      <td>0.10</td>\n",
       "      <td>83.0</td>\n",
       "      <td>8.5</td>\n",
       "      <td>T</td>\n",
       "    </tr>\n",
       "    <tr>\n",
       "      <th>5972</th>\n",
       "      <td>Need for Speed: Most Wanted</td>\n",
       "      <td>PC</td>\n",
       "      <td>2005.0</td>\n",
       "      <td>Racing</td>\n",
       "      <td>0.02</td>\n",
       "      <td>0.23</td>\n",
       "      <td>0.00</td>\n",
       "      <td>0.04</td>\n",
       "      <td>82.0</td>\n",
       "      <td>8.5</td>\n",
       "      <td>T</td>\n",
       "    </tr>\n",
       "    <tr>\n",
       "      <th>11715</th>\n",
       "      <td>Need for Speed: Most Wanted</td>\n",
       "      <td>PC</td>\n",
       "      <td>2012.0</td>\n",
       "      <td>Racing</td>\n",
       "      <td>0.00</td>\n",
       "      <td>0.06</td>\n",
       "      <td>0.00</td>\n",
       "      <td>0.02</td>\n",
       "      <td>82.0</td>\n",
       "      <td>8.5</td>\n",
       "      <td>T</td>\n",
       "    </tr>\n",
       "    <tr>\n",
       "      <th>1745</th>\n",
       "      <td>Sonic the Hedgehog</td>\n",
       "      <td>PS3</td>\n",
       "      <td>2006.0</td>\n",
       "      <td>Platform</td>\n",
       "      <td>0.41</td>\n",
       "      <td>0.06</td>\n",
       "      <td>0.04</td>\n",
       "      <td>0.66</td>\n",
       "      <td>43.0</td>\n",
       "      <td>4.1</td>\n",
       "      <td>E10+</td>\n",
       "    </tr>\n",
       "    <tr>\n",
       "      <th>4127</th>\n",
       "      <td>Sonic the Hedgehog</td>\n",
       "      <td>PS3</td>\n",
       "      <td>NaN</td>\n",
       "      <td>Platform</td>\n",
       "      <td>0.00</td>\n",
       "      <td>0.48</td>\n",
       "      <td>0.00</td>\n",
       "      <td>0.00</td>\n",
       "      <td>43.0</td>\n",
       "      <td>4.1</td>\n",
       "      <td>E10+</td>\n",
       "    </tr>\n",
       "    <tr>\n",
       "      <th>659</th>\n",
       "      <td>NaN</td>\n",
       "      <td>GEN</td>\n",
       "      <td>1993.0</td>\n",
       "      <td>NaN</td>\n",
       "      <td>1.78</td>\n",
       "      <td>0.53</td>\n",
       "      <td>0.00</td>\n",
       "      <td>0.08</td>\n",
       "      <td>NaN</td>\n",
       "      <td>NaN</td>\n",
       "      <td>NaN</td>\n",
       "    </tr>\n",
       "    <tr>\n",
       "      <th>14244</th>\n",
       "      <td>NaN</td>\n",
       "      <td>GEN</td>\n",
       "      <td>1993.0</td>\n",
       "      <td>NaN</td>\n",
       "      <td>0.00</td>\n",
       "      <td>0.00</td>\n",
       "      <td>0.03</td>\n",
       "      <td>0.00</td>\n",
       "      <td>NaN</td>\n",
       "      <td>NaN</td>\n",
       "      <td>NaN</td>\n",
       "    </tr>\n",
       "  </tbody>\n",
       "</table>\n",
       "</div>"
      ],
      "text/plain": [
       "                              name platform  year_of_release     genre  \\\n",
       "604                  Madden NFL 13      PS3           2012.0    Sports   \n",
       "16230                Madden NFL 13      PS3           2012.0    Sports   \n",
       "1190   Need for Speed: Most Wanted     X360           2012.0    Racing   \n",
       "1591   Need for Speed: Most Wanted     X360           2005.0    Racing   \n",
       "5972   Need for Speed: Most Wanted       PC           2005.0    Racing   \n",
       "11715  Need for Speed: Most Wanted       PC           2012.0    Racing   \n",
       "1745            Sonic the Hedgehog      PS3           2006.0  Platform   \n",
       "4127            Sonic the Hedgehog      PS3              NaN  Platform   \n",
       "659                            NaN      GEN           1993.0       NaN   \n",
       "14244                          NaN      GEN           1993.0       NaN   \n",
       "\n",
       "       na_sales  eu_sales  jp_sales  other_sales  critic_score  user_score  \\\n",
       "604        2.11      0.22      0.00         0.23          83.0         5.5   \n",
       "16230      0.00      0.01      0.00         0.00          83.0         5.5   \n",
       "1190       0.62      0.78      0.01         0.15          83.0         8.5   \n",
       "1591       1.00      0.13      0.02         0.10          83.0         8.5   \n",
       "5972       0.02      0.23      0.00         0.04          82.0         8.5   \n",
       "11715      0.00      0.06      0.00         0.02          82.0         8.5   \n",
       "1745       0.41      0.06      0.04         0.66          43.0         4.1   \n",
       "4127       0.00      0.48      0.00         0.00          43.0         4.1   \n",
       "659        1.78      0.53      0.00         0.08           NaN         NaN   \n",
       "14244      0.00      0.00      0.03         0.00           NaN         NaN   \n",
       "\n",
       "      rating  \n",
       "604        E  \n",
       "16230      E  \n",
       "1190       T  \n",
       "1591       T  \n",
       "5972       T  \n",
       "11715      T  \n",
       "1745    E10+  \n",
       "4127    E10+  \n",
       "659      NaN  \n",
       "14244    NaN  "
      ]
     },
     "execution_count": 23,
     "metadata": {},
     "output_type": "execute_result"
    }
   ],
   "source": [
    "df[df[['name','platform']].duplicated(keep=False)].sort_values(by='name')"
   ]
  },
  {
   "cell_type": "markdown",
   "metadata": {},
   "source": [
    "Tenemos variaas coincidencias. trataremos cada una individualmente.\n",
    " - Madden NFL para la PS3: este juego sale en el mismo año, dedusco que se registró dos veces en las ventas por lo que sumaremos las ventas del juego y eliminaremos uno de los registros.\n",
    " - Need for Speed Most Wantend tanto para X360 como para PC: tenemos dos registros porque es un relanzamiento, los manejaremos por separado\n",
    " - Sonic the Hedgehog para la PS3: sospecho que se registró dos veces porque las calificaciones son las mismas tanto de critica como de usuarios, las sumaré y eliminare uno de los registros.\n",
    " - NaN: al no tener información del nombre, no podemos deducir que se trate del mismo juego, manejaré los registros por separado."
   ]
  },
  {
   "cell_type": "code",
   "execution_count": 24,
   "metadata": {
    "trusted": false
   },
   "outputs": [],
   "source": [
    "# caso Madden NFL para la PS3\n",
    "df.iloc[604,4:8] = df.iloc[604,4:8] + df.iloc[16230,4:8]\n",
    "df = df.drop(16230)\n",
    "\n",
    "# caso Sonic the Hedgehog para la PS3\n",
    "df.iloc[1745,4:8] = df.iloc[1745,4:8] + df.iloc[4127,4:8]\n",
    "df = df.drop(4127)\n",
    "\n",
    "# resetear index\n",
    "df = df.reset_index(drop=True)"
   ]
  },
  {
   "cell_type": "code",
   "execution_count": 25,
   "metadata": {
    "trusted": false
   },
   "outputs": [
    {
     "data": {
      "text/html": [
       "<div>\n",
       "<style scoped>\n",
       "    .dataframe tbody tr th:only-of-type {\n",
       "        vertical-align: middle;\n",
       "    }\n",
       "\n",
       "    .dataframe tbody tr th {\n",
       "        vertical-align: top;\n",
       "    }\n",
       "\n",
       "    .dataframe thead th {\n",
       "        text-align: right;\n",
       "    }\n",
       "</style>\n",
       "<table border=\"1\" class=\"dataframe\">\n",
       "  <thead>\n",
       "    <tr style=\"text-align: right;\">\n",
       "      <th></th>\n",
       "      <th>name</th>\n",
       "      <th>platform</th>\n",
       "      <th>year_of_release</th>\n",
       "      <th>genre</th>\n",
       "      <th>na_sales</th>\n",
       "      <th>eu_sales</th>\n",
       "      <th>jp_sales</th>\n",
       "      <th>other_sales</th>\n",
       "      <th>critic_score</th>\n",
       "      <th>user_score</th>\n",
       "      <th>rating</th>\n",
       "    </tr>\n",
       "  </thead>\n",
       "  <tbody>\n",
       "    <tr>\n",
       "      <th>1190</th>\n",
       "      <td>Need for Speed: Most Wanted</td>\n",
       "      <td>X360</td>\n",
       "      <td>2012.0</td>\n",
       "      <td>Racing</td>\n",
       "      <td>0.62</td>\n",
       "      <td>0.78</td>\n",
       "      <td>0.01</td>\n",
       "      <td>0.15</td>\n",
       "      <td>83.0</td>\n",
       "      <td>8.5</td>\n",
       "      <td>T</td>\n",
       "    </tr>\n",
       "    <tr>\n",
       "      <th>1591</th>\n",
       "      <td>Need for Speed: Most Wanted</td>\n",
       "      <td>X360</td>\n",
       "      <td>2005.0</td>\n",
       "      <td>Racing</td>\n",
       "      <td>1.00</td>\n",
       "      <td>0.13</td>\n",
       "      <td>0.02</td>\n",
       "      <td>0.10</td>\n",
       "      <td>83.0</td>\n",
       "      <td>8.5</td>\n",
       "      <td>T</td>\n",
       "    </tr>\n",
       "    <tr>\n",
       "      <th>5971</th>\n",
       "      <td>Need for Speed: Most Wanted</td>\n",
       "      <td>PC</td>\n",
       "      <td>2005.0</td>\n",
       "      <td>Racing</td>\n",
       "      <td>0.02</td>\n",
       "      <td>0.23</td>\n",
       "      <td>0.00</td>\n",
       "      <td>0.04</td>\n",
       "      <td>82.0</td>\n",
       "      <td>8.5</td>\n",
       "      <td>T</td>\n",
       "    </tr>\n",
       "    <tr>\n",
       "      <th>11714</th>\n",
       "      <td>Need for Speed: Most Wanted</td>\n",
       "      <td>PC</td>\n",
       "      <td>2012.0</td>\n",
       "      <td>Racing</td>\n",
       "      <td>0.00</td>\n",
       "      <td>0.06</td>\n",
       "      <td>0.00</td>\n",
       "      <td>0.02</td>\n",
       "      <td>82.0</td>\n",
       "      <td>8.5</td>\n",
       "      <td>T</td>\n",
       "    </tr>\n",
       "    <tr>\n",
       "      <th>659</th>\n",
       "      <td>NaN</td>\n",
       "      <td>GEN</td>\n",
       "      <td>1993.0</td>\n",
       "      <td>NaN</td>\n",
       "      <td>1.78</td>\n",
       "      <td>0.53</td>\n",
       "      <td>0.00</td>\n",
       "      <td>0.08</td>\n",
       "      <td>NaN</td>\n",
       "      <td>NaN</td>\n",
       "      <td>NaN</td>\n",
       "    </tr>\n",
       "    <tr>\n",
       "      <th>14243</th>\n",
       "      <td>NaN</td>\n",
       "      <td>GEN</td>\n",
       "      <td>1993.0</td>\n",
       "      <td>NaN</td>\n",
       "      <td>0.00</td>\n",
       "      <td>0.00</td>\n",
       "      <td>0.03</td>\n",
       "      <td>0.00</td>\n",
       "      <td>NaN</td>\n",
       "      <td>NaN</td>\n",
       "      <td>NaN</td>\n",
       "    </tr>\n",
       "  </tbody>\n",
       "</table>\n",
       "</div>"
      ],
      "text/plain": [
       "                              name platform  year_of_release   genre  \\\n",
       "1190   Need for Speed: Most Wanted     X360           2012.0  Racing   \n",
       "1591   Need for Speed: Most Wanted     X360           2005.0  Racing   \n",
       "5971   Need for Speed: Most Wanted       PC           2005.0  Racing   \n",
       "11714  Need for Speed: Most Wanted       PC           2012.0  Racing   \n",
       "659                            NaN      GEN           1993.0     NaN   \n",
       "14243                          NaN      GEN           1993.0     NaN   \n",
       "\n",
       "       na_sales  eu_sales  jp_sales  other_sales  critic_score  user_score  \\\n",
       "1190       0.62      0.78      0.01         0.15          83.0         8.5   \n",
       "1591       1.00      0.13      0.02         0.10          83.0         8.5   \n",
       "5971       0.02      0.23      0.00         0.04          82.0         8.5   \n",
       "11714      0.00      0.06      0.00         0.02          82.0         8.5   \n",
       "659        1.78      0.53      0.00         0.08           NaN         NaN   \n",
       "14243      0.00      0.00      0.03         0.00           NaN         NaN   \n",
       "\n",
       "      rating  \n",
       "1190       T  \n",
       "1591       T  \n",
       "5971       T  \n",
       "11714      T  \n",
       "659      NaN  \n",
       "14243    NaN  "
      ]
     },
     "execution_count": 25,
     "metadata": {},
     "output_type": "execute_result"
    }
   ],
   "source": [
    "df[df[['name','platform']].duplicated(keep=False)].sort_values(by='name')"
   ]
  },
  {
   "cell_type": "markdown",
   "metadata": {},
   "source": [
    "Hemos eliminado los duplicados y reseteado los índices."
   ]
  },
  {
   "cell_type": "markdown",
   "metadata": {},
   "source": [
    "### vista final en la corrección de columnas"
   ]
  },
  {
   "cell_type": "code",
   "execution_count": 26,
   "metadata": {
    "trusted": false
   },
   "outputs": [
    {
     "name": "stdout",
     "output_type": "stream",
     "text": [
      "<class 'pandas.core.frame.DataFrame'>\n",
      "RangeIndex: 16713 entries, 0 to 16712\n",
      "Data columns (total 11 columns):\n",
      " #   Column           Non-Null Count  Dtype  \n",
      "---  ------           --------------  -----  \n",
      " 0   name             16711 non-null  object \n",
      " 1   platform         16713 non-null  object \n",
      " 2   year_of_release  16445 non-null  float64\n",
      " 3   genre            16711 non-null  object \n",
      " 4   na_sales         16713 non-null  float64\n",
      " 5   eu_sales         16713 non-null  float64\n",
      " 6   jp_sales         16713 non-null  float64\n",
      " 7   other_sales      16713 non-null  float64\n",
      " 8   critic_score     8135 non-null   float64\n",
      " 9   user_score       7588 non-null   float64\n",
      " 10  rating           9947 non-null   object \n",
      "dtypes: float64(7), object(4)\n",
      "memory usage: 1.4+ MB\n"
     ]
    },
    {
     "data": {
      "text/html": [
       "<div>\n",
       "<style scoped>\n",
       "    .dataframe tbody tr th:only-of-type {\n",
       "        vertical-align: middle;\n",
       "    }\n",
       "\n",
       "    .dataframe tbody tr th {\n",
       "        vertical-align: top;\n",
       "    }\n",
       "\n",
       "    .dataframe thead th {\n",
       "        text-align: right;\n",
       "    }\n",
       "</style>\n",
       "<table border=\"1\" class=\"dataframe\">\n",
       "  <thead>\n",
       "    <tr style=\"text-align: right;\">\n",
       "      <th></th>\n",
       "      <th>name</th>\n",
       "      <th>platform</th>\n",
       "      <th>year_of_release</th>\n",
       "      <th>genre</th>\n",
       "      <th>na_sales</th>\n",
       "      <th>eu_sales</th>\n",
       "      <th>jp_sales</th>\n",
       "      <th>other_sales</th>\n",
       "      <th>critic_score</th>\n",
       "      <th>user_score</th>\n",
       "      <th>rating</th>\n",
       "    </tr>\n",
       "  </thead>\n",
       "  <tbody>\n",
       "    <tr>\n",
       "      <th>6538</th>\n",
       "      <td>Littlest Pet Shop: Friends</td>\n",
       "      <td>Wii</td>\n",
       "      <td>2009.0</td>\n",
       "      <td>Simulation</td>\n",
       "      <td>0.21</td>\n",
       "      <td>0.02</td>\n",
       "      <td>0.00</td>\n",
       "      <td>0.02</td>\n",
       "      <td>NaN</td>\n",
       "      <td>NaN</td>\n",
       "      <td>E</td>\n",
       "    </tr>\n",
       "    <tr>\n",
       "      <th>15211</th>\n",
       "      <td>Princess Saver! Eternal Love for My Lady</td>\n",
       "      <td>PS2</td>\n",
       "      <td>2010.0</td>\n",
       "      <td>Adventure</td>\n",
       "      <td>0.00</td>\n",
       "      <td>0.00</td>\n",
       "      <td>0.02</td>\n",
       "      <td>0.00</td>\n",
       "      <td>NaN</td>\n",
       "      <td>NaN</td>\n",
       "      <td>NaN</td>\n",
       "    </tr>\n",
       "    <tr>\n",
       "      <th>13704</th>\n",
       "      <td>Little Busters! Converted Edition</td>\n",
       "      <td>PSP</td>\n",
       "      <td>2010.0</td>\n",
       "      <td>Adventure</td>\n",
       "      <td>0.00</td>\n",
       "      <td>0.00</td>\n",
       "      <td>0.04</td>\n",
       "      <td>0.00</td>\n",
       "      <td>NaN</td>\n",
       "      <td>NaN</td>\n",
       "      <td>NaN</td>\n",
       "    </tr>\n",
       "    <tr>\n",
       "      <th>3814</th>\n",
       "      <td>Mario Tennis: Power Tour</td>\n",
       "      <td>GBA</td>\n",
       "      <td>2005.0</td>\n",
       "      <td>Sports</td>\n",
       "      <td>0.24</td>\n",
       "      <td>0.09</td>\n",
       "      <td>0.19</td>\n",
       "      <td>0.01</td>\n",
       "      <td>81.0</td>\n",
       "      <td>8.0</td>\n",
       "      <td>E</td>\n",
       "    </tr>\n",
       "    <tr>\n",
       "      <th>602</th>\n",
       "      <td>Dragon Warrior II</td>\n",
       "      <td>NES</td>\n",
       "      <td>1987.0</td>\n",
       "      <td>Role-Playing</td>\n",
       "      <td>0.15</td>\n",
       "      <td>0.00</td>\n",
       "      <td>2.41</td>\n",
       "      <td>0.00</td>\n",
       "      <td>NaN</td>\n",
       "      <td>NaN</td>\n",
       "      <td>NaN</td>\n",
       "    </tr>\n",
       "    <tr>\n",
       "      <th>12879</th>\n",
       "      <td>Jewel Link Chronicles: Mountains of Madness</td>\n",
       "      <td>DS</td>\n",
       "      <td>NaN</td>\n",
       "      <td>Puzzle</td>\n",
       "      <td>0.00</td>\n",
       "      <td>0.05</td>\n",
       "      <td>0.00</td>\n",
       "      <td>0.01</td>\n",
       "      <td>NaN</td>\n",
       "      <td>NaN</td>\n",
       "      <td>E10+</td>\n",
       "    </tr>\n",
       "    <tr>\n",
       "      <th>5672</th>\n",
       "      <td>Momotarou Dentetsu Happy</td>\n",
       "      <td>SNES</td>\n",
       "      <td>1996.0</td>\n",
       "      <td>Misc</td>\n",
       "      <td>0.00</td>\n",
       "      <td>0.00</td>\n",
       "      <td>0.32</td>\n",
       "      <td>0.00</td>\n",
       "      <td>NaN</td>\n",
       "      <td>NaN</td>\n",
       "      <td>NaN</td>\n",
       "    </tr>\n",
       "    <tr>\n",
       "      <th>14683</th>\n",
       "      <td>Commander: Conquest of the Americas</td>\n",
       "      <td>PC</td>\n",
       "      <td>2010.0</td>\n",
       "      <td>Strategy</td>\n",
       "      <td>0.00</td>\n",
       "      <td>0.02</td>\n",
       "      <td>0.00</td>\n",
       "      <td>0.00</td>\n",
       "      <td>68.0</td>\n",
       "      <td>5.2</td>\n",
       "      <td>T</td>\n",
       "    </tr>\n",
       "    <tr>\n",
       "      <th>312</th>\n",
       "      <td>Monster Hunter 4 Ultimate</td>\n",
       "      <td>3DS</td>\n",
       "      <td>2014.0</td>\n",
       "      <td>Role-Playing</td>\n",
       "      <td>0.68</td>\n",
       "      <td>0.48</td>\n",
       "      <td>2.62</td>\n",
       "      <td>0.11</td>\n",
       "      <td>86.0</td>\n",
       "      <td>8.7</td>\n",
       "      <td>T</td>\n",
       "    </tr>\n",
       "    <tr>\n",
       "      <th>456</th>\n",
       "      <td>LEGO Batman: The Videogame</td>\n",
       "      <td>Wii</td>\n",
       "      <td>NaN</td>\n",
       "      <td>Action</td>\n",
       "      <td>1.80</td>\n",
       "      <td>0.97</td>\n",
       "      <td>0.00</td>\n",
       "      <td>0.29</td>\n",
       "      <td>74.0</td>\n",
       "      <td>7.9</td>\n",
       "      <td>E10+</td>\n",
       "    </tr>\n",
       "  </tbody>\n",
       "</table>\n",
       "</div>"
      ],
      "text/plain": [
       "                                              name platform  year_of_release  \\\n",
       "6538                    Littlest Pet Shop: Friends      Wii           2009.0   \n",
       "15211     Princess Saver! Eternal Love for My Lady      PS2           2010.0   \n",
       "13704            Little Busters! Converted Edition      PSP           2010.0   \n",
       "3814                      Mario Tennis: Power Tour      GBA           2005.0   \n",
       "602                              Dragon Warrior II      NES           1987.0   \n",
       "12879  Jewel Link Chronicles: Mountains of Madness       DS              NaN   \n",
       "5672                      Momotarou Dentetsu Happy     SNES           1996.0   \n",
       "14683          Commander: Conquest of the Americas       PC           2010.0   \n",
       "312                      Monster Hunter 4 Ultimate      3DS           2014.0   \n",
       "456                     LEGO Batman: The Videogame      Wii              NaN   \n",
       "\n",
       "              genre  na_sales  eu_sales  jp_sales  other_sales  critic_score  \\\n",
       "6538     Simulation      0.21      0.02      0.00         0.02           NaN   \n",
       "15211     Adventure      0.00      0.00      0.02         0.00           NaN   \n",
       "13704     Adventure      0.00      0.00      0.04         0.00           NaN   \n",
       "3814         Sports      0.24      0.09      0.19         0.01          81.0   \n",
       "602    Role-Playing      0.15      0.00      2.41         0.00           NaN   \n",
       "12879        Puzzle      0.00      0.05      0.00         0.01           NaN   \n",
       "5672           Misc      0.00      0.00      0.32         0.00           NaN   \n",
       "14683      Strategy      0.00      0.02      0.00         0.00          68.0   \n",
       "312    Role-Playing      0.68      0.48      2.62         0.11          86.0   \n",
       "456          Action      1.80      0.97      0.00         0.29          74.0   \n",
       "\n",
       "       user_score rating  \n",
       "6538          NaN      E  \n",
       "15211         NaN    NaN  \n",
       "13704         NaN    NaN  \n",
       "3814          8.0      E  \n",
       "602           NaN    NaN  \n",
       "12879         NaN   E10+  \n",
       "5672          NaN    NaN  \n",
       "14683         5.2      T  \n",
       "312           8.7      T  \n",
       "456           7.9   E10+  "
      ]
     },
     "execution_count": 26,
     "metadata": {},
     "output_type": "execute_result"
    }
   ],
   "source": [
    "df.info()\n",
    "df.sample(10)"
   ]
  },
  {
   "cell_type": "markdown",
   "metadata": {},
   "source": [
    "## Creación de nuevos datos"
   ]
  },
  {
   "cell_type": "markdown",
   "metadata": {},
   "source": [
    "Crearemos una nueva columna llamada total_sales. esta columna contendrá la suma de las columnas jp_sales, na_sales, eu_sales y other_sales."
   ]
  },
  {
   "cell_type": "code",
   "execution_count": 27,
   "metadata": {
    "trusted": false
   },
   "outputs": [
    {
     "data": {
      "text/html": [
       "<div>\n",
       "<style scoped>\n",
       "    .dataframe tbody tr th:only-of-type {\n",
       "        vertical-align: middle;\n",
       "    }\n",
       "\n",
       "    .dataframe tbody tr th {\n",
       "        vertical-align: top;\n",
       "    }\n",
       "\n",
       "    .dataframe thead th {\n",
       "        text-align: right;\n",
       "    }\n",
       "</style>\n",
       "<table border=\"1\" class=\"dataframe\">\n",
       "  <thead>\n",
       "    <tr style=\"text-align: right;\">\n",
       "      <th></th>\n",
       "      <th>name</th>\n",
       "      <th>platform</th>\n",
       "      <th>year_of_release</th>\n",
       "      <th>genre</th>\n",
       "      <th>na_sales</th>\n",
       "      <th>eu_sales</th>\n",
       "      <th>jp_sales</th>\n",
       "      <th>other_sales</th>\n",
       "      <th>critic_score</th>\n",
       "      <th>user_score</th>\n",
       "      <th>rating</th>\n",
       "      <th>total_sales</th>\n",
       "    </tr>\n",
       "  </thead>\n",
       "  <tbody>\n",
       "    <tr>\n",
       "      <th>3201</th>\n",
       "      <td>X-Man</td>\n",
       "      <td>2600</td>\n",
       "      <td>1982.0</td>\n",
       "      <td>Action</td>\n",
       "      <td>0.58</td>\n",
       "      <td>0.04</td>\n",
       "      <td>0.00</td>\n",
       "      <td>0.01</td>\n",
       "      <td>NaN</td>\n",
       "      <td>NaN</td>\n",
       "      <td>NaN</td>\n",
       "      <td>0.63</td>\n",
       "    </tr>\n",
       "    <tr>\n",
       "      <th>11306</th>\n",
       "      <td>Jaws: Ultimate Predator</td>\n",
       "      <td>Wii</td>\n",
       "      <td>2011.0</td>\n",
       "      <td>Action</td>\n",
       "      <td>0.08</td>\n",
       "      <td>0.00</td>\n",
       "      <td>0.00</td>\n",
       "      <td>0.01</td>\n",
       "      <td>NaN</td>\n",
       "      <td>6.3</td>\n",
       "      <td>T</td>\n",
       "      <td>0.09</td>\n",
       "    </tr>\n",
       "    <tr>\n",
       "      <th>10028</th>\n",
       "      <td>Persona 5</td>\n",
       "      <td>PS3</td>\n",
       "      <td>2016.0</td>\n",
       "      <td>Role-Playing</td>\n",
       "      <td>0.00</td>\n",
       "      <td>0.00</td>\n",
       "      <td>0.11</td>\n",
       "      <td>0.00</td>\n",
       "      <td>NaN</td>\n",
       "      <td>NaN</td>\n",
       "      <td>NaN</td>\n",
       "      <td>0.11</td>\n",
       "    </tr>\n",
       "    <tr>\n",
       "      <th>10500</th>\n",
       "      <td>Gem Quest: 4 Elements</td>\n",
       "      <td>DS</td>\n",
       "      <td>2011.0</td>\n",
       "      <td>Puzzle</td>\n",
       "      <td>0.05</td>\n",
       "      <td>0.05</td>\n",
       "      <td>0.00</td>\n",
       "      <td>0.01</td>\n",
       "      <td>NaN</td>\n",
       "      <td>NaN</td>\n",
       "      <td>E</td>\n",
       "      <td>0.11</td>\n",
       "    </tr>\n",
       "    <tr>\n",
       "      <th>1025</th>\n",
       "      <td>Madden NFL 99</td>\n",
       "      <td>PS</td>\n",
       "      <td>1998.0</td>\n",
       "      <td>Sports</td>\n",
       "      <td>1.66</td>\n",
       "      <td>0.04</td>\n",
       "      <td>0.00</td>\n",
       "      <td>0.04</td>\n",
       "      <td>NaN</td>\n",
       "      <td>NaN</td>\n",
       "      <td>NaN</td>\n",
       "      <td>1.74</td>\n",
       "    </tr>\n",
       "    <tr>\n",
       "      <th>1685</th>\n",
       "      <td>Cars</td>\n",
       "      <td>PSP</td>\n",
       "      <td>2006.0</td>\n",
       "      <td>Racing</td>\n",
       "      <td>0.72</td>\n",
       "      <td>0.28</td>\n",
       "      <td>0.00</td>\n",
       "      <td>0.20</td>\n",
       "      <td>70.0</td>\n",
       "      <td>7.0</td>\n",
       "      <td>E</td>\n",
       "      <td>1.20</td>\n",
       "    </tr>\n",
       "    <tr>\n",
       "      <th>6595</th>\n",
       "      <td>TOCA Race Driver 2: Ultimate Racing Simulator</td>\n",
       "      <td>PSP</td>\n",
       "      <td>2005.0</td>\n",
       "      <td>Racing</td>\n",
       "      <td>0.00</td>\n",
       "      <td>0.25</td>\n",
       "      <td>0.00</td>\n",
       "      <td>0.00</td>\n",
       "      <td>NaN</td>\n",
       "      <td>NaN</td>\n",
       "      <td>NaN</td>\n",
       "      <td>0.25</td>\n",
       "    </tr>\n",
       "    <tr>\n",
       "      <th>13375</th>\n",
       "      <td>Winter Sports 2011</td>\n",
       "      <td>PS3</td>\n",
       "      <td>2011.0</td>\n",
       "      <td>Sports</td>\n",
       "      <td>0.00</td>\n",
       "      <td>0.04</td>\n",
       "      <td>0.00</td>\n",
       "      <td>0.01</td>\n",
       "      <td>NaN</td>\n",
       "      <td>NaN</td>\n",
       "      <td>NaN</td>\n",
       "      <td>0.05</td>\n",
       "    </tr>\n",
       "    <tr>\n",
       "      <th>10338</th>\n",
       "      <td>Shrek: Forever After</td>\n",
       "      <td>X360</td>\n",
       "      <td>2010.0</td>\n",
       "      <td>Platform</td>\n",
       "      <td>0.10</td>\n",
       "      <td>0.00</td>\n",
       "      <td>0.00</td>\n",
       "      <td>0.01</td>\n",
       "      <td>62.0</td>\n",
       "      <td>6.2</td>\n",
       "      <td>E10+</td>\n",
       "      <td>0.11</td>\n",
       "    </tr>\n",
       "    <tr>\n",
       "      <th>9654</th>\n",
       "      <td>Nippon Daihyou Team no Kantoku ni Narou! Sekai...</td>\n",
       "      <td>SAT</td>\n",
       "      <td>1998.0</td>\n",
       "      <td>Sports</td>\n",
       "      <td>0.00</td>\n",
       "      <td>0.00</td>\n",
       "      <td>0.12</td>\n",
       "      <td>0.00</td>\n",
       "      <td>NaN</td>\n",
       "      <td>NaN</td>\n",
       "      <td>NaN</td>\n",
       "      <td>0.12</td>\n",
       "    </tr>\n",
       "  </tbody>\n",
       "</table>\n",
       "</div>"
      ],
      "text/plain": [
       "                                                    name platform  \\\n",
       "3201                                               X-Man     2600   \n",
       "11306                            Jaws: Ultimate Predator      Wii   \n",
       "10028                                          Persona 5      PS3   \n",
       "10500                              Gem Quest: 4 Elements       DS   \n",
       "1025                                       Madden NFL 99       PS   \n",
       "1685                                                Cars      PSP   \n",
       "6595       TOCA Race Driver 2: Ultimate Racing Simulator      PSP   \n",
       "13375                                 Winter Sports 2011      PS3   \n",
       "10338                               Shrek: Forever After     X360   \n",
       "9654   Nippon Daihyou Team no Kantoku ni Narou! Sekai...      SAT   \n",
       "\n",
       "       year_of_release         genre  na_sales  eu_sales  jp_sales  \\\n",
       "3201            1982.0        Action      0.58      0.04      0.00   \n",
       "11306           2011.0        Action      0.08      0.00      0.00   \n",
       "10028           2016.0  Role-Playing      0.00      0.00      0.11   \n",
       "10500           2011.0        Puzzle      0.05      0.05      0.00   \n",
       "1025            1998.0        Sports      1.66      0.04      0.00   \n",
       "1685            2006.0        Racing      0.72      0.28      0.00   \n",
       "6595            2005.0        Racing      0.00      0.25      0.00   \n",
       "13375           2011.0        Sports      0.00      0.04      0.00   \n",
       "10338           2010.0      Platform      0.10      0.00      0.00   \n",
       "9654            1998.0        Sports      0.00      0.00      0.12   \n",
       "\n",
       "       other_sales  critic_score  user_score rating  total_sales  \n",
       "3201          0.01           NaN         NaN    NaN         0.63  \n",
       "11306         0.01           NaN         6.3      T         0.09  \n",
       "10028         0.00           NaN         NaN    NaN         0.11  \n",
       "10500         0.01           NaN         NaN      E         0.11  \n",
       "1025          0.04           NaN         NaN    NaN         1.74  \n",
       "1685          0.20          70.0         7.0      E         1.20  \n",
       "6595          0.00           NaN         NaN    NaN         0.25  \n",
       "13375         0.01           NaN         NaN    NaN         0.05  \n",
       "10338         0.01          62.0         6.2   E10+         0.11  \n",
       "9654          0.00           NaN         NaN    NaN         0.12  "
      ]
     },
     "execution_count": 27,
     "metadata": {},
     "output_type": "execute_result"
    }
   ],
   "source": [
    "df['total_sales'] = df['na_sales'] + df['eu_sales'] + df['jp_sales'] + df['other_sales']\n",
    "df.sample(10)"
   ]
  },
  {
   "cell_type": "markdown",
   "metadata": {},
   "source": [
    "## análisis de datos"
   ]
  },
  {
   "cell_type": "markdown",
   "metadata": {},
   "source": [
    "En esta sección analizaremos los datos conforme nos lo marcaron en la descripción del proyecto."
   ]
  },
  {
   "cell_type": "markdown",
   "metadata": {},
   "source": [
    "### Mira cuántos juegos fueron lanzados en diferentes años. ¿Son significativos los datos de cada período?"
   ]
  },
  {
   "cell_type": "code",
   "execution_count": 28,
   "metadata": {
    "trusted": false
   },
   "outputs": [
    {
     "data": {
      "image/png": "[encoded data removed]",
      "text/plain": [
       "<Figure size 640x480 with 1 Axes>"
      ]
     },
     "metadata": {},
     "output_type": "display_data"
    }
   ],
   "source": [
    "# dejo afuera los NaN porque no tiene sentido para contestar la pregunta\n",
    "df_grouped_aux = df.groupby('year_of_release', as_index=False, dropna=True)['name'].count()\n",
    "\n",
    "plt.bar(x = df_grouped_aux['year_of_release'], height = df_grouped_aux['name'])\n",
    "plt.title(\"lanzamiento de juegos por año\")\n",
    "plt.xlabel(\"año\")\n",
    "plt.ylabel(\"número de juegos\")\n",
    "plt.show()"
   ]
  },
  {
   "cell_type": "markdown",
   "metadata": {},
   "source": [
    "Primero haremos una descripción general, despues haré una explicación detallada ya que este tema me gusta mucho en particular.\n",
    " - Vemos que los lanzamientos de videojuegos comienzan a ser populares en 1981, pero caen y no es hasta la decada de los 90s que comienzan a despegar, teniendo su mayor pico entre el 2008 y 2009. Despues de eso se ve que ha dsiminuido la cantidad de videojuegos.\n",
    "\n",
    "Ahora explicaremos lo que vemos de una forma mas profunda y teniendo en cuenta el contexto:\n",
    " - Vemos que desde que en 1981 hubo un pequeño pico que baja en 1983, esto coincide con uno de los golpes mas duros en los videojuegos, la crisis de los videojuegos en 1982 (el sello de nintendo en los videojuegos ayudó a que esta industria se salvara).\n",
    " - A partir de 1991 comienza a crecer las ventas de los videojuegos y la primera guerra de consolas: Nintendo vs Génesis. Durante ésta época los videjuegos fueron variados y con buena calidad teniendo su pico en 1998, la época del nintendo 64, dreamcast y play station.\n",
    " - En el 2002 vemos un pico mucho mas marcado, durante esta época es la segunda guerra de consolas, xbox y playstation2 se ponen en una dura competencia y al ser hardware de relativamente fácil acceso, se crean muchísimos videojuegos. se nota una pequeña caida hasta el 2004, que es cuando va pasando el furor principal de las consolas.\n",
    " - Durante el 2005 al 2008 vemos el mayor pico en los videojuegos, y la etapa en la que considero que los videojuegos permearon completamente en toda la sociedad, la playstation3, el exbox360 y la wii fueron 3 buenas consolas con una enorme deiversidad de videojuegos.\n",
    " - Se observa otra subida de videojuegos que comienza en el 2013, esto es por el lanzamiento de la xboxone y playstation4.\n",
    " - La caida en lanzamientos que comienza en el 2010 puede tener varias causas pero pienso que una de las razones mas importantes es la forma en la que se juega los videojuegos, durante estos años comienzan los \"juegos en línea\", videojuegos que se centran en una experiencia utilizando el internet como una herramienta para conectar a los distintos juegadores. El usar el internet es el comienzo de una forma distinta de ver los videojuegos, ya no como \"productos que se venden\" sino como \"servicios a los que se les actualiza y se les da mantenimiento\", como por ejemplo league of legends, starcraft, world of warcraft, etc.. "
   ]
  },
  {
   "cell_type": "markdown",
   "metadata": {},
   "source": [
    "### Observa cómo varían las ventas de una plataforma a otra. Elige las plataformas con las mayores ventas totales y construye una distribución basada en los datos de cada año. Busca las plataformas que solían ser populares pero que ahora no tienen ventas. ¿Cuánto tardan generalmente las nuevas plataformas en aparecer y las antiguas en desaparecer?\n"
   ]
  },
  {
   "cell_type": "code",
   "execution_count": 29,
   "metadata": {
    "trusted": false
   },
   "outputs": [
    {
     "data": {
      "text/html": [
       "<div>\n",
       "<style scoped>\n",
       "    .dataframe tbody tr th:only-of-type {\n",
       "        vertical-align: middle;\n",
       "    }\n",
       "\n",
       "    .dataframe tbody tr th {\n",
       "        vertical-align: top;\n",
       "    }\n",
       "\n",
       "    .dataframe thead th {\n",
       "        text-align: right;\n",
       "    }\n",
       "</style>\n",
       "<table border=\"1\" class=\"dataframe\">\n",
       "  <thead>\n",
       "    <tr style=\"text-align: right;\">\n",
       "      <th></th>\n",
       "      <th>platform</th>\n",
       "      <th>total_sales</th>\n",
       "    </tr>\n",
       "  </thead>\n",
       "  <tbody>\n",
       "    <tr>\n",
       "      <th>0</th>\n",
       "      <td>PS2</td>\n",
       "      <td>1255.77</td>\n",
       "    </tr>\n",
       "    <tr>\n",
       "      <th>1</th>\n",
       "      <td>X360</td>\n",
       "      <td>971.42</td>\n",
       "    </tr>\n",
       "    <tr>\n",
       "      <th>2</th>\n",
       "      <td>PS3</td>\n",
       "      <td>939.65</td>\n",
       "    </tr>\n",
       "    <tr>\n",
       "      <th>3</th>\n",
       "      <td>Wii</td>\n",
       "      <td>907.51</td>\n",
       "    </tr>\n",
       "    <tr>\n",
       "      <th>4</th>\n",
       "      <td>DS</td>\n",
       "      <td>806.12</td>\n",
       "    </tr>\n",
       "    <tr>\n",
       "      <th>5</th>\n",
       "      <td>PS</td>\n",
       "      <td>730.86</td>\n",
       "    </tr>\n",
       "    <tr>\n",
       "      <th>6</th>\n",
       "      <td>GBA</td>\n",
       "      <td>317.85</td>\n",
       "    </tr>\n",
       "    <tr>\n",
       "      <th>7</th>\n",
       "      <td>PS4</td>\n",
       "      <td>314.14</td>\n",
       "    </tr>\n",
       "    <tr>\n",
       "      <th>8</th>\n",
       "      <td>PSP</td>\n",
       "      <td>294.05</td>\n",
       "    </tr>\n",
       "    <tr>\n",
       "      <th>9</th>\n",
       "      <td>PC</td>\n",
       "      <td>259.52</td>\n",
       "    </tr>\n",
       "    <tr>\n",
       "      <th>10</th>\n",
       "      <td>3DS</td>\n",
       "      <td>259.00</td>\n",
       "    </tr>\n",
       "    <tr>\n",
       "      <th>11</th>\n",
       "      <td>XB</td>\n",
       "      <td>257.74</td>\n",
       "    </tr>\n",
       "    <tr>\n",
       "      <th>12</th>\n",
       "      <td>GB</td>\n",
       "      <td>255.46</td>\n",
       "    </tr>\n",
       "    <tr>\n",
       "      <th>13</th>\n",
       "      <td>NES</td>\n",
       "      <td>251.05</td>\n",
       "    </tr>\n",
       "    <tr>\n",
       "      <th>14</th>\n",
       "      <td>N64</td>\n",
       "      <td>218.68</td>\n",
       "    </tr>\n",
       "    <tr>\n",
       "      <th>15</th>\n",
       "      <td>SNES</td>\n",
       "      <td>200.04</td>\n",
       "    </tr>\n",
       "    <tr>\n",
       "      <th>16</th>\n",
       "      <td>GC</td>\n",
       "      <td>198.93</td>\n",
       "    </tr>\n",
       "    <tr>\n",
       "      <th>17</th>\n",
       "      <td>XOne</td>\n",
       "      <td>159.32</td>\n",
       "    </tr>\n",
       "    <tr>\n",
       "      <th>18</th>\n",
       "      <td>2600</td>\n",
       "      <td>96.98</td>\n",
       "    </tr>\n",
       "    <tr>\n",
       "      <th>19</th>\n",
       "      <td>WiiU</td>\n",
       "      <td>82.19</td>\n",
       "    </tr>\n",
       "    <tr>\n",
       "      <th>20</th>\n",
       "      <td>PSV</td>\n",
       "      <td>54.07</td>\n",
       "    </tr>\n",
       "    <tr>\n",
       "      <th>21</th>\n",
       "      <td>SAT</td>\n",
       "      <td>33.59</td>\n",
       "    </tr>\n",
       "    <tr>\n",
       "      <th>22</th>\n",
       "      <td>GEN</td>\n",
       "      <td>30.77</td>\n",
       "    </tr>\n",
       "    <tr>\n",
       "      <th>23</th>\n",
       "      <td>DC</td>\n",
       "      <td>15.95</td>\n",
       "    </tr>\n",
       "    <tr>\n",
       "      <th>24</th>\n",
       "      <td>SCD</td>\n",
       "      <td>1.86</td>\n",
       "    </tr>\n",
       "    <tr>\n",
       "      <th>25</th>\n",
       "      <td>NG</td>\n",
       "      <td>1.44</td>\n",
       "    </tr>\n",
       "    <tr>\n",
       "      <th>26</th>\n",
       "      <td>WS</td>\n",
       "      <td>1.42</td>\n",
       "    </tr>\n",
       "    <tr>\n",
       "      <th>27</th>\n",
       "      <td>TG16</td>\n",
       "      <td>0.16</td>\n",
       "    </tr>\n",
       "    <tr>\n",
       "      <th>28</th>\n",
       "      <td>3DO</td>\n",
       "      <td>0.10</td>\n",
       "    </tr>\n",
       "    <tr>\n",
       "      <th>29</th>\n",
       "      <td>GG</td>\n",
       "      <td>0.04</td>\n",
       "    </tr>\n",
       "    <tr>\n",
       "      <th>30</th>\n",
       "      <td>PCFX</td>\n",
       "      <td>0.03</td>\n",
       "    </tr>\n",
       "  </tbody>\n",
       "</table>\n",
       "</div>"
      ],
      "text/plain": [
       "   platform  total_sales\n",
       "0       PS2      1255.77\n",
       "1      X360       971.42\n",
       "2       PS3       939.65\n",
       "3       Wii       907.51\n",
       "4        DS       806.12\n",
       "5        PS       730.86\n",
       "6       GBA       317.85\n",
       "7       PS4       314.14\n",
       "8       PSP       294.05\n",
       "9        PC       259.52\n",
       "10      3DS       259.00\n",
       "11       XB       257.74\n",
       "12       GB       255.46\n",
       "13      NES       251.05\n",
       "14      N64       218.68\n",
       "15     SNES       200.04\n",
       "16       GC       198.93\n",
       "17     XOne       159.32\n",
       "18     2600        96.98\n",
       "19     WiiU        82.19\n",
       "20      PSV        54.07\n",
       "21      SAT        33.59\n",
       "22      GEN        30.77\n",
       "23       DC        15.95\n",
       "24      SCD         1.86\n",
       "25       NG         1.44\n",
       "26       WS         1.42\n",
       "27     TG16         0.16\n",
       "28      3DO         0.10\n",
       "29       GG         0.04\n",
       "30     PCFX         0.03"
      ]
     },
     "execution_count": 29,
     "metadata": {},
     "output_type": "execute_result"
    }
   ],
   "source": [
    "df_grouped_auxiliar = df.groupby('platform', as_index=False)['total_sales'].sum()\n",
    "df_grouped_auxiliar.sort_values(by='total_sales', ascending=False).reset_index(drop=True)"
   ]
  },
  {
   "cell_type": "markdown",
   "metadata": {},
   "source": [
    "Wow! La playstation2 ha sido sin duda la mas exitosa, seguida de xbox360, playstation3 y wii. Mención honorifica a la DS, es una consola portatil y ha vendido muchísimos videojuegos.\n",
    "\n",
    "Tomaremos las 5 consolas con mas ventas pra el análisis siguiente."
   ]
  },
  {
   "cell_type": "markdown",
   "metadata": {},
   "source": [
    "#### PlayStation2"
   ]
  },
  {
   "cell_type": "code",
   "execution_count": 30,
   "metadata": {
    "trusted": false
   },
   "outputs": [
    {
     "data": {
      "image/png": "[encoded data removed]",
      "text/plain": [
       "<Figure size 640x480 with 1 Axes>"
      ]
     },
     "metadata": {},
     "output_type": "display_data"
    }
   ],
   "source": [
    "df_grouped_auxiliar = df.query('platform == \"PS2\"').groupby('year_of_release', as_index=False)['total_sales'].sum()\n",
    "plt.bar(x=df_grouped_auxiliar[\"year_of_release\"], height=df_grouped_auxiliar[\"total_sales\"])\n",
    "\n",
    "plt.title(\"Ventas de playstation2\")\n",
    "plt.xlabel(\"Año\")\n",
    "plt.ylabel(\"Millones de dolares\")\n",
    "plt.show()"
   ]
  },
  {
   "cell_type": "markdown",
   "metadata": {},
   "source": [
    "Vemos un ciclo de vida de 12 años. Sobre su comportamiento podemos deducier que comenzó con un gran auge en el 2001 ycomienza a decaer a partir del 2003, y continua hasta el 2011. El lanzamiento de la playstation3(2006) y las nuevas tecnologías onfluye mucho en las ventas de la consola."
   ]
  },
  {
   "cell_type": "markdown",
   "metadata": {},
   "source": [
    "#### Xbox 360"
   ]
  },
  {
   "cell_type": "code",
   "execution_count": 31,
   "metadata": {
    "trusted": false
   },
   "outputs": [
    {
     "data": {
      "image/png": "[encoded data removed]",
      "text/plain": [
       "<Figure size 640x480 with 1 Axes>"
      ]
     },
     "metadata": {},
     "output_type": "display_data"
    }
   ],
   "source": [
    "df_grouped_auxiliar = df.query('platform == \"X360\"').groupby('year_of_release', as_index=False)['total_sales'].sum()\n",
    "plt.bar(x=df_grouped_auxiliar[\"year_of_release\"], height=df_grouped_auxiliar[\"total_sales\"])\n",
    "\n",
    "plt.title(\"Ventas de xbox360\")\n",
    "plt.xlabel(\"Año\")\n",
    "plt.ylabel(\"Millones de dolares\")\n",
    "plt.show()"
   ]
  },
  {
   "cell_type": "markdown",
   "metadata": {},
   "source": [
    "Ciclo de vida de 12 años. veo ciclo de vida muy \"gaussiano\", comenzó con pequeñas ventas y fue subiendo hasta su pico en el 2010 (alrededor de 160Mdd). su ultimo año en el 2016 se debe principalmente a las salida de Xbox one y las nuevas tecnologías que dejan la consola obsoleta."
   ]
  },
  {
   "cell_type": "markdown",
   "metadata": {},
   "source": [
    "#### Playstation3"
   ]
  },
  {
   "cell_type": "code",
   "execution_count": 32,
   "metadata": {
    "trusted": false
   },
   "outputs": [
    {
     "data": {
      "image/png": "[encoded data removed]",
      "text/plain": [
       "<Figure size 640x480 with 1 Axes>"
      ]
     },
     "metadata": {},
     "output_type": "display_data"
    }
   ],
   "source": [
    "df_grouped_auxiliar = df.query('platform == \"PS3\"').groupby('year_of_release', as_index=False)['total_sales'].sum()\n",
    "plt.bar(x=df_grouped_auxiliar[\"year_of_release\"], height=df_grouped_auxiliar[\"total_sales\"])\n",
    "\n",
    "plt.title(\"Ventas de Playstation3\")\n",
    "plt.xlabel(\"Año\")\n",
    "plt.ylabel(\"Millones de dolares\")\n",
    "plt.show()"
   ]
  },
  {
   "cell_type": "markdown",
   "metadata": {},
   "source": [
    "Ciclo de vida de 11 años. Vemos tambien unas que suben rápidamente debido al auge de la consola. las ventas comienzan a caer desde el 2011 (será que las personas intuyen que saldrá una nueva consola?) y cae definitivamente en el 2014 (la play4 sale a finales de 2013)."
   ]
  },
  {
   "cell_type": "markdown",
   "metadata": {},
   "source": [
    "#### Wii"
   ]
  },
  {
   "cell_type": "code",
   "execution_count": 33,
   "metadata": {
    "trusted": false
   },
   "outputs": [
    {
     "data": {
      "image/png": "[encoded data removed]",
      "text/plain": [
       "<Figure size 640x480 with 1 Axes>"
      ]
     },
     "metadata": {},
     "output_type": "display_data"
    }
   ],
   "source": [
    "df_grouped_auxiliar = df.query('platform == \"Wii\"').groupby('year_of_release', as_index=False)['total_sales'].sum()\n",
    "plt.bar(x=df_grouped_auxiliar[\"year_of_release\"], height=df_grouped_auxiliar[\"total_sales\"])\n",
    "\n",
    "plt.title(\"Ventas de Nintendo Wii\")\n",
    "plt.xlabel(\"Año\")\n",
    "plt.ylabel(\"Millones de dolares\")\n",
    "plt.show()"
   ]
  },
  {
   "cell_type": "markdown",
   "metadata": {},
   "source": [
    "Ciclo de vida de 11 años. Vemos un comportamiento muy distinto. se nota que fue una consola muy esperada por la comunidad. Comienza con fuertes ventas en el 2006 y sube hasta su mayor pico en el 2009. despues de eso baja drásiticamente, esto es antes de que salga la wiiU asi que no entiendo bien el por qué de su caida en ventas."
   ]
  },
  {
   "cell_type": "markdown",
   "metadata": {},
   "source": [
    "#### Nintendo DS"
   ]
  },
  {
   "cell_type": "code",
   "execution_count": 34,
   "metadata": {
    "trusted": false
   },
   "outputs": [
    {
     "data": {
      "image/png": "[encoded data removed]",
      "text/plain": [
       "<Figure size 640x480 with 1 Axes>"
      ]
     },
     "metadata": {},
     "output_type": "display_data"
    }
   ],
   "source": [
    "df_grouped_auxiliar = df.query('platform == \"DS\"').groupby('year_of_release', as_index=False)['total_sales'].sum()\n",
    "plt.bar(x=df_grouped_auxiliar[\"year_of_release\"], height=df_grouped_auxiliar[\"total_sales\"])\n",
    "\n",
    "plt.title(\"Ventas de Nintendo DS\")\n",
    "plt.xlabel(\"Año\")\n",
    "plt.ylabel(\"Millones de dolares\")\n",
    "plt.show()"
   ]
  },
  {
   "cell_type": "markdown",
   "metadata": {},
   "source": [
    "Vemos algo inusual..."
   ]
  },
  {
   "cell_type": "code",
   "execution_count": 35,
   "metadata": {
    "trusted": false
   },
   "outputs": [
    {
     "data": {
      "text/html": [
       "<div>\n",
       "<style scoped>\n",
       "    .dataframe tbody tr th:only-of-type {\n",
       "        vertical-align: middle;\n",
       "    }\n",
       "\n",
       "    .dataframe tbody tr th {\n",
       "        vertical-align: top;\n",
       "    }\n",
       "\n",
       "    .dataframe thead th {\n",
       "        text-align: right;\n",
       "    }\n",
       "</style>\n",
       "<table border=\"1\" class=\"dataframe\">\n",
       "  <thead>\n",
       "    <tr style=\"text-align: right;\">\n",
       "      <th></th>\n",
       "      <th>name</th>\n",
       "      <th>platform</th>\n",
       "      <th>year_of_release</th>\n",
       "      <th>genre</th>\n",
       "      <th>na_sales</th>\n",
       "      <th>eu_sales</th>\n",
       "      <th>jp_sales</th>\n",
       "      <th>other_sales</th>\n",
       "      <th>critic_score</th>\n",
       "      <th>user_score</th>\n",
       "      <th>rating</th>\n",
       "      <th>total_sales</th>\n",
       "    </tr>\n",
       "  </thead>\n",
       "  <tbody>\n",
       "    <tr>\n",
       "      <th>15956</th>\n",
       "      <td>Strongest Tokyo University Shogi DS</td>\n",
       "      <td>DS</td>\n",
       "      <td>1985.0</td>\n",
       "      <td>Action</td>\n",
       "      <td>0.0</td>\n",
       "      <td>0.0</td>\n",
       "      <td>0.02</td>\n",
       "      <td>0.0</td>\n",
       "      <td>NaN</td>\n",
       "      <td>NaN</td>\n",
       "      <td>NaN</td>\n",
       "      <td>0.02</td>\n",
       "    </tr>\n",
       "  </tbody>\n",
       "</table>\n",
       "</div>"
      ],
      "text/plain": [
       "                                      name platform  year_of_release   genre  \\\n",
       "15956  Strongest Tokyo University Shogi DS       DS           1985.0  Action   \n",
       "\n",
       "       na_sales  eu_sales  jp_sales  other_sales  critic_score  user_score  \\\n",
       "15956       0.0       0.0      0.02          0.0           NaN         NaN   \n",
       "\n",
       "      rating  total_sales  \n",
       "15956    NaN         0.02  "
      ]
     },
     "execution_count": 35,
     "metadata": {},
     "output_type": "execute_result"
    }
   ],
   "source": [
    "df_auxiliar = df.query(\"(year_of_release == 1985) and (platform == 'DS')\")\n",
    "df_auxiliar"
   ]
  },
  {
   "cell_type": "markdown",
   "metadata": {},
   "source": [
    "Hay un videojuego que tiene año de lanzamiento 1985, pero la consola no existía en ese año. Buscando por internet encuentro que el juego salió en el 2007. Modificaré el registro para que tenga el año correcto."
   ]
  },
  {
   "cell_type": "code",
   "execution_count": 36,
   "metadata": {
    "scrolled": true,
    "trusted": false
   },
   "outputs": [
    {
     "data": {
      "image/png": "[encoded data removed]",
      "text/plain": [
       "<Figure size 640x480 with 1 Axes>"
      ]
     },
     "metadata": {},
     "output_type": "display_data"
    }
   ],
   "source": [
    "df.loc[15956,\"year_of_release\"] = 2007\n",
    "\n",
    "df_grouped_auxiliar = df.query('platform == \"DS\"').groupby('year_of_release', as_index=False)['total_sales'].sum()\n",
    "plt.bar(x=df_grouped_auxiliar[\"year_of_release\"], height=df_grouped_auxiliar[\"total_sales\"])\n",
    "\n",
    "plt.title(\"Ventas de Nintendo DS\")\n",
    "plt.xlabel(\"Año\")\n",
    "plt.ylabel(\"Millones de dolares\")\n",
    "plt.show()\n"
   ]
  },
  {
   "cell_type": "markdown",
   "metadata": {},
   "source": [
    "Ciclo de vida de 10 años. Vemos un comportamiento parecido a las otras consolas, comienzan muy fuerte, y despues de unos 4 años comienzan a bajar sus ventas."
   ]
  },
  {
   "cell_type": "markdown",
   "metadata": {},
   "source": [
    "#### Conclusiones.\n",
    "Vemos que las consolas tienen un ciclo de vida de 11 años, esto debido principalmente a que surgen nuevas tecnologías en videojuegos y a que sale una consola que sustituye a la anterior."
   ]
  },
  {
   "cell_type": "markdown",
   "metadata": {},
   "source": [
    "### Determina para qué período debes tomar datos. Para hacerlo mira tus respuestas a las preguntas anteriores. Los datos deberían permitirte construir un modelo para 2017.\n",
    "\n",
    "Tomando la información de las 5 consolas mas vendidas haré mis análisis a partir del 2000."
   ]
  },
  {
   "cell_type": "code",
   "execution_count": 37,
   "metadata": {
    "trusted": false
   },
   "outputs": [
    {
     "data": {
      "text/plain": [
       "array([2000., 2001., 2002., 2003., 2004., 2005., 2006., 2007., 2008.,\n",
       "       2009., 2010., 2011., 2012., 2013., 2014., 2015., 2016.,   nan])"
      ]
     },
     "execution_count": 37,
     "metadata": {},
     "output_type": "execute_result"
    }
   ],
   "source": [
    "df = df.query(\"(year_of_release >= 2000) or (year_of_release.isna())\").sort_values(by=\"year_of_release\")\n",
    "df['year_of_release'].unique()"
   ]
  },
  {
   "cell_type": "markdown",
   "metadata": {},
   "source": [
    "### ¿Qué plataformas son líderes en ventas? ¿Cuáles crecen y cuáles se reducen? Elige varias plataformas potencialmente rentables.\n",
    "\n",
    "Analizaremos las consolas que mas venden en los últimos años, cuáles son las que venden mas y cuáles son las que venden menos.\n",
    "\n",
    "#### Consola mas vendida en el 2016 (año mas reciente)"
   ]
  },
  {
   "cell_type": "code",
   "execution_count": 38,
   "metadata": {
    "trusted": false
   },
   "outputs": [
    {
     "data": {
      "image/png": "[encoded data removed]",
      "text/plain": [
       "<Figure size 640x480 with 1 Axes>"
      ]
     },
     "metadata": {},
     "output_type": "display_data"
    }
   ],
   "source": [
    "df_grouped_auxiliar = df.query(\"year_of_release >= 2016\").groupby(\"platform\", as_index=False)[\"total_sales\"].sum()\n",
    "df_grouped_auxiliar = df_grouped_auxiliar.sort_values(by=\"total_sales\", ascending=False)\n",
    "\n",
    "plt.bar(x=df_grouped_auxiliar[\"platform\"], height=df_grouped_auxiliar[\"total_sales\"])\n",
    "plt.title(\"Dinero producido por consolas en el 2016\")\n",
    "plt.xlabel(\"Nombre de la consola\")\n",
    "plt.ylabel(\"Millones de dolares\")\n",
    "plt.show()"
   ]
  },
  {
   "cell_type": "markdown",
   "metadata": {},
   "source": [
    "Claramente Playstation4 domina el mercado en el 2016, no obstante, hay que graficar para obtener mejores conclusiones. \n",
    "\n",
    "#### Comportamiento en ventas de los últimos años"
   ]
  },
  {
   "cell_type": "code",
   "execution_count": 39,
   "metadata": {
    "trusted": false
   },
   "outputs": [
    {
     "data": {
      "image/png": "[encoded data removed]",
      "text/plain": [
       "<Figure size 1200x400 with 1 Axes>"
      ]
     },
     "metadata": {},
     "output_type": "display_data"
    }
   ],
   "source": [
    "df_grouped_auxiliar = df.groupby([\"platform\", \"year_of_release\"], as_index=False)[\"total_sales\"].count()\n",
    "auxiliar_table = pd.pivot_table(df_grouped_auxiliar, index=\"platform\", columns=\"year_of_release\", values=\"total_sales\")\n",
    "# tomaremos solo las consolas que tengan ventas los últimos años\n",
    "auxiliar_table = auxiliar_table.loc[[\"3DS\", \"PC\", \"PS3\", \"PS4\", \"PSV\", \"Wii\", \"WiiU\", \"X360\", \"XOne\"]]\n",
    "auxiliar_table\n",
    "\n",
    "plt.figure(figsize=(12,4))\n",
    "plt.plot(auxiliar_table.columns,auxiliar_table.loc[\"3DS\"])\n",
    "plt.plot(auxiliar_table.columns,auxiliar_table.loc[\"PC\"])\n",
    "plt.plot(auxiliar_table.columns,auxiliar_table.loc[\"PS3\"])\n",
    "plt.plot(auxiliar_table.columns,auxiliar_table.loc[\"PS4\"])\n",
    "plt.plot(auxiliar_table.columns,auxiliar_table.loc[\"PSV\"])\n",
    "plt.plot(auxiliar_table.columns,auxiliar_table.loc[\"Wii\"])\n",
    "plt.plot(auxiliar_table.columns,auxiliar_table.loc[\"WiiU\"])\n",
    "plt.plot(auxiliar_table.columns,auxiliar_table.loc[\"X360\"])\n",
    "plt.plot(auxiliar_table.columns,auxiliar_table.loc[\"XOne\"])\n",
    "plt.title(\"Ventas en las consolas 2000-2016\")\n",
    "plt.xlabel(\"Año\")\n",
    "plt.ylabel(\"Millones de dolares\")\n",
    "plt.legend([\"3DS\", \"PC\", \"PS3\", \"PS4\", \"PSV\", \"Wii\", \"WiiU\", \"X360\", \"XOne\"])\n",
    "plt.show()"
   ]
  },
  {
   "cell_type": "markdown",
   "metadata": {},
   "source": [
    "En el grafico anterior se observa el dinero generado por las consolas en los últimos años. Como se observó en los ejercicios anteriores, el comportamiento en el dinero generado es parecido a una gaussiana, por lo que esperamos que las consolas presenten ventas con este comportamiento (excepto ventas en PC). Dicho esto podemos predecir lo siguiente:\n",
    " - La consola PS4 aumentará sus ventas en el 2017\n",
    " - La consola Xbox One puede aumentar o disminuir sus ventas un poco, pero sigue siendo una opicón rentable.\n",
    " - La consola portatil Playstation Vita y la Nintendo 3DS comienzan a disminuir sus ventas pero le quedan unos cuantos años generando ingresos.\n",
    " - consolas como PS3, Wii, WiiU y Xbox 360 están al final de su ciclo de vida, dejaron de ser una opción rentable.\n",
    " \n",
    "### Crea un diagrama de caja para las ventas globales de todos los juegos, desglosados por plataforma. ¿Son significativas las diferencias en las ventas? ¿Qué sucede con las ventas promedio en varias plataformas? Describe tus hallazgos."
   ]
  },
  {
   "cell_type": "code",
   "execution_count": 40,
   "metadata": {
    "scrolled": true,
    "trusted": false
   },
   "outputs": [
    {
     "data": {
      "image/png": "[encoded data removed]",
      "text/plain": [
       "<Figure size 640x480 with 1 Axes>"
      ]
     },
     "metadata": {},
     "output_type": "display_data"
    },
    {
     "data": {
      "image/png": "[encoded data removed]",
      "text/plain": [
       "<Figure size 640x480 with 1 Axes>"
      ]
     },
     "metadata": {},
     "output_type": "display_data"
    }
   ],
   "source": [
    "# guardaremos las distribuciones en distintas variables para distintas consolas\n",
    "ventas_juegos_3ds = df.query(\"platform == '3DS'\")[\"total_sales\"]\n",
    "ventas_juegos_pc = df.query(\"platform == 'PC'\")[\"total_sales\"]\n",
    "ventas_juegos_ps3 = df.query(\"platform == 'PS3'\")[\"total_sales\"]\n",
    "ventas_juegos_ps4 = df.query(\"platform == 'PS4'\")[\"total_sales\"]\n",
    "ventas_juegos_psv = df.query(\"platform == 'PSV'\")[\"total_sales\"]\n",
    "ventas_juegos_wii = df.query(\"platform == 'Wii'\")[\"total_sales\"]\n",
    "ventas_juegos_wiiu = df.query(\"platform == 'WiiU'\")[\"total_sales\"]\n",
    "ventas_juegos_x360 = df.query(\"platform == 'X360'\")[\"total_sales\"]\n",
    "ventas_juegos_xone = df.query(\"platform == 'XOne'\")[\"total_sales\"]\n",
    "aux = [\n",
    "    ventas_juegos_3ds,\n",
    "    ventas_juegos_pc,\n",
    "    ventas_juegos_ps3,\n",
    "    ventas_juegos_ps4,\n",
    "    ventas_juegos_psv,\n",
    "    ventas_juegos_wii,\n",
    "    ventas_juegos_wiiu,\n",
    "    ventas_juegos_x360,\n",
    "    ventas_juegos_xone]\n",
    "\n",
    "plt.boxplot(aux, vert=0)\n",
    "plt.yticks(ticks=range(1,10), labels=[\"3DS\", \"PC\", \"PS3\", \"PS4\", \"PSV\", \"Wii\", \"WiiU\", \"X360\", \"XOne\"])\n",
    "plt.title(\"Dinero generado por videojuego para distintas consolas (Diagrama de cajas)\")\n",
    "plt.ylabel(\"Consola\")\n",
    "plt.xlabel(\"millones de dolares\")\n",
    "plt.show()\n",
    "\n",
    "plt.boxplot(aux, vert=0, showfliers=False)\n",
    "plt.yticks(ticks=range(1,10), labels=[\"3DS\", \"PC\", \"PS3\", \"PS4\", \"PSV\", \"Wii\", \"WiiU\", \"X360\", \"XOne\"])\n",
    "plt.title(\"Dinero generado por videojuego para distintas consolas (Diagrama de cajas)\")\n",
    "plt.ylabel(\"Consola\")\n",
    "plt.xlabel(\"millones de dolares\")\n",
    "plt.show()"
   ]
  },
  {
   "cell_type": "markdown",
   "metadata": {},
   "source": [
    "Vemos que las distribuciones se comportan de manera similar: tienen una media baja pero contienen algunos videojuegos \"atipicos\" que generaron mas ventas que la mayoría de los otros juegos (un videojuego de Wii generó casi 80 millones por sí solo).\n",
    "Las medias mas bajas con para PSV y para PC, intentaré explicar los motivos:\n",
    " - PSV: Al ser una consola portatil no muy popular, las ventas en los videojuegos no son muy altas\n",
    " - Pc: Al tener muchos juegos en circulación y con bajo presupuesto baja la media de toda la distribución.\n",
    "\n",
    "Las medias para las demás consolas van en un rango desde los 0.2 millones hasta los 0.3 millones (calculado a ojo).\n",
    "\n",
    "### Mira cómo las reseñas de usuarios y profesionales afectan las ventas de una plataforma popular (tu elección). Crea un gráfico de dispersión y calcula la correlación entre las reseñas y las ventas. Saca conclusiones.\n",
    "\n",
    "#### Reseña de críticos"
   ]
  },
  {
   "cell_type": "code",
   "execution_count": 41,
   "metadata": {
    "trusted": false
   },
   "outputs": [
    {
     "data": {
      "image/png": "[encoded data removed]",
      "text/plain": [
       "<Figure size 640x480 with 1 Axes>"
      ]
     },
     "metadata": {},
     "output_type": "display_data"
    },
    {
     "name": "stdout",
     "output_type": "stream",
     "text": [
      "El coeficiente de correlación entre la calificación de los críticos y las ventas es de: 0.23842229043236726\n"
     ]
    }
   ],
   "source": [
    "plt.scatter(df[\"critic_score\"], df[\"total_sales\"])\n",
    "plt.title(\"Calificacion de críticos vs ventas\")\n",
    "plt.xlabel(\"Calificación\")\n",
    "plt.ylabel(\"Millones de dolares\")\n",
    "plt.ylim([0,40])\n",
    "plt.show()\n",
    "\n",
    "correlacion = df.corr(numeric_only=True)\n",
    "print(\"El coeficiente de correlación entre la calificación de los críticos y las ventas es de: {0}\".format(correlacion.loc[\"critic_score\",\"total_sales\"]))"
   ]
  },
  {
   "cell_type": "code",
   "execution_count": 42,
   "metadata": {
    "trusted": false
   },
   "outputs": [
    {
     "data": {
      "image/png": "[encoded data removed]",
      "text/plain": [
       "<Figure size 640x480 with 1 Axes>"
      ]
     },
     "metadata": {},
     "output_type": "display_data"
    },
    {
     "name": "stdout",
     "output_type": "stream",
     "text": [
      "El coeficiente de correlación entre la calificación de los usuarios y las ventas es de: 0.08113715833241873\n"
     ]
    }
   ],
   "source": [
    "plt.scatter(df[\"user_score\"], df[\"total_sales\"])\n",
    "plt.title(\"Calificacion de usuarios vs ventas\")\n",
    "plt.xlabel(\"Calificación\")\n",
    "plt.ylabel(\"Millones de dolares\")\n",
    "plt.ylim([0,40])\n",
    "plt.show()\n",
    "\n",
    "correlacion = df.corr(numeric_only=True)\n",
    "print(\"El coeficiente de correlación entre la calificación de los usuarios y las ventas es de: {0}\".format(correlacion.loc[\"user_score\",\"total_sales\"]))"
   ]
  },
  {
   "cell_type": "markdown",
   "metadata": {},
   "source": [
    "Los coeficientes son bajos, al parecer la calificación de los videojuegos no influye mucho en sus ventas.\n",
    "Tambien hay que ver que la opinión de los críticos pesa un poco mas que la opinión de los usuarios encuanto a ventas."
   ]
  },
  {
   "cell_type": "markdown",
   "metadata": {},
   "source": [
    "### Teniendo en cuenta tus conclusiones compara las ventas de los mismos juegos en otras plataformas.\n",
    "\n",
    "Buscaremos juegos que salieron en al menos 2 de las 3 plataformas principales en el 2016: Xbox One, playstation4 y PC."
   ]
  },
  {
   "cell_type": "code",
   "execution_count": 43,
   "metadata": {
    "trusted": false
   },
   "outputs": [
    {
     "name": "stdout",
     "output_type": "stream",
     "text": [
      "la media de ventas (MDD) para videojuegos de PC: 0.21916326530612243\n",
      "la media de ventas (MDD) para videojuegos de Xbox One: 0.6030803571428571\n",
      "la media de ventas (MDD) para videojuegos de PlayStation4: 0.8737694704049844\n"
     ]
    }
   ],
   "source": [
    "df_auxiliar = df[df['name'].duplicated(keep=False)].sort_values(by=\"name\").loc[:,[\"name\", \"platform\", \"total_sales\"]]\n",
    "df_auxiliar_pc = df_auxiliar.query(\"platform == 'PC'\")\n",
    "df_auxiliar_xone = df_auxiliar.query(\"platform == 'XOne'\")\n",
    "df_auxiliar_ps4 = df_auxiliar.query(\"platform == 'PS4'\")\n",
    "\n",
    "print(\"la media de ventas (MDD) para videojuegos de PC:\", df_auxiliar_pc[\"total_sales\"].mean())\n",
    "print(\"la media de ventas (MDD) para videojuegos de Xbox One:\", df_auxiliar_xone[\"total_sales\"].mean())\n",
    "print(\"la media de ventas (MDD) para videojuegos de PlayStation4:\", df_auxiliar_ps4[\"total_sales\"].mean())"
   ]
  },
  {
   "cell_type": "code",
   "execution_count": 44,
   "metadata": {
    "scrolled": true,
    "trusted": false
   },
   "outputs": [
    {
     "data": {
      "image/png": "[encoded data removed]",
      "text/plain": [
       "<Figure size 640x480 with 1 Axes>"
      ]
     },
     "metadata": {},
     "output_type": "display_data"
    }
   ],
   "source": [
    "# Xbox one y Playstation4 y PC\n",
    "df_auxiliar = pd.merge(df_auxiliar_xone, df_auxiliar_ps4, on=\"name\", how=\"inner\")\n",
    "df_auxiliar = pd.merge(df_auxiliar, df_auxiliar_pc, on=\"name\", how=\"inner\")\n",
    "\n",
    "plt.boxplot(df_auxiliar.loc[:, [\"total_sales_x\", \"total_sales_y\", \"total_sales\"]], vert=0, showfliers=False)\n",
    "plt.yticks(ticks=[1, 2, 3], labels=[\"Xbox One\", \"PlayStation 4\", \"PC\"])\n",
    "plt.title(\"Comparación de ventas de los mismos juegos entre consolas\")\n",
    "plt.xlabel(\"Millones de dolares\")\n",
    "plt.show()"
   ]
  },
  {
   "cell_type": "markdown",
   "metadata": {},
   "source": [
    "En promedio los mismos juegos venden mas en playstation4, luego en Xbox one y al final en PC. Con esto podemos conluir que si se va a realizar un nuevo juego, conviene hacerla para playstation4 y xboxone.\n"
   ]
  },
  {
   "cell_type": "code",
   "execution_count": 45,
   "metadata": {
    "trusted": false
   },
   "outputs": [
    {
     "data": {
      "image/png": "[encoded data removed]",
      "text/plain": [
       "<Figure size 640x480 with 1 Axes>"
      ]
     },
     "metadata": {},
     "output_type": "display_data"
    }
   ],
   "source": [
    "### Echa un vistazo a la distribución general de los juegos por género. ¿Qué se puede decir de los géneros más rentables? ¿Puedes generalizar acerca de los géneros con ventas altas y bajas?\n",
    "\n",
    "df_action = df.query(\"genre == 'Action'\")[\"total_sales\"]\n",
    "df_adventure = df.query(\"genre == 'Adventure'\")[\"total_sales\"]\n",
    "df_fighting = df.query(\"genre == 'Fighting'\")[\"total_sales\"]\n",
    "df_misc = df.query(\"genre == 'Misc'\")[\"total_sales\"]\n",
    "df_platform = df.query(\"genre == 'Platform'\")[\"total_sales\"]\n",
    "df_puzzle = df.query(\"genre == 'Puzzle'\")[\"total_sales\"]\n",
    "df_racing = df.query(\"genre == 'Racing'\")[\"total_sales\"]\n",
    "df_role = df.query(\"genre == 'Role-Playing'\")[\"total_sales\"]\n",
    "df_shooter = df.query(\"genre == 'Shooter'\")[\"total_sales\"]\n",
    "df_simulation = df.query(\"genre == 'Simulation'\")[\"total_sales\"]\n",
    "df_sports = df.query(\"genre == 'Sports'\")[\"total_sales\"]\n",
    "df_strategy = df.query(\"genre == 'Strategy'\")[\"total_sales\"]\n",
    "\n",
    "plt.boxplot(\n",
    "    [df_action, df_adventure, df_fighting, df_misc, df_platform, df_puzzle, df_racing, df_role, df_shooter, df_simulation, df_sports, df_strategy],\n",
    "    vert=0,\n",
    "    showfliers=False\n",
    ")\n",
    "plt.title(\"Distribución del dinero generado por género\" )\n",
    "plt.xlabel(\"Millones de dólares (MDD)\")\n",
    "plt.yticks(ticks=range(1,13), labels=df[\"genre\"].sort_values().unique())\n",
    "\n",
    "plt.show()"
   ]
  },
  {
   "cell_type": "markdown",
   "metadata": {},
   "source": [
    "### Echa un vistazo a la distribución general de los juegos por género. ¿Qué se puede decir de los géneros más rentables? ¿Puedes generalizar acerca de los géneros con ventas altas y bajas?"
   ]
  },
  {
   "cell_type": "code",
   "execution_count": 46,
   "metadata": {
    "trusted": false
   },
   "outputs": [
    {
     "data": {
      "image/png": "[encoded data removed]",
      "text/plain": [
       "<Figure size 640x480 with 1 Axes>"
      ]
     },
     "metadata": {},
     "output_type": "display_data"
    }
   ],
   "source": [
    "df_action = df.query(\"genre == 'Action'\")[\"total_sales\"]\n",
    "df_adventure = df.query(\"genre == 'Adventure'\")[\"total_sales\"]\n",
    "df_fighting = df.query(\"genre == 'Fighting'\")[\"total_sales\"]\n",
    "df_misc = df.query(\"genre == 'Misc'\")[\"total_sales\"]\n",
    "df_platform = df.query(\"genre == 'Platform'\")[\"total_sales\"]\n",
    "df_puzzle = df.query(\"genre == 'Puzzle'\")[\"total_sales\"]\n",
    "df_racing = df.query(\"genre == 'Racing'\")[\"total_sales\"]\n",
    "df_role = df.query(\"genre == 'Role-Playing'\")[\"total_sales\"]\n",
    "df_shooter = df.query(\"genre == 'Shooter'\")[\"total_sales\"]\n",
    "df_simulation = df.query(\"genre == 'Simulation'\")[\"total_sales\"]\n",
    "df_sports = df.query(\"genre == 'Sports'\")[\"total_sales\"]\n",
    "df_strategy = df.query(\"genre == 'Strategy'\")[\"total_sales\"]\n",
    "\n",
    "plt.boxplot(\n",
    "    [df_action, df_adventure, df_fighting, df_misc, df_platform, df_puzzle, df_racing, df_role, df_shooter, df_simulation, df_sports, df_strategy],\n",
    "    vert=0,\n",
    "    showfliers=False\n",
    ")\n",
    "plt.title(\"Distribución del dinero generado por género\" )\n",
    "plt.xlabel(\"Millones de dólares (MDD)\")\n",
    "plt.yticks(ticks=range(1,13), labels=df[\"genre\"].sort_values().unique())\n",
    "\n",
    "plt.show()"
   ]
  },
  {
   "cell_type": "markdown",
   "metadata": {},
   "source": [
    "Vemos que las medias de los juegos son cercanas (desde 0.1  a 0.25 MDD). pero los juegos shooter, platform, sports y fighting tienen mayores probabilidades de ser éxitos con mas de 1MDD generados.\n",
    "\n",
    "\n",
    "## Estudio por regiones\n",
    "\n",
    "### Las cinco plataformas principales. Describe las variaciones en sus cuotas de mercado de una región a otra.\n"
   ]
  },
  {
   "cell_type": "code",
   "execution_count": 47,
   "metadata": {
    "trusted": false
   },
   "outputs": [
    {
     "name": "stdout",
     "output_type": "stream",
     "text": [
      "\n",
      "\n",
      "las plataformas mas rentables para Norteamérica son: \n",
      "\n",
      " platform\n",
      "X360    602.47\n",
      "PS2     583.84\n",
      "Wii     496.90\n",
      "PS3     393.49\n",
      "DS      382.40\n",
      "Name: na_sales, dtype: float64\n",
      "\n",
      "\n",
      "las plataformas mas rentables para unión europea son: \n",
      "\n",
      " platform\n",
      "PS2     339.29\n",
      "PS3     330.29\n",
      "X360    270.76\n",
      "Wii     262.21\n",
      "DS      188.89\n",
      "Name: eu_sales, dtype: float64\n",
      "\n",
      "\n",
      "las plataformas mas rentables para Japón son: \n",
      "\n",
      " platform\n",
      "DS     175.57\n",
      "PS2    139.20\n",
      "3DS    100.67\n",
      "PS3     80.19\n",
      "PSP     76.78\n",
      "Name: jp_sales, dtype: float64\n"
     ]
    }
   ],
   "source": [
    "df_platform_na = df.groupby(\"platform\")[\"na_sales\"].sum().sort_values(ascending=False).iloc[:5]\n",
    "df_platform_eu = df.groupby(\"platform\")[\"eu_sales\"].sum().sort_values(ascending=False).iloc[:5]\n",
    "df_platform_jp = df.groupby(\"platform\")[\"jp_sales\"].sum().sort_values(ascending=False).iloc[:5]\n",
    "\n",
    "print(\"\\n\\nlas plataformas mas rentables para Norteamérica son: \\n\\n\", df_platform_na)\n",
    "print(\"\\n\\nlas plataformas mas rentables para unión europea son: \\n\\n\", df_platform_eu)\n",
    "print(\"\\n\\nlas plataformas mas rentables para Japón son: \\n\\n\", df_platform_jp)"
   ]
  },
  {
   "cell_type": "markdown",
   "metadata": {},
   "source": [
    "Tienen mayores diferencias de las que pensaba, el xbox360 presentó mayores ventas en norteamérica, pero en las otras 2 regiones se quedó muy abajo. mientras que para europa las PlayStation arrazaron las demás consolas. Japón en cambio parece tener preferencias fuertes por consolas portátiles (ahora entiendo el por qué del intendo switch)."
   ]
  },
  {
   "cell_type": "markdown",
   "metadata": {},
   "source": [
    "### Los cinco géneros principales. Explica la diferencia."
   ]
  },
  {
   "cell_type": "code",
   "execution_count": 48,
   "metadata": {
    "trusted": false
   },
   "outputs": [
    {
     "name": "stdout",
     "output_type": "stream",
     "text": [
      "\n",
      "\n",
      "los generos mas rentables para Norteamérica son: \n",
      "\n",
      " genre\n",
      "Action          768.11\n",
      "Sports          602.62\n",
      "Shooter         502.64\n",
      "Misc            372.97\n",
      "Role-Playing    283.07\n",
      "Name: na_sales, dtype: float64\n",
      "\n",
      "\n",
      "los generos mas rentables para unión europea son: \n",
      "\n",
      " genre\n",
      "Action     474.72\n",
      "Sports     345.04\n",
      "Shooter    296.84\n",
      "Misc       198.85\n",
      "Racing     194.04\n",
      "Name: eu_sales, dtype: float64\n",
      "\n",
      "\n",
      "los generos mas rentables para Japón son: \n",
      "\n",
      " genre\n",
      "Role-Playing    243.73\n",
      "Action          133.54\n",
      "Misc             86.52\n",
      "Sports           76.49\n",
      "Platform         55.39\n",
      "Name: jp_sales, dtype: float64\n"
     ]
    }
   ],
   "source": [
    "df_genre_na = df.groupby(\"genre\")[\"na_sales\"].sum().sort_values(ascending=False).iloc[:5]\n",
    "df_genre_eu = df.groupby(\"genre\")[\"eu_sales\"].sum().sort_values(ascending=False).iloc[:5]\n",
    "df_genre_jp = df.groupby(\"genre\")[\"jp_sales\"].sum().sort_values(ascending=False).iloc[:5]\n",
    "\n",
    "print(\"\\n\\nlos generos mas rentables para Norteamérica son: \\n\\n\", df_genre_na)\n",
    "print(\"\\n\\nlos generos mas rentables para unión europea son: \\n\\n\", df_genre_eu)\n",
    "print(\"\\n\\nlos generos mas rentables para Japón son: \\n\\n\", df_genre_jp)"
   ]
  },
  {
   "cell_type": "markdown",
   "metadata": {},
   "source": [
    "norteamérica y europa tienen gustos similares en cuanto a géneros: Acción, deportes y disparos dominan las ventas.\n",
    "Japón en cambio tiene gustos algo diferentes, los juegos de rol dominan el mercado seguido por acción y otros tipos de juegos. los videojuegos de disparos no son muy populares en esta región."
   ]
  },
  {
   "cell_type": "code",
   "execution_count": 49,
   "metadata": {
    "trusted": false
   },
   "outputs": [
    {
     "name": "stdout",
     "output_type": "stream",
     "text": [
      "\n",
      "\n",
      "las clasificaciones ESRB mas rentables para Norteamérica son: \n",
      "\n",
      " rating\n",
      "E       1268.01\n",
      "M        733.39\n",
      "T        722.01\n",
      "E10+     353.32\n",
      "EC         1.53\n",
      "Name: na_sales, dtype: float64\n",
      "\n",
      "\n",
      "las clasificaciones ESRB mas rentables para unión europea son: \n",
      "\n",
      " rating\n",
      "E       696.99\n",
      "M       476.37\n",
      "T       397.95\n",
      "E10+    188.50\n",
      "AO        0.61\n",
      "Name: eu_sales, dtype: float64\n",
      "\n",
      "\n",
      "las clasificaciones ESRB mas rentables para Japón son: \n",
      "\n",
      " rating\n",
      "E       190.06\n",
      "T       131.71\n",
      "M        58.50\n",
      "E10+     40.20\n",
      "AO        0.00\n",
      "Name: jp_sales, dtype: float64\n"
     ]
    }
   ],
   "source": [
    "df_esrb_na = df.groupby(\"rating\")[\"na_sales\"].sum().sort_values(ascending=False).iloc[:5]\n",
    "df_esrb_eu = df.groupby(\"rating\")[\"eu_sales\"].sum().sort_values(ascending=False).iloc[:5]\n",
    "df_esrb_jp = df.groupby(\"rating\")[\"jp_sales\"].sum().sort_values(ascending=False).iloc[:5]\n",
    "\n",
    "print(\"\\n\\nlas clasificaciones ESRB mas rentables para Norteamérica son: \\n\\n\", df_esrb_na)\n",
    "print(\"\\n\\nlas clasificaciones ESRB mas rentables para unión europea son: \\n\\n\", df_esrb_eu)\n",
    "print(\"\\n\\nlas clasificaciones ESRB mas rentables para Japón son: \\n\\n\", df_esrb_jp)"
   ]
  },
  {
   "cell_type": "markdown",
   "metadata": {},
   "source": [
    "Las 3 regiones comparten preferencias similares en cuanto a la clasificación ESRB. los juegos mas populares son los juegos hechoas para todas las edades, seguidos por juegos para adultos y despues adolescentes.\n",
    "\n",
    "## Pruebas de hipótesis\n",
    "\n",
    "Se harán dos pruebas de hipótesis en esta sección.\n",
    "\n",
    " - Las calificaciones promedio de los usuarios para las plataformas Xbox One y PC son las mismas.\n",
    " - Las calificaciones promedio de los usuarios para los géneros de Acción y Deportes son diferentes.\n",
    "\n",
    "### Las calificaciones promedio de los usuarios para las plataformas Xbox One y PC son las mismas.\n",
    "\n",
    "Para responder esta pregunta usaremos:\n",
    " - H0: Las calificaciones promedio de los usuarios para las plataformas de Xbox One y PC SON DIFERENTES\n",
    " - H1: Las calificaciones promedio de los usuarios para las plotaformas de Xbox One y PC SON LAS MISMAS\n",
    "Si no podemos rechazar la hipótesis nula, podremos aceptar la alternativa. usaré una significancia del 5%.\n",
    "\n",
    "Esta prueba es especial porque la hipótesis nula dice que son diferentes. entonces para que el umbral alpha (nuestra seguridad) sea del 5%  debemos tener un pvalue mayor a 1-alpha. esto quiere decir que el valor alpha nos diga que en el 95% de los casos, las distribuciones son las mismas."
   ]
  },
  {
   "cell_type": "code",
   "execution_count": 50,
   "metadata": {
    "trusted": false
   },
   "outputs": [
    {
     "name": "stdout",
     "output_type": "stream",
     "text": [
      "no podemos rechazar la hipótesis nula, pvalue = 1.6650647460992076e-05\n"
     ]
    }
   ],
   "source": [
    "df_xboxone = df.query(\"platform == 'XOne'\")['user_score'].dropna()\n",
    "df_pc = df.query(\"platform == 'PC'\")['user_score'].dropna()\n",
    "\n",
    "alpha = 0.05\n",
    "prueba = st.ttest_ind(df_xboxone, df_pc, equal_var=False, alternative='two-sided')\n",
    "\n",
    "if prueba.pvalue > 1-alpha:\n",
    "    print('la hipótesis nula es rechazada, pvalue = {0}'.format(prueba.pvalue))\n",
    "else:\n",
    "    print('no podemos rechazar la hipótesis nula, pvalue = {0}'.format(prueba.pvalue))"
   ]
  },
  {
   "cell_type": "markdown",
   "metadata": {},
   "source": [
    "Observamos pvalue de 1.66 x10-5, esto nos dice que las distribuciones son diferentes, por lo tanto no podemos rechazar la hipótesis nula.\n",
    "\n",
    "\n",
    "### Las calificaciones promedio de los usuarios para los géneros de Acción y Deportes son diferentes\n",
    "\n",
    "Para responder esta pregunta usaremos:\n",
    " - H0: Las calificaciones promedio de los usuarios para los géneros de acción y deportes SON LAS MISMAS\n",
    " - H1: Las calificaciones promedio de los usuarios para los géneros de acción y deportes SON DIFERENTES\n",
    "Si no podemos rechazar la hipótesis nula, podremos aceptar la alternativa. usaré una significancia del 5%."
   ]
  },
  {
   "cell_type": "code",
   "execution_count": 51,
   "metadata": {
    "trusted": false
   },
   "outputs": [
    {
     "name": "stdout",
     "output_type": "stream",
     "text": [
      "no podemos rechazar la hipótesis nula, pvalue = 0.1600621497268027\n"
     ]
    }
   ],
   "source": [
    "df_accion = df.query(\"genre == 'Action'\")['user_score'].dropna()\n",
    "df_sports = df.query(\"genre == 'Sports'\")['user_score'].dropna()\n",
    "\n",
    "alpha = 0.05\n",
    "prueba = st.ttest_ind(df_accion, df_sports, equal_var=False, alternative='two-sided')\n",
    "\n",
    "if prueba.pvalue < alpha:\n",
    "    print('la hipótesis nula es rechazada, pvalue = {0}'.format(prueba.pvalue))\n",
    "else:\n",
    "    print('no podemos rechazar la hipótesis nula, pvalue = {0}'.format(prueba.pvalue))"
   ]
  },
  {
   "cell_type": "markdown",
   "metadata": {},
   "source": [
    " el pvalue es de 0.16, no podemos rechazar la hipótesis nula pues existe un 16% de probabilidad de que las distribuciones sean las mismas y queremos una significacnia del 5%.\n",
    " \n",
    "## Conclusiones\n",
    "\n",
    "En este cuaderno se trabajó sobre una base de datos que incluía información sobre los videojuegos vendidos desde 1980 hasta 2016. la informacion cuenta con el nombre del juego, su género, su clasificación ESRB y tambien sus ventas en 3 regiones distintas: Japón, Norteamérica y Europa. EL trabajo en este cuaderno se divide en 4 etapas las cuales explicaré ahora.\n",
    "\n",
    " - Corrección de errores.\n",
    "  - Se cambió el nombe de las columnas para que coincidiera con el formato snake_case.\n",
    "  - se cambiaron los valores NaN en las columnas na_sales, jp_sales y eu_sales y other_sales a 0, ya que representan 0 ventas en sus repectivas regiones.\n",
    "  - El valor 'tdb' (to be determined) de la columna user_score fue cambiado por un valor nulo, esto debido a que al no presentarse la calificación, no tiene sentido manejar otro tipo de dato.\n",
    "  - Se cambiaron 2 renglones del DataSet y se eliminaron otros 2. El motibo de esto es que eran los mismos juegos registrados dos veces, se sumaron las ventas de uno de los duplicados y despues se eliminó el renglón. (para mas detalles ver la sección 2.13).\n",
    "  - se corrigió un registro que contenía el año de lanzamiento erroneo. se buscó en internet el año de lanzamiento antes de modificar.\n",
    "  \n",
    " - Creación de nuevos datos.\n",
    "  - Se creó una columna llamada total_sales, en esta se incluyen la suma de las 4 columnas de ventas originales del dataset.\n",
    "  \n",
    " - Análisis de datos.\n",
    "  - Se hizó un análisis de los juegos lanzados en diferentes años y una gráfica de barras. Se dió una explicación del comportamiento de la gráfica detallando con sucesos históricos.\n",
    "  - Se realizó un análizis del comportamiento en ventas para las 5 consolas mas vendidas. se encontró que poseen un comportamiento similar, teniendo una vida de ventas de al rededor de 11 años.\n",
    "  - Se recortó el DataSet para contener información solo del 2000 en adelante, el motivo es que usar datos antiguos ya no es tan útil, pues contienen consolas obsoletas que no presentarán ventas futuras.\n",
    "  - Se analizó cuál es la plataforma con mayores ventas en el 2016 (playstation4)\n",
    "  - se realizó un diagrama de líneas en el que vemos el comportamiento de las consolas desde el 2000 al 2016. Observamos cuáles consolas comienzan su ciclo de vida y cuáles ya están por terminar el ciclo.\n",
    "  - Se mostró con un diagrama de cajas las ventas de los videojuegos clasificadas por género, se sugiere los géneros con mayor potencial en ventas y los generos con menor potencial.\n",
    "  - Se observó cómo la calificación de los críticos y los usuarios influyen en las ventas de los juegos. Se demostró con correlación que no estánrelacionadas fuertemente.\n",
    "  - Se analizaron las ventas de los mismos videojuegos en 3 plataformas: PC, XboxOne y PlayStation 4. Los videojuegos venden mas en la plataforma playstation4 que en las otras 2 plataformas.\n",
    "  - Se analizaron las distribuciones en ventas para los videojuegos clasificacados por género. los vodejuegos de acción, deportes y disparos presentan mayores ventas que otras categorías.\n",
    " - Estudio por regiones\n",
    "  - Se hizo un análisis para cada una de las regiones en: géneros mas vendidos, clasificación ESRB mas rentables y plataformas mas rentables. Se sugirieron explicaciones de estos comportamientos. "
   ]
  }
 ],
 "metadata": {
  "ExecuteTimeLog": [
   {
    "duration": 345,
    "start_time": "2024-12-05T19:46:13.165Z"
   },
   {
    "duration": 61,
    "start_time": "2024-12-05T19:46:40.255Z"
   },
   {
    "duration": 38,
    "start_time": "2024-12-05T19:47:03.938Z"
   },
   {
    "duration": 5,
    "start_time": "2024-12-05T19:48:41.927Z"
   },
   {
    "duration": 3,
    "start_time": "2024-12-05T20:09:14.428Z"
   },
   {
    "duration": 2,
    "start_time": "2024-12-05T20:09:22.469Z"
   },
   {
    "duration": 3,
    "start_time": "2024-12-05T20:10:18.811Z"
   },
   {
    "duration": 2,
    "start_time": "2024-12-05T20:10:37.182Z"
   },
   {
    "duration": 7,
    "start_time": "2024-12-05T20:10:48.795Z"
   },
   {
    "duration": 13,
    "start_time": "2024-12-05T20:10:55.225Z"
   },
   {
    "duration": 4,
    "start_time": "2024-12-05T20:14:42.481Z"
   },
   {
    "duration": 3,
    "start_time": "2024-12-05T20:15:07.285Z"
   },
   {
    "duration": 3,
    "start_time": "2024-12-05T20:15:11.517Z"
   },
   {
    "duration": 13,
    "start_time": "2024-12-05T20:16:36.920Z"
   },
   {
    "duration": 17,
    "start_time": "2024-12-05T20:16:41.787Z"
   },
   {
    "duration": 6,
    "start_time": "2024-12-05T20:17:26.183Z"
   },
   {
    "duration": 684,
    "start_time": "2024-12-05T20:18:42.464Z"
   },
   {
    "duration": 46,
    "start_time": "2024-12-05T20:21:33.402Z"
   },
   {
    "duration": 12,
    "start_time": "2024-12-05T20:22:19.325Z"
   },
   {
    "duration": 4,
    "start_time": "2024-12-05T20:22:36.052Z"
   },
   {
    "duration": 13,
    "start_time": "2024-12-05T20:22:44.289Z"
   },
   {
    "duration": 4,
    "start_time": "2024-12-05T20:26:14.467Z"
   },
   {
    "duration": 15,
    "start_time": "2024-12-05T20:26:21.450Z"
   },
   {
    "duration": 13,
    "start_time": "2024-12-05T20:26:24.106Z"
   },
   {
    "duration": 12,
    "start_time": "2024-12-05T20:26:43.110Z"
   },
   {
    "duration": 9,
    "start_time": "2024-12-05T20:26:52.551Z"
   },
   {
    "duration": 4,
    "start_time": "2024-12-05T20:26:59.925Z"
   },
   {
    "duration": 12,
    "start_time": "2024-12-05T20:27:28.970Z"
   },
   {
    "duration": 13,
    "start_time": "2024-12-05T20:28:09.565Z"
   },
   {
    "duration": 4,
    "start_time": "2024-12-05T20:28:22.267Z"
   },
   {
    "duration": 4,
    "start_time": "2024-12-05T20:28:38.734Z"
   },
   {
    "duration": 5,
    "start_time": "2024-12-05T20:28:45.828Z"
   },
   {
    "duration": 14,
    "start_time": "2024-12-05T20:28:50.402Z"
   },
   {
    "duration": 13,
    "start_time": "2024-12-05T20:28:54.630Z"
   },
   {
    "duration": 8,
    "start_time": "2024-12-05T20:30:23.020Z"
   },
   {
    "duration": 10,
    "start_time": "2024-12-05T20:30:32.280Z"
   },
   {
    "duration": 9,
    "start_time": "2024-12-05T20:30:39.079Z"
   },
   {
    "duration": 14,
    "start_time": "2024-12-05T21:33:12.769Z"
   },
   {
    "duration": 5,
    "start_time": "2024-12-05T21:33:18.627Z"
   },
   {
    "duration": 11,
    "start_time": "2024-12-05T21:33:23.736Z"
   },
   {
    "duration": 12,
    "start_time": "2024-12-05T21:33:41.055Z"
   },
   {
    "duration": 2,
    "start_time": "2024-12-05T21:33:50.294Z"
   },
   {
    "duration": 5,
    "start_time": "2024-12-05T21:33:57.105Z"
   },
   {
    "duration": 9,
    "start_time": "2024-12-05T21:33:59.134Z"
   },
   {
    "duration": 318,
    "start_time": "2024-12-05T21:34:47.193Z"
   },
   {
    "duration": 28,
    "start_time": "2024-12-05T21:34:47.514Z"
   },
   {
    "duration": 32,
    "start_time": "2024-12-05T21:34:47.544Z"
   },
   {
    "duration": 12,
    "start_time": "2024-12-05T21:34:47.578Z"
   },
   {
    "duration": 8,
    "start_time": "2024-12-05T21:34:47.592Z"
   },
   {
    "duration": 11,
    "start_time": "2024-12-05T21:34:53.371Z"
   },
   {
    "duration": 6,
    "start_time": "2024-12-05T21:35:06.594Z"
   },
   {
    "duration": 9,
    "start_time": "2024-12-05T21:35:07.389Z"
   },
   {
    "duration": 177,
    "start_time": "2024-12-05T21:37:51.675Z"
   },
   {
    "duration": 4,
    "start_time": "2024-12-05T21:39:30.084Z"
   },
   {
    "duration": 9,
    "start_time": "2024-12-05T21:39:34.325Z"
   },
   {
    "duration": 385,
    "start_time": "2024-12-05T21:43:33.724Z"
   },
   {
    "duration": 38,
    "start_time": "2024-12-05T21:43:54.408Z"
   },
   {
    "duration": 7,
    "start_time": "2024-12-05T21:44:05.255Z"
   },
   {
    "duration": 416,
    "start_time": "2024-12-05T21:44:20.282Z"
   },
   {
    "duration": 75,
    "start_time": "2024-12-05T21:44:34.488Z"
   },
   {
    "duration": 17,
    "start_time": "2024-12-05T21:44:57.169Z"
   },
   {
    "duration": 17,
    "start_time": "2024-12-05T21:45:23.136Z"
   },
   {
    "duration": 21,
    "start_time": "2024-12-05T21:45:49.314Z"
   },
   {
    "duration": 280,
    "start_time": "2024-12-06T02:58:43.605Z"
   },
   {
    "duration": 25,
    "start_time": "2024-12-06T02:58:43.887Z"
   },
   {
    "duration": 29,
    "start_time": "2024-12-06T02:58:43.914Z"
   },
   {
    "duration": 574,
    "start_time": "2024-12-06T02:58:58.998Z"
   },
   {
    "duration": 4,
    "start_time": "2024-12-06T03:00:59.778Z"
   },
   {
    "duration": 4,
    "start_time": "2024-12-06T03:01:16.446Z"
   },
   {
    "duration": 5,
    "start_time": "2024-12-06T03:01:43.819Z"
   },
   {
    "duration": 4,
    "start_time": "2024-12-06T03:01:48.979Z"
   },
   {
    "duration": 13,
    "start_time": "2024-12-06T03:02:08.745Z"
   },
   {
    "duration": 5,
    "start_time": "2024-12-06T03:02:12.035Z"
   },
   {
    "duration": 38,
    "start_time": "2024-12-06T03:03:21.410Z"
   },
   {
    "duration": 5,
    "start_time": "2024-12-06T03:03:27.490Z"
   },
   {
    "duration": 11,
    "start_time": "2024-12-06T03:03:40.862Z"
   },
   {
    "duration": 18,
    "start_time": "2024-12-06T03:06:26.318Z"
   },
   {
    "duration": 20,
    "start_time": "2024-12-06T03:06:39.156Z"
   },
   {
    "duration": 40,
    "start_time": "2024-12-06T03:09:21.846Z"
   },
   {
    "duration": 8,
    "start_time": "2024-12-06T03:09:34.152Z"
   },
   {
    "duration": 4,
    "start_time": "2024-12-06T03:10:54.927Z"
   },
   {
    "duration": 23,
    "start_time": "2024-12-06T03:12:03.443Z"
   },
   {
    "duration": 4,
    "start_time": "2024-12-06T03:16:06.216Z"
   },
   {
    "duration": 16,
    "start_time": "2024-12-06T03:16:18.370Z"
   },
   {
    "duration": 3,
    "start_time": "2024-12-06T03:20:18.364Z"
   },
   {
    "duration": 4,
    "start_time": "2024-12-06T03:20:33.266Z"
   },
   {
    "duration": 4,
    "start_time": "2024-12-06T03:21:12.352Z"
   },
   {
    "duration": 18,
    "start_time": "2024-12-06T03:21:44.919Z"
   },
   {
    "duration": 3,
    "start_time": "2024-12-06T03:24:55.401Z"
   },
   {
    "duration": 12,
    "start_time": "2024-12-06T03:25:10.161Z"
   },
   {
    "duration": 5,
    "start_time": "2024-12-06T03:25:15.352Z"
   },
   {
    "duration": 4,
    "start_time": "2024-12-06T03:26:09.466Z"
   },
   {
    "duration": 5,
    "start_time": "2024-12-06T03:27:45.651Z"
   },
   {
    "duration": 4,
    "start_time": "2024-12-06T03:28:33.485Z"
   },
   {
    "duration": 6,
    "start_time": "2024-12-06T03:28:38.559Z"
   },
   {
    "duration": 5,
    "start_time": "2024-12-06T03:29:40.961Z"
   },
   {
    "duration": 6,
    "start_time": "2024-12-06T03:30:00.402Z"
   },
   {
    "duration": 9,
    "start_time": "2024-12-06T03:34:00.774Z"
   },
   {
    "duration": 5,
    "start_time": "2024-12-06T03:34:06.144Z"
   },
   {
    "duration": 9,
    "start_time": "2024-12-06T03:34:06.821Z"
   },
   {
    "duration": 4,
    "start_time": "2024-12-06T03:35:22.822Z"
   },
   {
    "duration": 20,
    "start_time": "2024-12-06T03:37:36.425Z"
   },
   {
    "duration": 2,
    "start_time": "2024-12-06T03:39:33.372Z"
   },
   {
    "duration": 10,
    "start_time": "2024-12-06T03:41:24.905Z"
   },
   {
    "duration": 15,
    "start_time": "2024-12-06T03:41:46.279Z"
   },
   {
    "duration": 164,
    "start_time": "2024-12-06T19:37:38.898Z"
   },
   {
    "duration": 268,
    "start_time": "2024-12-06T19:37:50.406Z"
   },
   {
    "duration": 36,
    "start_time": "2024-12-06T19:37:50.676Z"
   },
   {
    "duration": 24,
    "start_time": "2024-12-06T19:37:50.714Z"
   },
   {
    "duration": 5,
    "start_time": "2024-12-06T19:37:50.739Z"
   },
   {
    "duration": 9,
    "start_time": "2024-12-06T19:37:50.747Z"
   },
   {
    "duration": 20,
    "start_time": "2024-12-06T19:37:50.758Z"
   },
   {
    "duration": 6,
    "start_time": "2024-12-06T19:37:50.780Z"
   },
   {
    "duration": 36,
    "start_time": "2024-12-06T19:37:50.788Z"
   },
   {
    "duration": 8,
    "start_time": "2024-12-06T19:37:50.826Z"
   },
   {
    "duration": 16,
    "start_time": "2024-12-06T19:37:50.836Z"
   },
   {
    "duration": 5,
    "start_time": "2024-12-06T19:37:50.853Z"
   },
   {
    "duration": 10,
    "start_time": "2024-12-06T19:37:50.859Z"
   },
   {
    "duration": 5,
    "start_time": "2024-12-06T19:37:50.871Z"
   },
   {
    "duration": 5,
    "start_time": "2024-12-06T19:37:50.879Z"
   },
   {
    "duration": 43,
    "start_time": "2024-12-06T19:37:50.885Z"
   },
   {
    "duration": 6,
    "start_time": "2024-12-06T19:37:50.929Z"
   },
   {
    "duration": 9,
    "start_time": "2024-12-06T19:37:50.936Z"
   },
   {
    "duration": 4,
    "start_time": "2024-12-06T19:37:50.947Z"
   },
   {
    "duration": 9,
    "start_time": "2024-12-06T19:37:50.952Z"
   },
   {
    "duration": 5,
    "start_time": "2024-12-06T19:37:50.962Z"
   },
   {
    "duration": 85,
    "start_time": "2024-12-06T19:37:52.861Z"
   },
   {
    "duration": 104,
    "start_time": "2024-12-06T19:37:56.154Z"
   },
   {
    "duration": 12,
    "start_time": "2024-12-06T19:38:01.134Z"
   },
   {
    "duration": 411,
    "start_time": "2024-12-06T19:38:17.871Z"
   },
   {
    "duration": 8,
    "start_time": "2024-12-06T19:38:27.334Z"
   },
   {
    "duration": 8,
    "start_time": "2024-12-06T19:38:33.938Z"
   },
   {
    "duration": 9,
    "start_time": "2024-12-06T19:38:39.673Z"
   },
   {
    "duration": 20,
    "start_time": "2024-12-06T19:38:50.574Z"
   },
   {
    "duration": 17,
    "start_time": "2024-12-06T19:38:58.953Z"
   },
   {
    "duration": 18,
    "start_time": "2024-12-06T19:39:32.546Z"
   },
   {
    "duration": 326,
    "start_time": "2024-12-07T23:17:13.359Z"
   },
   {
    "duration": 41,
    "start_time": "2024-12-07T23:17:13.688Z"
   },
   {
    "duration": 27,
    "start_time": "2024-12-07T23:17:13.730Z"
   },
   {
    "duration": 4,
    "start_time": "2024-12-07T23:17:13.760Z"
   },
   {
    "duration": 10,
    "start_time": "2024-12-07T23:17:13.766Z"
   },
   {
    "duration": 49,
    "start_time": "2024-12-07T23:17:13.778Z"
   },
   {
    "duration": 8,
    "start_time": "2024-12-07T23:17:13.829Z"
   },
   {
    "duration": 4,
    "start_time": "2024-12-07T23:17:13.839Z"
   },
   {
    "duration": 7,
    "start_time": "2024-12-07T23:17:13.845Z"
   },
   {
    "duration": 21,
    "start_time": "2024-12-07T23:17:13.857Z"
   },
   {
    "duration": 5,
    "start_time": "2024-12-07T23:17:13.880Z"
   },
   {
    "duration": 47,
    "start_time": "2024-12-07T23:17:13.886Z"
   },
   {
    "duration": 5,
    "start_time": "2024-12-07T23:17:13.935Z"
   },
   {
    "duration": 4,
    "start_time": "2024-12-07T23:17:13.942Z"
   },
   {
    "duration": 4,
    "start_time": "2024-12-07T23:17:13.948Z"
   },
   {
    "duration": 5,
    "start_time": "2024-12-07T23:17:13.954Z"
   },
   {
    "duration": 11,
    "start_time": "2024-12-07T23:17:13.961Z"
   },
   {
    "duration": 3,
    "start_time": "2024-12-07T23:17:13.974Z"
   },
   {
    "duration": 53,
    "start_time": "2024-12-07T23:17:13.979Z"
   },
   {
    "duration": 5,
    "start_time": "2024-12-07T23:17:14.033Z"
   },
   {
    "duration": 12,
    "start_time": "2024-12-07T23:17:14.041Z"
   },
   {
    "duration": 18,
    "start_time": "2024-12-07T23:17:14.055Z"
   },
   {
    "duration": 560,
    "start_time": "2024-12-07T23:17:19.864Z"
   },
   {
    "duration": 124,
    "start_time": "2024-12-07T23:17:49.854Z"
   },
   {
    "duration": 4,
    "start_time": "2024-12-07T23:17:57.644Z"
   },
   {
    "duration": 5,
    "start_time": "2024-12-07T23:18:35.736Z"
   },
   {
    "duration": 6,
    "start_time": "2024-12-07T23:18:59.013Z"
   },
   {
    "duration": 5,
    "start_time": "2024-12-07T23:19:27.193Z"
   },
   {
    "duration": 5,
    "start_time": "2024-12-07T23:19:58.174Z"
   },
   {
    "duration": 7,
    "start_time": "2024-12-07T23:20:56.765Z"
   },
   {
    "duration": 309,
    "start_time": "2024-12-07T23:21:23.227Z"
   },
   {
    "duration": 24,
    "start_time": "2024-12-07T23:21:23.538Z"
   },
   {
    "duration": 26,
    "start_time": "2024-12-07T23:21:23.564Z"
   },
   {
    "duration": 4,
    "start_time": "2024-12-07T23:21:23.592Z"
   },
   {
    "duration": 11,
    "start_time": "2024-12-07T23:21:23.624Z"
   },
   {
    "duration": 22,
    "start_time": "2024-12-07T23:21:23.637Z"
   },
   {
    "duration": 8,
    "start_time": "2024-12-07T23:21:23.660Z"
   },
   {
    "duration": 4,
    "start_time": "2024-12-07T23:21:23.671Z"
   },
   {
    "duration": 8,
    "start_time": "2024-12-07T23:21:23.677Z"
   },
   {
    "duration": 48,
    "start_time": "2024-12-07T23:21:23.686Z"
   },
   {
    "duration": 4,
    "start_time": "2024-12-07T23:21:23.736Z"
   },
   {
    "duration": 11,
    "start_time": "2024-12-07T23:21:23.742Z"
   },
   {
    "duration": 5,
    "start_time": "2024-12-07T23:21:23.755Z"
   },
   {
    "duration": 4,
    "start_time": "2024-12-07T23:21:23.763Z"
   },
   {
    "duration": 4,
    "start_time": "2024-12-07T23:21:23.769Z"
   },
   {
    "duration": 5,
    "start_time": "2024-12-07T23:21:23.775Z"
   },
   {
    "duration": 50,
    "start_time": "2024-12-07T23:21:23.782Z"
   },
   {
    "duration": 4,
    "start_time": "2024-12-07T23:21:23.834Z"
   },
   {
    "duration": 8,
    "start_time": "2024-12-07T23:21:23.839Z"
   },
   {
    "duration": 4,
    "start_time": "2024-12-07T23:21:23.849Z"
   },
   {
    "duration": 17,
    "start_time": "2024-12-07T23:21:23.860Z"
   },
   {
    "duration": 18,
    "start_time": "2024-12-07T23:21:23.879Z"
   },
   {
    "duration": 301,
    "start_time": "2024-12-07T23:24:02.516Z"
   },
   {
    "duration": 5,
    "start_time": "2024-12-07T23:24:10.991Z"
   },
   {
    "duration": 7,
    "start_time": "2024-12-07T23:24:30.012Z"
   },
   {
    "duration": 3,
    "start_time": "2024-12-07T23:24:45.325Z"
   },
   {
    "duration": 5,
    "start_time": "2024-12-07T23:25:28.663Z"
   },
   {
    "duration": 4,
    "start_time": "2024-12-07T23:25:32.141Z"
   },
   {
    "duration": 17,
    "start_time": "2024-12-07T23:25:39.671Z"
   },
   {
    "duration": 5,
    "start_time": "2024-12-07T23:26:12.826Z"
   },
   {
    "duration": 6,
    "start_time": "2024-12-07T23:26:20.597Z"
   },
   {
    "duration": 7,
    "start_time": "2024-12-07T23:27:01.881Z"
   },
   {
    "duration": 5,
    "start_time": "2024-12-07T23:27:18.407Z"
   },
   {
    "duration": 5,
    "start_time": "2024-12-07T23:27:22.917Z"
   },
   {
    "duration": 7,
    "start_time": "2024-12-07T23:29:23.026Z"
   },
   {
    "duration": 3,
    "start_time": "2024-12-07T23:29:35.047Z"
   },
   {
    "duration": 313,
    "start_time": "2024-12-07T23:29:52.955Z"
   },
   {
    "duration": 25,
    "start_time": "2024-12-07T23:29:53.270Z"
   },
   {
    "duration": 33,
    "start_time": "2024-12-07T23:29:53.299Z"
   },
   {
    "duration": 4,
    "start_time": "2024-12-07T23:29:53.335Z"
   },
   {
    "duration": 11,
    "start_time": "2024-12-07T23:29:53.340Z"
   },
   {
    "duration": 20,
    "start_time": "2024-12-07T23:29:53.353Z"
   },
   {
    "duration": 7,
    "start_time": "2024-12-07T23:29:53.375Z"
   },
   {
    "duration": 4,
    "start_time": "2024-12-07T23:29:53.385Z"
   },
   {
    "duration": 39,
    "start_time": "2024-12-07T23:29:53.391Z"
   },
   {
    "duration": 14,
    "start_time": "2024-12-07T23:29:53.433Z"
   },
   {
    "duration": 4,
    "start_time": "2024-12-07T23:29:53.449Z"
   },
   {
    "duration": 10,
    "start_time": "2024-12-07T23:29:53.455Z"
   },
   {
    "duration": 5,
    "start_time": "2024-12-07T23:29:53.467Z"
   },
   {
    "duration": 5,
    "start_time": "2024-12-07T23:29:53.473Z"
   },
   {
    "duration": 45,
    "start_time": "2024-12-07T23:29:53.480Z"
   },
   {
    "duration": 5,
    "start_time": "2024-12-07T23:29:53.527Z"
   },
   {
    "duration": 9,
    "start_time": "2024-12-07T23:29:53.534Z"
   },
   {
    "duration": 3,
    "start_time": "2024-12-07T23:29:53.545Z"
   },
   {
    "duration": 8,
    "start_time": "2024-12-07T23:29:53.550Z"
   },
   {
    "duration": 4,
    "start_time": "2024-12-07T23:29:53.560Z"
   },
   {
    "duration": 12,
    "start_time": "2024-12-07T23:29:53.565Z"
   },
   {
    "duration": 53,
    "start_time": "2024-12-07T23:29:53.578Z"
   },
   {
    "duration": 9,
    "start_time": "2024-12-07T23:30:28.037Z"
   },
   {
    "duration": 834,
    "start_time": "2024-12-07T23:30:39.891Z"
   },
   {
    "duration": 159,
    "start_time": "2024-12-07T23:30:58.782Z"
   },
   {
    "duration": 325,
    "start_time": "2024-12-07T23:31:06.827Z"
   },
   {
    "duration": 25,
    "start_time": "2024-12-07T23:31:07.155Z"
   },
   {
    "duration": 26,
    "start_time": "2024-12-07T23:31:07.181Z"
   },
   {
    "duration": 5,
    "start_time": "2024-12-07T23:31:07.225Z"
   },
   {
    "duration": 11,
    "start_time": "2024-12-07T23:31:07.233Z"
   },
   {
    "duration": 21,
    "start_time": "2024-12-07T23:31:07.245Z"
   },
   {
    "duration": 8,
    "start_time": "2024-12-07T23:31:07.267Z"
   },
   {
    "duration": 4,
    "start_time": "2024-12-07T23:31:07.277Z"
   },
   {
    "duration": 7,
    "start_time": "2024-12-07T23:31:07.283Z"
   },
   {
    "duration": 16,
    "start_time": "2024-12-07T23:31:07.324Z"
   },
   {
    "duration": 4,
    "start_time": "2024-12-07T23:31:07.342Z"
   },
   {
    "duration": 10,
    "start_time": "2024-12-07T23:31:07.348Z"
   },
   {
    "duration": 5,
    "start_time": "2024-12-07T23:31:07.359Z"
   },
   {
    "duration": 4,
    "start_time": "2024-12-07T23:31:07.367Z"
   },
   {
    "duration": 5,
    "start_time": "2024-12-07T23:31:07.372Z"
   },
   {
    "duration": 4,
    "start_time": "2024-12-07T23:31:07.379Z"
   },
   {
    "duration": 10,
    "start_time": "2024-12-07T23:31:07.424Z"
   },
   {
    "duration": 8,
    "start_time": "2024-12-07T23:31:07.435Z"
   },
   {
    "duration": 13,
    "start_time": "2024-12-07T23:31:07.445Z"
   },
   {
    "duration": 4,
    "start_time": "2024-12-07T23:31:07.461Z"
   },
   {
    "duration": 12,
    "start_time": "2024-12-07T23:31:07.467Z"
   },
   {
    "duration": 16,
    "start_time": "2024-12-07T23:31:07.480Z"
   },
   {
    "duration": 8,
    "start_time": "2024-12-07T23:31:10.883Z"
   },
   {
    "duration": 16,
    "start_time": "2024-12-07T23:31:32.450Z"
   },
   {
    "duration": 319,
    "start_time": "2024-12-07T23:32:56.448Z"
   },
   {
    "duration": 24,
    "start_time": "2024-12-07T23:32:56.769Z"
   },
   {
    "duration": 34,
    "start_time": "2024-12-07T23:32:56.794Z"
   },
   {
    "duration": 5,
    "start_time": "2024-12-07T23:32:56.829Z"
   },
   {
    "duration": 10,
    "start_time": "2024-12-07T23:32:56.837Z"
   },
   {
    "duration": 20,
    "start_time": "2024-12-07T23:32:56.849Z"
   },
   {
    "duration": 7,
    "start_time": "2024-12-07T23:32:56.871Z"
   },
   {
    "duration": 5,
    "start_time": "2024-12-07T23:32:56.880Z"
   },
   {
    "duration": 43,
    "start_time": "2024-12-07T23:32:56.887Z"
   },
   {
    "duration": 16,
    "start_time": "2024-12-07T23:32:56.932Z"
   },
   {
    "duration": 6,
    "start_time": "2024-12-07T23:32:56.949Z"
   },
   {
    "duration": 10,
    "start_time": "2024-12-07T23:32:56.957Z"
   },
   {
    "duration": 6,
    "start_time": "2024-12-07T23:32:56.968Z"
   },
   {
    "duration": 5,
    "start_time": "2024-12-07T23:32:56.977Z"
   },
   {
    "duration": 42,
    "start_time": "2024-12-07T23:32:56.984Z"
   },
   {
    "duration": 6,
    "start_time": "2024-12-07T23:32:57.028Z"
   },
   {
    "duration": 9,
    "start_time": "2024-12-07T23:32:57.035Z"
   },
   {
    "duration": 4,
    "start_time": "2024-12-07T23:32:57.046Z"
   },
   {
    "duration": 9,
    "start_time": "2024-12-07T23:32:57.051Z"
   },
   {
    "duration": 4,
    "start_time": "2024-12-07T23:32:57.062Z"
   },
   {
    "duration": 12,
    "start_time": "2024-12-07T23:32:57.069Z"
   },
   {
    "duration": 57,
    "start_time": "2024-12-07T23:32:57.082Z"
   },
   {
    "duration": 10,
    "start_time": "2024-12-07T23:32:57.141Z"
   },
   {
    "duration": 19,
    "start_time": "2024-12-07T23:32:57.153Z"
   },
   {
    "duration": 295,
    "start_time": "2024-12-07T23:34:33.178Z"
   },
   {
    "duration": 24,
    "start_time": "2024-12-07T23:34:33.476Z"
   },
   {
    "duration": 36,
    "start_time": "2024-12-07T23:34:33.502Z"
   },
   {
    "duration": 4,
    "start_time": "2024-12-07T23:34:33.539Z"
   },
   {
    "duration": 11,
    "start_time": "2024-12-07T23:34:33.546Z"
   },
   {
    "duration": 20,
    "start_time": "2024-12-07T23:34:33.559Z"
   },
   {
    "duration": 7,
    "start_time": "2024-12-07T23:34:33.581Z"
   },
   {
    "duration": 6,
    "start_time": "2024-12-07T23:34:33.589Z"
   },
   {
    "duration": 8,
    "start_time": "2024-12-07T23:34:33.625Z"
   },
   {
    "duration": 16,
    "start_time": "2024-12-07T23:34:33.634Z"
   },
   {
    "duration": 4,
    "start_time": "2024-12-07T23:34:33.652Z"
   },
   {
    "duration": 10,
    "start_time": "2024-12-07T23:34:33.658Z"
   },
   {
    "duration": 5,
    "start_time": "2024-12-07T23:34:33.669Z"
   },
   {
    "duration": 4,
    "start_time": "2024-12-07T23:34:33.677Z"
   },
   {
    "duration": 45,
    "start_time": "2024-12-07T23:34:33.683Z"
   },
   {
    "duration": 5,
    "start_time": "2024-12-07T23:34:33.730Z"
   },
   {
    "duration": 10,
    "start_time": "2024-12-07T23:34:33.736Z"
   },
   {
    "duration": 4,
    "start_time": "2024-12-07T23:34:33.748Z"
   },
   {
    "duration": 8,
    "start_time": "2024-12-07T23:34:33.754Z"
   },
   {
    "duration": 5,
    "start_time": "2024-12-07T23:34:33.763Z"
   },
   {
    "duration": 13,
    "start_time": "2024-12-07T23:34:33.769Z"
   },
   {
    "duration": 16,
    "start_time": "2024-12-07T23:34:33.824Z"
   },
   {
    "duration": 9,
    "start_time": "2024-12-07T23:34:33.842Z"
   },
   {
    "duration": 19,
    "start_time": "2024-12-07T23:34:33.852Z"
   },
   {
    "duration": 20,
    "start_time": "2024-12-07T23:36:41.381Z"
   },
   {
    "duration": 292,
    "start_time": "2024-12-07T23:38:12.618Z"
   },
   {
    "duration": 32,
    "start_time": "2024-12-07T23:38:12.912Z"
   },
   {
    "duration": 25,
    "start_time": "2024-12-07T23:38:12.945Z"
   },
   {
    "duration": 4,
    "start_time": "2024-12-07T23:38:12.971Z"
   },
   {
    "duration": 10,
    "start_time": "2024-12-07T23:38:12.978Z"
   },
   {
    "duration": 42,
    "start_time": "2024-12-07T23:38:12.990Z"
   },
   {
    "duration": 7,
    "start_time": "2024-12-07T23:38:13.033Z"
   },
   {
    "duration": 4,
    "start_time": "2024-12-07T23:38:13.042Z"
   },
   {
    "duration": 8,
    "start_time": "2024-12-07T23:38:13.048Z"
   },
   {
    "duration": 16,
    "start_time": "2024-12-07T23:38:13.057Z"
   },
   {
    "duration": 4,
    "start_time": "2024-12-07T23:38:13.075Z"
   },
   {
    "duration": 48,
    "start_time": "2024-12-07T23:38:13.081Z"
   },
   {
    "duration": 5,
    "start_time": "2024-12-07T23:38:13.131Z"
   },
   {
    "duration": 4,
    "start_time": "2024-12-07T23:38:13.140Z"
   },
   {
    "duration": 5,
    "start_time": "2024-12-07T23:38:13.145Z"
   },
   {
    "duration": 5,
    "start_time": "2024-12-07T23:38:13.151Z"
   },
   {
    "duration": 9,
    "start_time": "2024-12-07T23:38:13.158Z"
   },
   {
    "duration": 4,
    "start_time": "2024-12-07T23:38:13.168Z"
   },
   {
    "duration": 8,
    "start_time": "2024-12-07T23:38:13.174Z"
   },
   {
    "duration": 4,
    "start_time": "2024-12-07T23:38:13.225Z"
   },
   {
    "duration": 4,
    "start_time": "2024-12-07T23:38:13.232Z"
   },
   {
    "duration": 12,
    "start_time": "2024-12-07T23:38:13.238Z"
   },
   {
    "duration": 16,
    "start_time": "2024-12-07T23:38:13.252Z"
   },
   {
    "duration": 9,
    "start_time": "2024-12-07T23:38:13.270Z"
   },
   {
    "duration": 51,
    "start_time": "2024-12-07T23:38:13.281Z"
   },
   {
    "duration": 20,
    "start_time": "2024-12-07T23:38:16.562Z"
   },
   {
    "duration": 15,
    "start_time": "2024-12-07T23:38:40.960Z"
   },
   {
    "duration": 1881,
    "start_time": "2024-12-07T23:45:48.505Z"
   },
   {
    "duration": 2114,
    "start_time": "2024-12-09T00:23:10.710Z"
   },
   {
    "duration": 36,
    "start_time": "2024-12-09T00:23:12.826Z"
   },
   {
    "duration": 24,
    "start_time": "2024-12-09T00:23:12.863Z"
   },
   {
    "duration": 5,
    "start_time": "2024-12-09T00:23:12.889Z"
   },
   {
    "duration": 10,
    "start_time": "2024-12-09T00:23:12.897Z"
   },
   {
    "duration": 34,
    "start_time": "2024-12-09T00:23:12.908Z"
   },
   {
    "duration": 7,
    "start_time": "2024-12-09T00:23:12.944Z"
   },
   {
    "duration": 5,
    "start_time": "2024-12-09T00:23:12.953Z"
   },
   {
    "duration": 8,
    "start_time": "2024-12-09T00:23:12.959Z"
   },
   {
    "duration": 15,
    "start_time": "2024-12-09T00:23:12.968Z"
   },
   {
    "duration": 40,
    "start_time": "2024-12-09T00:23:12.984Z"
   },
   {
    "duration": 10,
    "start_time": "2024-12-09T00:23:13.026Z"
   },
   {
    "duration": 4,
    "start_time": "2024-12-09T00:23:13.038Z"
   },
   {
    "duration": 4,
    "start_time": "2024-12-09T00:23:13.045Z"
   },
   {
    "duration": 5,
    "start_time": "2024-12-09T00:23:13.050Z"
   },
   {
    "duration": 6,
    "start_time": "2024-12-09T00:23:13.057Z"
   },
   {
    "duration": 9,
    "start_time": "2024-12-09T00:23:13.064Z"
   },
   {
    "duration": 4,
    "start_time": "2024-12-09T00:23:13.075Z"
   },
   {
    "duration": 52,
    "start_time": "2024-12-09T00:23:13.080Z"
   },
   {
    "duration": 5,
    "start_time": "2024-12-09T00:23:13.134Z"
   },
   {
    "duration": 7,
    "start_time": "2024-12-09T00:23:13.140Z"
   },
   {
    "duration": 13,
    "start_time": "2024-12-09T00:23:13.148Z"
   },
   {
    "duration": 18,
    "start_time": "2024-12-09T00:23:13.163Z"
   },
   {
    "duration": 41,
    "start_time": "2024-12-09T00:23:13.183Z"
   },
   {
    "duration": 15,
    "start_time": "2024-12-09T00:23:13.226Z"
   },
   {
    "duration": 19,
    "start_time": "2024-12-09T00:23:13.243Z"
   },
   {
    "duration": 16,
    "start_time": "2024-12-09T00:23:16.951Z"
   },
   {
    "duration": 1058,
    "start_time": "2024-12-09T00:23:47.955Z"
   },
   {
    "duration": 5,
    "start_time": "2024-12-09T00:24:06.122Z"
   },
   {
    "duration": 6,
    "start_time": "2024-12-09T00:25:09.816Z"
   },
   {
    "duration": 9,
    "start_time": "2024-12-09T00:25:52.328Z"
   },
   {
    "duration": 218,
    "start_time": "2024-12-09T00:27:01.697Z"
   },
   {
    "duration": 468,
    "start_time": "2024-12-09T00:27:37.126Z"
   },
   {
    "duration": 145,
    "start_time": "2024-12-09T00:27:47.617Z"
   },
   {
    "duration": 130,
    "start_time": "2024-12-09T00:28:18.433Z"
   },
   {
    "duration": 15,
    "start_time": "2024-12-09T00:28:47.467Z"
   },
   {
    "duration": 331,
    "start_time": "2024-12-09T00:30:06.258Z"
   },
   {
    "duration": 140,
    "start_time": "2024-12-09T00:30:12.218Z"
   },
   {
    "duration": 130,
    "start_time": "2024-12-09T00:30:25.350Z"
   },
   {
    "duration": 111,
    "start_time": "2024-12-09T00:30:38.853Z"
   },
   {
    "duration": 142,
    "start_time": "2024-12-09T00:30:52.467Z"
   },
   {
    "duration": 121,
    "start_time": "2024-12-09T00:32:49.832Z"
   },
   {
    "duration": 213,
    "start_time": "2024-12-09T00:32:55.494Z"
   },
   {
    "duration": 104,
    "start_time": "2024-12-09T00:33:10.869Z"
   },
   {
    "duration": 140,
    "start_time": "2024-12-09T00:33:37.629Z"
   },
   {
    "duration": 132,
    "start_time": "2024-12-09T00:33:50.915Z"
   },
   {
    "duration": 279,
    "start_time": "2024-12-09T00:34:47.803Z"
   },
   {
    "duration": 128,
    "start_time": "2024-12-09T00:35:24.958Z"
   },
   {
    "duration": 128,
    "start_time": "2024-12-09T00:35:31.238Z"
   },
   {
    "duration": 128,
    "start_time": "2024-12-09T00:35:39.287Z"
   },
   {
    "duration": 148,
    "start_time": "2024-12-09T00:36:15.743Z"
   },
   {
    "duration": 10,
    "start_time": "2024-12-09T01:04:14.719Z"
   },
   {
    "duration": 12,
    "start_time": "2024-12-09T01:04:33.090Z"
   },
   {
    "duration": 11,
    "start_time": "2024-12-09T01:05:33.614Z"
   },
   {
    "duration": 10,
    "start_time": "2024-12-09T01:06:06.120Z"
   },
   {
    "duration": 12,
    "start_time": "2024-12-09T01:06:16.397Z"
   },
   {
    "duration": 11,
    "start_time": "2024-12-09T01:06:50.243Z"
   },
   {
    "duration": 6,
    "start_time": "2024-12-09T01:11:58.520Z"
   },
   {
    "duration": 19,
    "start_time": "2024-12-09T01:12:02.405Z"
   },
   {
    "duration": 8,
    "start_time": "2024-12-09T01:13:17.811Z"
   },
   {
    "duration": 11,
    "start_time": "2024-12-09T01:13:25.974Z"
   },
   {
    "duration": 107,
    "start_time": "2024-12-09T01:14:28.448Z"
   },
   {
    "duration": 117,
    "start_time": "2024-12-09T01:26:50.937Z"
   },
   {
    "duration": 118,
    "start_time": "2024-12-09T01:26:57.264Z"
   },
   {
    "duration": 126,
    "start_time": "2024-12-09T01:27:03.717Z"
   },
   {
    "duration": 116,
    "start_time": "2024-12-09T01:30:40.434Z"
   },
   {
    "duration": 139,
    "start_time": "2024-12-09T01:36:51.847Z"
   },
   {
    "duration": 92,
    "start_time": "2024-12-09T01:44:56.415Z"
   },
   {
    "duration": 115,
    "start_time": "2024-12-09T01:45:15.599Z"
   },
   {
    "duration": 117,
    "start_time": "2024-12-09T01:46:24.329Z"
   },
   {
    "duration": 116,
    "start_time": "2024-12-09T05:07:58.031Z"
   },
   {
    "duration": 115,
    "start_time": "2024-12-09T05:08:31.040Z"
   },
   {
    "duration": 119,
    "start_time": "2024-12-09T05:09:05.322Z"
   },
   {
    "duration": 114,
    "start_time": "2024-12-09T05:09:53.041Z"
   },
   {
    "duration": 5,
    "start_time": "2024-12-09T05:10:44.161Z"
   },
   {
    "duration": 9,
    "start_time": "2024-12-09T05:10:50.438Z"
   },
   {
    "duration": 120,
    "start_time": "2024-12-09T05:13:02.548Z"
   },
   {
    "duration": 11,
    "start_time": "2024-12-09T05:17:37.940Z"
   },
   {
    "duration": 5,
    "start_time": "2024-12-09T06:00:47.579Z"
   },
   {
    "duration": 4,
    "start_time": "2024-12-09T06:01:02.778Z"
   },
   {
    "duration": 112,
    "start_time": "2024-12-09T06:02:10.646Z"
   },
   {
    "duration": 5,
    "start_time": "2024-12-09T06:02:42.452Z"
   },
   {
    "duration": 3,
    "start_time": "2024-12-09T06:02:46.579Z"
   },
   {
    "duration": 118,
    "start_time": "2024-12-09T06:02:55.282Z"
   },
   {
    "duration": 10,
    "start_time": "2024-12-09T06:55:27.928Z"
   },
   {
    "duration": 14,
    "start_time": "2024-12-09T06:55:51.331Z"
   },
   {
    "duration": 11,
    "start_time": "2024-12-09T06:58:54.486Z"
   },
   {
    "duration": 509,
    "start_time": "2024-12-09T06:59:07.669Z"
   },
   {
    "duration": 72,
    "start_time": "2024-12-09T06:59:08.181Z"
   },
   {
    "duration": 25,
    "start_time": "2024-12-09T06:59:08.255Z"
   },
   {
    "duration": 4,
    "start_time": "2024-12-09T06:59:08.282Z"
   },
   {
    "duration": 11,
    "start_time": "2024-12-09T06:59:08.288Z"
   },
   {
    "duration": 45,
    "start_time": "2024-12-09T06:59:08.301Z"
   },
   {
    "duration": 9,
    "start_time": "2024-12-09T06:59:08.348Z"
   },
   {
    "duration": 5,
    "start_time": "2024-12-09T06:59:08.360Z"
   },
   {
    "duration": 10,
    "start_time": "2024-12-09T06:59:08.367Z"
   },
   {
    "duration": 49,
    "start_time": "2024-12-09T06:59:08.379Z"
   },
   {
    "duration": 4,
    "start_time": "2024-12-09T06:59:08.430Z"
   },
   {
    "duration": 11,
    "start_time": "2024-12-09T06:59:08.435Z"
   },
   {
    "duration": 5,
    "start_time": "2024-12-09T06:59:08.448Z"
   },
   {
    "duration": 5,
    "start_time": "2024-12-09T06:59:08.458Z"
   },
   {
    "duration": 5,
    "start_time": "2024-12-09T06:59:08.465Z"
   },
   {
    "duration": 5,
    "start_time": "2024-12-09T06:59:08.473Z"
   },
   {
    "duration": 51,
    "start_time": "2024-12-09T06:59:08.481Z"
   },
   {
    "duration": 5,
    "start_time": "2024-12-09T06:59:08.534Z"
   },
   {
    "duration": 10,
    "start_time": "2024-12-09T06:59:08.542Z"
   },
   {
    "duration": 4,
    "start_time": "2024-12-09T06:59:08.553Z"
   },
   {
    "duration": 4,
    "start_time": "2024-12-09T06:59:08.559Z"
   },
   {
    "duration": 13,
    "start_time": "2024-12-09T06:59:08.565Z"
   },
   {
    "duration": 49,
    "start_time": "2024-12-09T06:59:08.581Z"
   },
   {
    "duration": 12,
    "start_time": "2024-12-09T06:59:08.632Z"
   },
   {
    "duration": 23,
    "start_time": "2024-12-09T06:59:08.648Z"
   },
   {
    "duration": 22,
    "start_time": "2024-12-09T06:59:08.674Z"
   },
   {
    "duration": 33,
    "start_time": "2024-12-09T06:59:08.698Z"
   },
   {
    "duration": 192,
    "start_time": "2024-12-09T06:59:08.733Z"
   },
   {
    "duration": 20,
    "start_time": "2024-12-09T06:59:08.929Z"
   },
   {
    "duration": 159,
    "start_time": "2024-12-09T06:59:08.951Z"
   },
   {
    "duration": 122,
    "start_time": "2024-12-09T06:59:09.113Z"
   },
   {
    "duration": 128,
    "start_time": "2024-12-09T06:59:09.237Z"
   },
   {
    "duration": 127,
    "start_time": "2024-12-09T06:59:09.367Z"
   },
   {
    "duration": 152,
    "start_time": "2024-12-09T06:59:09.496Z"
   },
   {
    "duration": 12,
    "start_time": "2024-12-09T06:59:09.650Z"
   },
   {
    "duration": 179,
    "start_time": "2024-12-09T06:59:09.664Z"
   },
   {
    "duration": 11,
    "start_time": "2024-12-09T06:59:13.431Z"
   },
   {
    "duration": 2252,
    "start_time": "2024-12-09T18:37:18.875Z"
   },
   {
    "duration": 38,
    "start_time": "2024-12-09T18:37:21.129Z"
   },
   {
    "duration": 24,
    "start_time": "2024-12-09T18:37:21.168Z"
   },
   {
    "duration": 4,
    "start_time": "2024-12-09T18:37:21.194Z"
   },
   {
    "duration": 10,
    "start_time": "2024-12-09T18:37:21.201Z"
   },
   {
    "duration": 46,
    "start_time": "2024-12-09T18:37:21.213Z"
   },
   {
    "duration": 7,
    "start_time": "2024-12-09T18:37:21.260Z"
   },
   {
    "duration": 7,
    "start_time": "2024-12-09T18:37:21.269Z"
   },
   {
    "duration": 9,
    "start_time": "2024-12-09T18:37:21.277Z"
   },
   {
    "duration": 17,
    "start_time": "2024-12-09T18:37:21.289Z"
   },
   {
    "duration": 5,
    "start_time": "2024-12-09T18:37:21.307Z"
   },
   {
    "duration": 38,
    "start_time": "2024-12-09T18:37:21.314Z"
   },
   {
    "duration": 5,
    "start_time": "2024-12-09T18:37:21.353Z"
   },
   {
    "duration": 4,
    "start_time": "2024-12-09T18:37:21.363Z"
   },
   {
    "duration": 5,
    "start_time": "2024-12-09T18:37:21.368Z"
   },
   {
    "duration": 5,
    "start_time": "2024-12-09T18:37:21.374Z"
   },
   {
    "duration": 9,
    "start_time": "2024-12-09T18:37:21.380Z"
   },
   {
    "duration": 3,
    "start_time": "2024-12-09T18:37:21.391Z"
   },
   {
    "duration": 52,
    "start_time": "2024-12-09T18:37:21.396Z"
   },
   {
    "duration": 4,
    "start_time": "2024-12-09T18:37:21.449Z"
   },
   {
    "duration": 6,
    "start_time": "2024-12-09T18:37:21.454Z"
   },
   {
    "duration": 11,
    "start_time": "2024-12-09T18:37:21.462Z"
   },
   {
    "duration": 15,
    "start_time": "2024-12-09T18:37:21.475Z"
   },
   {
    "duration": 9,
    "start_time": "2024-12-09T18:37:21.492Z"
   },
   {
    "duration": 42,
    "start_time": "2024-12-09T18:37:21.502Z"
   },
   {
    "duration": 19,
    "start_time": "2024-12-09T18:37:21.545Z"
   },
   {
    "duration": 14,
    "start_time": "2024-12-09T18:37:21.566Z"
   },
   {
    "duration": 171,
    "start_time": "2024-12-09T18:37:21.583Z"
   },
   {
    "duration": 11,
    "start_time": "2024-12-09T18:37:21.756Z"
   },
   {
    "duration": 163,
    "start_time": "2024-12-09T18:37:21.769Z"
   },
   {
    "duration": 126,
    "start_time": "2024-12-09T18:37:21.934Z"
   },
   {
    "duration": 126,
    "start_time": "2024-12-09T18:37:22.062Z"
   },
   {
    "duration": 124,
    "start_time": "2024-12-09T18:37:22.189Z"
   },
   {
    "duration": 135,
    "start_time": "2024-12-09T18:37:22.315Z"
   },
   {
    "duration": 13,
    "start_time": "2024-12-09T18:37:22.452Z"
   },
   {
    "duration": 129,
    "start_time": "2024-12-09T18:37:22.466Z"
   },
   {
    "duration": 9,
    "start_time": "2024-12-09T18:37:22.597Z"
   },
   {
    "duration": 6,
    "start_time": "2024-12-09T18:40:12.060Z"
   },
   {
    "duration": 7,
    "start_time": "2024-12-09T18:40:19.708Z"
   },
   {
    "duration": 6,
    "start_time": "2024-12-09T18:40:44.818Z"
   },
   {
    "duration": 10,
    "start_time": "2024-12-09T18:40:59.143Z"
   },
   {
    "duration": 10,
    "start_time": "2024-12-09T18:41:08.459Z"
   },
   {
    "duration": 107,
    "start_time": "2024-12-09T18:42:21.219Z"
   },
   {
    "duration": 115,
    "start_time": "2024-12-09T18:43:44.937Z"
   },
   {
    "duration": 117,
    "start_time": "2024-12-09T18:43:49.469Z"
   },
   {
    "duration": 18,
    "start_time": "2024-12-09T18:45:20.278Z"
   },
   {
    "duration": 119,
    "start_time": "2024-12-09T18:48:13.889Z"
   },
   {
    "duration": 605,
    "start_time": "2024-12-09T18:50:40.080Z"
   },
   {
    "duration": 7,
    "start_time": "2024-12-09T18:50:50.126Z"
   },
   {
    "duration": 15,
    "start_time": "2024-12-09T18:50:55.247Z"
   },
   {
    "duration": 31,
    "start_time": "2024-12-09T18:53:14.105Z"
   },
   {
    "duration": 33,
    "start_time": "2024-12-09T18:53:57.081Z"
   },
   {
    "duration": 142,
    "start_time": "2024-12-09T18:54:58.352Z"
   },
   {
    "duration": 4,
    "start_time": "2024-12-09T18:55:13.441Z"
   },
   {
    "duration": 145,
    "start_time": "2024-12-09T18:55:19.741Z"
   },
   {
    "duration": 35,
    "start_time": "2024-12-09T18:55:47.019Z"
   },
   {
    "duration": 21,
    "start_time": "2024-12-09T18:55:57.934Z"
   },
   {
    "duration": 31,
    "start_time": "2024-12-09T18:56:01.729Z"
   },
   {
    "duration": 18,
    "start_time": "2024-12-09T18:58:06.444Z"
   },
   {
    "duration": 17,
    "start_time": "2024-12-09T18:58:36.726Z"
   },
   {
    "duration": 14,
    "start_time": "2024-12-09T18:58:40.993Z"
   },
   {
    "duration": 16,
    "start_time": "2024-12-09T18:58:58.988Z"
   },
   {
    "duration": 34,
    "start_time": "2024-12-09T18:59:32.392Z"
   },
   {
    "duration": 23,
    "start_time": "2024-12-09T19:01:00.812Z"
   },
   {
    "duration": 14,
    "start_time": "2024-12-09T19:01:07.838Z"
   },
   {
    "duration": 5,
    "start_time": "2024-12-09T19:01:11.811Z"
   },
   {
    "duration": 32,
    "start_time": "2024-12-09T19:01:15.992Z"
   },
   {
    "duration": 15,
    "start_time": "2024-12-09T19:01:33.747Z"
   },
   {
    "duration": 5,
    "start_time": "2024-12-09T19:01:59.602Z"
   },
   {
    "duration": 33,
    "start_time": "2024-12-09T19:02:06.471Z"
   },
   {
    "duration": 26,
    "start_time": "2024-12-09T19:03:28.685Z"
   },
   {
    "duration": 25,
    "start_time": "2024-12-09T19:03:51.482Z"
   },
   {
    "duration": 135,
    "start_time": "2024-12-09T19:03:55.464Z"
   },
   {
    "duration": 131,
    "start_time": "2024-12-09T19:04:00.406Z"
   },
   {
    "duration": 266,
    "start_time": "2024-12-09T19:05:01.866Z"
   },
   {
    "duration": 27,
    "start_time": "2024-12-09T19:05:37.361Z"
   },
   {
    "duration": 331,
    "start_time": "2024-12-09T19:07:19.725Z"
   },
   {
    "duration": 584,
    "start_time": "2024-12-09T19:08:11.687Z"
   },
   {
    "duration": 24,
    "start_time": "2024-12-09T19:08:17.748Z"
   },
   {
    "duration": 14,
    "start_time": "2024-12-09T19:08:27.524Z"
   },
   {
    "duration": 120,
    "start_time": "2024-12-09T19:08:43.673Z"
   },
   {
    "duration": 128,
    "start_time": "2024-12-09T19:09:00.645Z"
   },
   {
    "duration": 104,
    "start_time": "2024-12-09T19:09:42.726Z"
   },
   {
    "duration": 124,
    "start_time": "2024-12-09T19:10:27.706Z"
   },
   {
    "duration": 134,
    "start_time": "2024-12-09T19:11:26.458Z"
   },
   {
    "duration": 128,
    "start_time": "2024-12-09T19:11:31.906Z"
   },
   {
    "duration": 125,
    "start_time": "2024-12-09T19:11:36.230Z"
   },
   {
    "duration": 128,
    "start_time": "2024-12-09T19:11:40.305Z"
   },
   {
    "duration": 129,
    "start_time": "2024-12-09T19:11:47.496Z"
   },
   {
    "duration": 139,
    "start_time": "2024-12-09T19:12:56.011Z"
   },
   {
    "duration": 147,
    "start_time": "2024-12-09T19:14:02.952Z"
   },
   {
    "duration": 147,
    "start_time": "2024-12-09T19:14:08.318Z"
   },
   {
    "duration": 144,
    "start_time": "2024-12-09T19:14:11.255Z"
   },
   {
    "duration": 130,
    "start_time": "2024-12-09T19:14:21.928Z"
   },
   {
    "duration": 152,
    "start_time": "2024-12-09T19:15:03.539Z"
   },
   {
    "duration": 239,
    "start_time": "2024-12-09T19:16:30.283Z"
   },
   {
    "duration": 197,
    "start_time": "2024-12-09T19:16:46.966Z"
   },
   {
    "duration": 19,
    "start_time": "2024-12-09T19:43:30.028Z"
   },
   {
    "duration": 5,
    "start_time": "2024-12-09T19:46:25.544Z"
   },
   {
    "duration": 25,
    "start_time": "2024-12-09T19:46:30.484Z"
   },
   {
    "duration": 93,
    "start_time": "2024-12-09T19:48:41.549Z"
   },
   {
    "duration": 84,
    "start_time": "2024-12-09T19:48:50.158Z"
   },
   {
    "duration": 21,
    "start_time": "2024-12-09T19:50:12.814Z"
   },
   {
    "duration": 21,
    "start_time": "2024-12-09T19:50:19.958Z"
   },
   {
    "duration": 88,
    "start_time": "2024-12-09T19:51:04.853Z"
   },
   {
    "duration": 164,
    "start_time": "2024-12-09T19:51:32.828Z"
   },
   {
    "duration": 101,
    "start_time": "2024-12-09T19:51:43.549Z"
   },
   {
    "duration": 104,
    "start_time": "2024-12-09T19:53:30.519Z"
   },
   {
    "duration": 82,
    "start_time": "2024-12-09T19:53:46.673Z"
   },
   {
    "duration": 26,
    "start_time": "2024-12-09T19:54:10.851Z"
   },
   {
    "duration": 79,
    "start_time": "2024-12-09T19:54:23.939Z"
   },
   {
    "duration": 114,
    "start_time": "2024-12-09T19:54:34.716Z"
   },
   {
    "duration": 7,
    "start_time": "2024-12-09T19:55:24.305Z"
   },
   {
    "duration": 5,
    "start_time": "2024-12-09T19:56:06.599Z"
   },
   {
    "duration": 6,
    "start_time": "2024-12-09T19:56:10.031Z"
   },
   {
    "duration": 8,
    "start_time": "2024-12-09T19:56:44.507Z"
   },
   {
    "duration": 5,
    "start_time": "2024-12-09T19:56:51.660Z"
   },
   {
    "duration": 7,
    "start_time": "2024-12-09T19:56:56.476Z"
   },
   {
    "duration": 8,
    "start_time": "2024-12-09T19:57:04.411Z"
   },
   {
    "duration": 94,
    "start_time": "2024-12-09T19:59:18.567Z"
   },
   {
    "duration": 89,
    "start_time": "2024-12-09T19:59:22.057Z"
   },
   {
    "duration": 104,
    "start_time": "2024-12-09T19:59:42.631Z"
   },
   {
    "duration": 30,
    "start_time": "2024-12-09T20:00:10.682Z"
   },
   {
    "duration": 165,
    "start_time": "2024-12-09T20:00:48.110Z"
   },
   {
    "duration": 149,
    "start_time": "2024-12-09T20:01:32.531Z"
   },
   {
    "duration": 143,
    "start_time": "2024-12-09T20:01:46.536Z"
   },
   {
    "duration": 168,
    "start_time": "2024-12-09T20:03:14.730Z"
   },
   {
    "duration": 147,
    "start_time": "2024-12-09T20:03:23.726Z"
   },
   {
    "duration": 150,
    "start_time": "2024-12-09T20:03:46.199Z"
   },
   {
    "duration": 160,
    "start_time": "2024-12-09T20:05:08.169Z"
   },
   {
    "duration": 153,
    "start_time": "2024-12-09T20:05:15.659Z"
   },
   {
    "duration": 302,
    "start_time": "2024-12-09T20:05:22.870Z"
   },
   {
    "duration": 157,
    "start_time": "2024-12-09T20:05:35.098Z"
   },
   {
    "duration": 151,
    "start_time": "2024-12-09T20:05:42.384Z"
   },
   {
    "duration": 5,
    "start_time": "2024-12-09T20:06:41.575Z"
   },
   {
    "duration": 155,
    "start_time": "2024-12-09T20:06:46.494Z"
   },
   {
    "duration": 164,
    "start_time": "2024-12-09T20:07:31.196Z"
   },
   {
    "duration": 169,
    "start_time": "2024-12-09T20:07:52.747Z"
   },
   {
    "duration": 162,
    "start_time": "2024-12-09T20:08:42.991Z"
   },
   {
    "duration": 246,
    "start_time": "2024-12-09T20:09:15.746Z"
   },
   {
    "duration": 174,
    "start_time": "2024-12-09T20:09:23.752Z"
   },
   {
    "duration": 338,
    "start_time": "2024-12-09T20:09:41.005Z"
   },
   {
    "duration": 327,
    "start_time": "2024-12-09T20:10:01.403Z"
   },
   {
    "duration": 275,
    "start_time": "2024-12-09T21:41:54.267Z"
   },
   {
    "duration": 106,
    "start_time": "2024-12-09T21:42:28.232Z"
   },
   {
    "duration": 125,
    "start_time": "2024-12-09T21:43:39.982Z"
   },
   {
    "duration": 119,
    "start_time": "2024-12-09T21:43:46.240Z"
   },
   {
    "duration": 119,
    "start_time": "2024-12-09T21:43:55.375Z"
   },
   {
    "duration": 127,
    "start_time": "2024-12-09T21:44:22.310Z"
   },
   {
    "duration": 314,
    "start_time": "2024-12-09T21:46:07.157Z"
   },
   {
    "duration": 728,
    "start_time": "2024-12-09T21:46:21.206Z"
   },
   {
    "duration": 24,
    "start_time": "2024-12-09T21:46:21.937Z"
   },
   {
    "duration": 23,
    "start_time": "2024-12-09T21:46:21.963Z"
   },
   {
    "duration": 4,
    "start_time": "2024-12-09T21:46:21.988Z"
   },
   {
    "duration": 10,
    "start_time": "2024-12-09T21:46:21.994Z"
   },
   {
    "duration": 44,
    "start_time": "2024-12-09T21:46:22.006Z"
   },
   {
    "duration": 7,
    "start_time": "2024-12-09T21:46:22.052Z"
   },
   {
    "duration": 5,
    "start_time": "2024-12-09T21:46:22.061Z"
   },
   {
    "duration": 7,
    "start_time": "2024-12-09T21:46:22.068Z"
   },
   {
    "duration": 15,
    "start_time": "2024-12-09T21:46:22.078Z"
   },
   {
    "duration": 10,
    "start_time": "2024-12-09T21:46:22.095Z"
   },
   {
    "duration": 42,
    "start_time": "2024-12-09T21:46:22.107Z"
   },
   {
    "duration": 6,
    "start_time": "2024-12-09T21:46:22.151Z"
   },
   {
    "duration": 4,
    "start_time": "2024-12-09T21:46:22.159Z"
   },
   {
    "duration": 4,
    "start_time": "2024-12-09T21:46:22.165Z"
   },
   {
    "duration": 5,
    "start_time": "2024-12-09T21:46:22.171Z"
   },
   {
    "duration": 9,
    "start_time": "2024-12-09T21:46:22.177Z"
   },
   {
    "duration": 3,
    "start_time": "2024-12-09T21:46:22.188Z"
   },
   {
    "duration": 52,
    "start_time": "2024-12-09T21:46:22.193Z"
   },
   {
    "duration": 4,
    "start_time": "2024-12-09T21:46:22.246Z"
   },
   {
    "duration": 4,
    "start_time": "2024-12-09T21:46:22.253Z"
   },
   {
    "duration": 13,
    "start_time": "2024-12-09T21:46:22.259Z"
   },
   {
    "duration": 16,
    "start_time": "2024-12-09T21:46:22.273Z"
   },
   {
    "duration": 9,
    "start_time": "2024-12-09T21:46:22.290Z"
   },
   {
    "duration": 43,
    "start_time": "2024-12-09T21:46:22.301Z"
   },
   {
    "duration": 21,
    "start_time": "2024-12-09T21:46:22.345Z"
   },
   {
    "duration": 15,
    "start_time": "2024-12-09T21:46:22.368Z"
   },
   {
    "duration": 176,
    "start_time": "2024-12-09T21:46:22.388Z"
   },
   {
    "duration": 13,
    "start_time": "2024-12-09T21:46:22.565Z"
   },
   {
    "duration": 139,
    "start_time": "2024-12-09T21:46:22.579Z"
   },
   {
    "duration": 129,
    "start_time": "2024-12-09T21:46:22.720Z"
   },
   {
    "duration": 135,
    "start_time": "2024-12-09T21:46:22.851Z"
   },
   {
    "duration": 178,
    "start_time": "2024-12-09T21:46:22.987Z"
   },
   {
    "duration": 121,
    "start_time": "2024-12-09T21:46:23.167Z"
   },
   {
    "duration": 12,
    "start_time": "2024-12-09T21:46:23.289Z"
   },
   {
    "duration": 127,
    "start_time": "2024-12-09T21:46:23.303Z"
   },
   {
    "duration": 16,
    "start_time": "2024-12-09T21:46:23.432Z"
   },
   {
    "duration": 128,
    "start_time": "2024-12-09T21:46:23.449Z"
   },
   {
    "duration": 244,
    "start_time": "2024-12-09T21:46:23.579Z"
   },
   {
    "duration": 337,
    "start_time": "2024-12-09T21:46:23.825Z"
   },
   {
    "duration": 131,
    "start_time": "2024-12-09T21:46:53.422Z"
   },
   {
    "duration": 402,
    "start_time": "2024-12-09T21:47:46.208Z"
   },
   {
    "duration": 148,
    "start_time": "2024-12-09T21:51:01.663Z"
   },
   {
    "duration": 168,
    "start_time": "2024-12-09T21:52:00.455Z"
   },
   {
    "duration": 140,
    "start_time": "2024-12-09T21:52:07.056Z"
   },
   {
    "duration": 130,
    "start_time": "2024-12-09T21:52:55.382Z"
   },
   {
    "duration": 131,
    "start_time": "2024-12-09T21:53:12.472Z"
   },
   {
    "duration": 137,
    "start_time": "2024-12-09T21:55:20.844Z"
   },
   {
    "duration": 134,
    "start_time": "2024-12-09T21:55:26.609Z"
   },
   {
    "duration": 128,
    "start_time": "2024-12-09T21:56:18.868Z"
   },
   {
    "duration": 237,
    "start_time": "2024-12-09T22:02:12.483Z"
   },
   {
    "duration": 181,
    "start_time": "2024-12-09T22:02:46.365Z"
   },
   {
    "duration": 138,
    "start_time": "2024-12-09T22:03:08.836Z"
   },
   {
    "duration": 23,
    "start_time": "2024-12-09T23:20:07.264Z"
   },
   {
    "duration": 23,
    "start_time": "2024-12-09T23:20:41.465Z"
   },
   {
    "duration": 15,
    "start_time": "2024-12-10T23:41:32.672Z"
   },
   {
    "duration": 2577,
    "start_time": "2024-12-11T00:54:01.066Z"
   },
   {
    "duration": 38,
    "start_time": "2024-12-11T00:54:03.645Z"
   },
   {
    "duration": 25,
    "start_time": "2024-12-11T00:54:03.685Z"
   },
   {
    "duration": 4,
    "start_time": "2024-12-11T00:54:03.712Z"
   },
   {
    "duration": 10,
    "start_time": "2024-12-11T00:54:03.718Z"
   },
   {
    "duration": 22,
    "start_time": "2024-12-11T00:54:03.730Z"
   },
   {
    "duration": 7,
    "start_time": "2024-12-11T00:54:03.754Z"
   },
   {
    "duration": 7,
    "start_time": "2024-12-11T00:54:03.788Z"
   },
   {
    "duration": 10,
    "start_time": "2024-12-11T00:54:03.797Z"
   },
   {
    "duration": 15,
    "start_time": "2024-12-11T00:54:03.810Z"
   },
   {
    "duration": 5,
    "start_time": "2024-12-11T00:54:03.828Z"
   },
   {
    "duration": 11,
    "start_time": "2024-12-11T00:54:03.834Z"
   },
   {
    "duration": 43,
    "start_time": "2024-12-11T00:54:03.847Z"
   },
   {
    "duration": 6,
    "start_time": "2024-12-11T00:54:03.894Z"
   },
   {
    "duration": 5,
    "start_time": "2024-12-11T00:54:03.903Z"
   },
   {
    "duration": 6,
    "start_time": "2024-12-11T00:54:03.911Z"
   },
   {
    "duration": 13,
    "start_time": "2024-12-11T00:54:03.919Z"
   },
   {
    "duration": 7,
    "start_time": "2024-12-11T00:54:03.934Z"
   },
   {
    "duration": 9,
    "start_time": "2024-12-11T00:54:03.943Z"
   },
   {
    "duration": 33,
    "start_time": "2024-12-11T00:54:03.954Z"
   },
   {
    "duration": 5,
    "start_time": "2024-12-11T00:54:03.999Z"
   },
   {
    "duration": 12,
    "start_time": "2024-12-11T00:54:04.006Z"
   },
   {
    "duration": 18,
    "start_time": "2024-12-11T00:54:04.020Z"
   },
   {
    "duration": 9,
    "start_time": "2024-12-11T00:54:04.040Z"
   },
   {
    "duration": 41,
    "start_time": "2024-12-11T00:54:04.050Z"
   },
   {
    "duration": 21,
    "start_time": "2024-12-11T00:54:04.092Z"
   },
   {
    "duration": 15,
    "start_time": "2024-12-11T00:54:04.114Z"
   },
   {
    "duration": 172,
    "start_time": "2024-12-11T00:54:04.133Z"
   },
   {
    "duration": 11,
    "start_time": "2024-12-11T00:54:04.307Z"
   },
   {
    "duration": 137,
    "start_time": "2024-12-11T00:54:04.320Z"
   },
   {
    "duration": 131,
    "start_time": "2024-12-11T00:54:04.459Z"
   },
   {
    "duration": 131,
    "start_time": "2024-12-11T00:54:04.592Z"
   },
   {
    "duration": 126,
    "start_time": "2024-12-11T00:54:04.725Z"
   },
   {
    "duration": 199,
    "start_time": "2024-12-11T00:54:04.853Z"
   },
   {
    "duration": 15,
    "start_time": "2024-12-11T00:54:05.053Z"
   },
   {
    "duration": 133,
    "start_time": "2024-12-11T00:54:05.069Z"
   },
   {
    "duration": 10,
    "start_time": "2024-12-11T00:54:05.204Z"
   },
   {
    "duration": 137,
    "start_time": "2024-12-11T00:54:05.216Z"
   },
   {
    "duration": 232,
    "start_time": "2024-12-11T00:54:05.355Z"
   },
   {
    "duration": 341,
    "start_time": "2024-12-11T00:54:05.590Z"
   },
   {
    "duration": 154,
    "start_time": "2024-12-11T00:54:05.933Z"
   },
   {
    "duration": 143,
    "start_time": "2024-12-11T00:54:06.089Z"
   },
   {
    "duration": 14,
    "start_time": "2024-12-11T00:54:06.233Z"
   },
   {
    "duration": 32,
    "start_time": "2024-12-11T00:54:57.021Z"
   },
   {
    "duration": 19,
    "start_time": "2024-12-11T00:55:07.287Z"
   },
   {
    "duration": 28,
    "start_time": "2024-12-11T00:55:12.716Z"
   },
   {
    "duration": 19,
    "start_time": "2024-12-11T00:55:26.198Z"
   },
   {
    "duration": 30,
    "start_time": "2024-12-11T00:55:34.436Z"
   },
   {
    "duration": 25,
    "start_time": "2024-12-11T00:55:43.216Z"
   },
   {
    "duration": 31,
    "start_time": "2024-12-11T00:55:46.864Z"
   },
   {
    "duration": 24,
    "start_time": "2024-12-11T00:55:50.922Z"
   },
   {
    "duration": 28,
    "start_time": "2024-12-11T00:56:01.278Z"
   },
   {
    "duration": 14,
    "start_time": "2024-12-11T00:56:15.103Z"
   },
   {
    "duration": 316,
    "start_time": "2024-12-11T00:57:27.598Z"
   },
   {
    "duration": 31,
    "start_time": "2024-12-11T00:57:37.352Z"
   },
   {
    "duration": 13,
    "start_time": "2024-12-11T00:58:31.770Z"
   },
   {
    "duration": 5,
    "start_time": "2024-12-11T00:59:00.503Z"
   },
   {
    "duration": 14,
    "start_time": "2024-12-11T01:00:21.630Z"
   },
   {
    "duration": 19,
    "start_time": "2024-12-11T01:00:25.065Z"
   },
   {
    "duration": 15,
    "start_time": "2024-12-11T01:01:50.339Z"
   },
   {
    "duration": 15,
    "start_time": "2024-12-11T01:01:51.012Z"
   },
   {
    "duration": 76,
    "start_time": "2024-12-11T01:03:41.547Z"
   },
   {
    "duration": 92,
    "start_time": "2024-12-11T01:03:57.416Z"
   },
   {
    "duration": 64,
    "start_time": "2024-12-11T01:04:39.689Z"
   },
   {
    "duration": 224,
    "start_time": "2024-12-11T01:06:00.401Z"
   },
   {
    "duration": 239,
    "start_time": "2024-12-11T01:06:11.204Z"
   },
   {
    "duration": 235,
    "start_time": "2024-12-11T01:06:35.508Z"
   },
   {
    "duration": 197,
    "start_time": "2024-12-11T01:07:02.343Z"
   },
   {
    "duration": 287,
    "start_time": "2024-12-11T01:07:21.906Z"
   },
   {
    "duration": 188,
    "start_time": "2024-12-11T01:07:39.651Z"
   },
   {
    "duration": 189,
    "start_time": "2024-12-11T01:07:44.552Z"
   },
   {
    "duration": 9,
    "start_time": "2024-12-11T01:08:10.911Z"
   },
   {
    "duration": 10,
    "start_time": "2024-12-11T01:08:19.088Z"
   },
   {
    "duration": 193,
    "start_time": "2024-12-11T01:08:38.652Z"
   },
   {
    "duration": 86,
    "start_time": "2024-12-11T01:09:30.912Z"
   },
   {
    "duration": 83,
    "start_time": "2024-12-11T01:09:50.859Z"
   },
   {
    "duration": 86,
    "start_time": "2024-12-11T01:10:35.718Z"
   },
   {
    "duration": 94,
    "start_time": "2024-12-11T01:11:09.737Z"
   },
   {
    "duration": 115,
    "start_time": "2024-12-11T01:11:26.921Z"
   },
   {
    "duration": 99,
    "start_time": "2024-12-11T01:11:30.766Z"
   },
   {
    "duration": 15,
    "start_time": "2024-12-11T01:12:36.674Z"
   },
   {
    "duration": 14,
    "start_time": "2024-12-11T01:12:55.869Z"
   },
   {
    "duration": 97,
    "start_time": "2024-12-11T01:12:58.457Z"
   },
   {
    "duration": 14,
    "start_time": "2024-12-11T01:13:04.746Z"
   },
   {
    "duration": 103,
    "start_time": "2024-12-11T01:13:05.316Z"
   },
   {
    "duration": 105,
    "start_time": "2024-12-11T01:13:08.040Z"
   },
   {
    "duration": 104,
    "start_time": "2024-12-11T01:19:47.042Z"
   },
   {
    "duration": 19,
    "start_time": "2024-12-11T01:22:42.695Z"
   },
   {
    "duration": 823,
    "start_time": "2024-12-11T01:23:36.484Z"
   },
   {
    "duration": 151,
    "start_time": "2024-12-11T01:24:52.170Z"
   },
   {
    "duration": 13,
    "start_time": "2024-12-11T01:25:09.528Z"
   },
   {
    "duration": 19,
    "start_time": "2024-12-11T01:25:42.984Z"
   },
   {
    "duration": 639,
    "start_time": "2024-12-11T01:25:53.333Z"
   },
   {
    "duration": 11,
    "start_time": "2024-12-11T01:26:00.750Z"
   },
   {
    "duration": 16,
    "start_time": "2024-12-11T01:26:21.685Z"
   },
   {
    "duration": 104,
    "start_time": "2024-12-11T01:27:08.584Z"
   },
   {
    "duration": 100,
    "start_time": "2024-12-11T01:27:15.047Z"
   },
   {
    "duration": 98,
    "start_time": "2024-12-11T01:27:24.597Z"
   },
   {
    "duration": 114,
    "start_time": "2024-12-11T01:27:43.137Z"
   },
   {
    "duration": 119,
    "start_time": "2024-12-11T01:27:48.843Z"
   },
   {
    "duration": 114,
    "start_time": "2024-12-11T01:27:52.617Z"
   },
   {
    "duration": 131,
    "start_time": "2024-12-11T01:29:50.962Z"
   },
   {
    "duration": 109,
    "start_time": "2024-12-11T02:23:57.396Z"
   },
   {
    "duration": 19,
    "start_time": "2024-12-11T02:26:05.109Z"
   },
   {
    "duration": 16,
    "start_time": "2024-12-11T02:26:18.671Z"
   },
   {
    "duration": 373,
    "start_time": "2024-12-11T02:26:44.378Z"
   },
   {
    "duration": 17,
    "start_time": "2024-12-11T02:27:07.061Z"
   },
   {
    "duration": 16,
    "start_time": "2024-12-11T02:27:27.211Z"
   },
   {
    "duration": 19,
    "start_time": "2024-12-11T02:27:38.683Z"
   },
   {
    "duration": 16,
    "start_time": "2024-12-11T02:28:08.440Z"
   },
   {
    "duration": 16,
    "start_time": "2024-12-11T02:28:54.548Z"
   },
   {
    "duration": 319,
    "start_time": "2024-12-11T02:41:46.922Z"
   },
   {
    "duration": 103,
    "start_time": "2024-12-11T02:43:22.843Z"
   },
   {
    "duration": 3,
    "start_time": "2024-12-11T04:43:37.343Z"
   },
   {
    "duration": 5,
    "start_time": "2024-12-11T04:43:54.462Z"
   },
   {
    "duration": 6,
    "start_time": "2024-12-11T04:43:59.800Z"
   },
   {
    "duration": 18,
    "start_time": "2024-12-11T04:49:23.112Z"
   },
   {
    "duration": 14,
    "start_time": "2024-12-11T04:49:28.739Z"
   },
   {
    "duration": 24,
    "start_time": "2024-12-11T04:49:33.067Z"
   },
   {
    "duration": 34,
    "start_time": "2024-12-11T04:49:38.303Z"
   },
   {
    "duration": 34,
    "start_time": "2024-12-11T04:50:03.595Z"
   },
   {
    "duration": 30,
    "start_time": "2024-12-11T04:50:08.103Z"
   },
   {
    "duration": 33,
    "start_time": "2024-12-11T04:50:27.504Z"
   },
   {
    "duration": 60,
    "start_time": "2024-12-11T04:50:54.974Z"
   },
   {
    "duration": 39,
    "start_time": "2024-12-11T04:51:03.967Z"
   },
   {
    "duration": 16,
    "start_time": "2024-12-11T04:51:30.233Z"
   },
   {
    "duration": 15,
    "start_time": "2024-12-11T04:51:42.881Z"
   },
   {
    "duration": 29,
    "start_time": "2024-12-11T04:51:45.930Z"
   },
   {
    "duration": 17,
    "start_time": "2024-12-11T04:52:13.979Z"
   },
   {
    "duration": 33,
    "start_time": "2024-12-11T04:52:32.727Z"
   },
   {
    "duration": 34,
    "start_time": "2024-12-11T04:52:38.660Z"
   },
   {
    "duration": 4,
    "start_time": "2024-12-11T04:55:23.909Z"
   },
   {
    "duration": 34,
    "start_time": "2024-12-11T04:55:27.067Z"
   },
   {
    "duration": 9,
    "start_time": "2024-12-11T04:55:55.691Z"
   },
   {
    "duration": 34,
    "start_time": "2024-12-11T04:56:08.854Z"
   },
   {
    "duration": 35,
    "start_time": "2024-12-11T04:56:38.407Z"
   },
   {
    "duration": 35,
    "start_time": "2024-12-11T04:56:59.245Z"
   },
   {
    "duration": 38,
    "start_time": "2024-12-11T04:57:20.307Z"
   },
   {
    "duration": 37,
    "start_time": "2024-12-11T04:57:25.997Z"
   },
   {
    "duration": 32,
    "start_time": "2024-12-11T04:57:32.135Z"
   },
   {
    "duration": 35,
    "start_time": "2024-12-11T04:57:36.175Z"
   },
   {
    "duration": 34,
    "start_time": "2024-12-11T04:57:50.100Z"
   },
   {
    "duration": 40,
    "start_time": "2024-12-11T04:57:55.083Z"
   },
   {
    "duration": 2462,
    "start_time": "2024-12-11T19:13:08.298Z"
   },
   {
    "duration": 34,
    "start_time": "2024-12-11T19:13:10.764Z"
   },
   {
    "duration": 25,
    "start_time": "2024-12-11T19:13:10.799Z"
   },
   {
    "duration": 4,
    "start_time": "2024-12-11T19:13:10.826Z"
   },
   {
    "duration": 11,
    "start_time": "2024-12-11T19:13:10.832Z"
   },
   {
    "duration": 20,
    "start_time": "2024-12-11T19:13:10.844Z"
   },
   {
    "duration": 7,
    "start_time": "2024-12-11T19:13:10.866Z"
   },
   {
    "duration": 5,
    "start_time": "2024-12-11T19:13:10.874Z"
   },
   {
    "duration": 8,
    "start_time": "2024-12-11T19:13:10.880Z"
   },
   {
    "duration": 20,
    "start_time": "2024-12-11T19:13:10.927Z"
   },
   {
    "duration": 7,
    "start_time": "2024-12-11T19:13:10.949Z"
   },
   {
    "duration": 10,
    "start_time": "2024-12-11T19:13:10.958Z"
   },
   {
    "duration": 4,
    "start_time": "2024-12-11T19:13:10.970Z"
   },
   {
    "duration": 5,
    "start_time": "2024-12-11T19:13:10.976Z"
   },
   {
    "duration": 5,
    "start_time": "2024-12-11T19:13:10.982Z"
   },
   {
    "duration": 38,
    "start_time": "2024-12-11T19:13:10.988Z"
   },
   {
    "duration": 8,
    "start_time": "2024-12-11T19:13:11.028Z"
   },
   {
    "duration": 4,
    "start_time": "2024-12-11T19:13:11.038Z"
   },
   {
    "duration": 7,
    "start_time": "2024-12-11T19:13:11.044Z"
   },
   {
    "duration": 4,
    "start_time": "2024-12-11T19:13:11.053Z"
   },
   {
    "duration": 4,
    "start_time": "2024-12-11T19:13:11.059Z"
   },
   {
    "duration": 11,
    "start_time": "2024-12-11T19:13:11.075Z"
   },
   {
    "duration": 50,
    "start_time": "2024-12-11T19:13:11.088Z"
   },
   {
    "duration": 8,
    "start_time": "2024-12-11T19:13:11.140Z"
   },
   {
    "duration": 14,
    "start_time": "2024-12-11T19:13:11.150Z"
   },
   {
    "duration": 24,
    "start_time": "2024-12-11T19:13:11.166Z"
   },
   {
    "duration": 43,
    "start_time": "2024-12-11T19:13:11.192Z"
   },
   {
    "duration": 149,
    "start_time": "2024-12-11T19:13:11.239Z"
   },
   {
    "duration": 11,
    "start_time": "2024-12-11T19:13:11.390Z"
   },
   {
    "duration": 133,
    "start_time": "2024-12-11T19:13:11.402Z"
   },
   {
    "duration": 126,
    "start_time": "2024-12-11T19:13:11.537Z"
   },
   {
    "duration": 123,
    "start_time": "2024-12-11T19:13:11.665Z"
   },
   {
    "duration": 118,
    "start_time": "2024-12-11T19:13:11.790Z"
   },
   {
    "duration": 170,
    "start_time": "2024-12-11T19:13:11.910Z"
   },
   {
    "duration": 12,
    "start_time": "2024-12-11T19:13:12.081Z"
   },
   {
    "duration": 125,
    "start_time": "2024-12-11T19:13:12.095Z"
   },
   {
    "duration": 9,
    "start_time": "2024-12-11T19:13:12.224Z"
   },
   {
    "duration": 121,
    "start_time": "2024-12-11T19:13:12.235Z"
   },
   {
    "duration": 218,
    "start_time": "2024-12-11T19:13:12.358Z"
   },
   {
    "duration": 340,
    "start_time": "2024-12-11T19:13:12.578Z"
   },
   {
    "duration": 143,
    "start_time": "2024-12-11T19:13:12.920Z"
   },
   {
    "duration": 160,
    "start_time": "2024-12-11T19:13:13.065Z"
   },
   {
    "duration": 15,
    "start_time": "2024-12-11T19:13:13.226Z"
   },
   {
    "duration": 117,
    "start_time": "2024-12-11T19:13:13.242Z"
   },
   {
    "duration": 40,
    "start_time": "2024-12-11T19:13:13.361Z"
   },
   {
    "duration": 294,
    "start_time": "2024-12-11T19:14:30.789Z"
   },
   {
    "duration": 193,
    "start_time": "2024-12-11T19:14:44.509Z"
   },
   {
    "duration": 292,
    "start_time": "2024-12-11T22:27:56.298Z"
   },
   {
    "duration": 1136,
    "start_time": "2024-12-11T22:28:15.919Z"
   },
   {
    "duration": 2577,
    "start_time": "2024-12-13T18:54:32.623Z"
   },
   {
    "duration": 40,
    "start_time": "2024-12-13T18:54:35.203Z"
   },
   {
    "duration": 24,
    "start_time": "2024-12-13T18:54:35.244Z"
   },
   {
    "duration": 5,
    "start_time": "2024-12-13T18:54:35.269Z"
   },
   {
    "duration": 9,
    "start_time": "2024-12-13T18:54:35.278Z"
   },
   {
    "duration": 48,
    "start_time": "2024-12-13T18:54:35.289Z"
   },
   {
    "duration": 7,
    "start_time": "2024-12-13T18:54:35.339Z"
   },
   {
    "duration": 5,
    "start_time": "2024-12-13T18:54:35.348Z"
   },
   {
    "duration": 8,
    "start_time": "2024-12-13T18:54:35.355Z"
   },
   {
    "duration": 17,
    "start_time": "2024-12-13T18:54:35.365Z"
   },
   {
    "duration": 5,
    "start_time": "2024-12-13T18:54:35.384Z"
   },
   {
    "duration": 47,
    "start_time": "2024-12-13T18:54:35.390Z"
   },
   {
    "duration": 5,
    "start_time": "2024-12-13T18:54:35.439Z"
   },
   {
    "duration": 4,
    "start_time": "2024-12-13T18:54:35.449Z"
   },
   {
    "duration": 7,
    "start_time": "2024-12-13T18:54:35.454Z"
   },
   {
    "duration": 6,
    "start_time": "2024-12-13T18:54:35.462Z"
   },
   {
    "duration": 9,
    "start_time": "2024-12-13T18:54:35.470Z"
   },
   {
    "duration": 4,
    "start_time": "2024-12-13T18:54:35.480Z"
   },
   {
    "duration": 52,
    "start_time": "2024-12-13T18:54:35.486Z"
   },
   {
    "duration": 4,
    "start_time": "2024-12-13T18:54:35.540Z"
   },
   {
    "duration": 5,
    "start_time": "2024-12-13T18:54:35.545Z"
   },
   {
    "duration": 12,
    "start_time": "2024-12-13T18:54:35.552Z"
   },
   {
    "duration": 17,
    "start_time": "2024-12-13T18:54:35.566Z"
   },
   {
    "duration": 10,
    "start_time": "2024-12-13T18:54:35.585Z"
   },
   {
    "duration": 49,
    "start_time": "2024-12-13T18:54:35.596Z"
   },
   {
    "duration": 19,
    "start_time": "2024-12-13T18:54:35.647Z"
   },
   {
    "duration": 15,
    "start_time": "2024-12-13T18:54:35.668Z"
   },
   {
    "duration": 174,
    "start_time": "2024-12-13T18:54:35.685Z"
   },
   {
    "duration": 12,
    "start_time": "2024-12-13T18:54:35.861Z"
   },
   {
    "duration": 140,
    "start_time": "2024-12-13T18:54:35.875Z"
   },
   {
    "duration": 129,
    "start_time": "2024-12-13T18:54:36.017Z"
   },
   {
    "duration": 148,
    "start_time": "2024-12-13T18:54:36.149Z"
   },
   {
    "duration": 163,
    "start_time": "2024-12-13T18:54:36.299Z"
   },
   {
    "duration": 137,
    "start_time": "2024-12-13T18:54:36.464Z"
   },
   {
    "duration": 28,
    "start_time": "2024-12-13T18:54:36.603Z"
   },
   {
    "duration": 198,
    "start_time": "2024-12-13T18:54:36.633Z"
   },
   {
    "duration": 11,
    "start_time": "2024-12-13T18:54:36.833Z"
   },
   {
    "duration": 145,
    "start_time": "2024-12-13T18:54:36.846Z"
   },
   {
    "duration": 251,
    "start_time": "2024-12-13T18:54:36.993Z"
   },
   {
    "duration": 355,
    "start_time": "2024-12-13T18:54:37.246Z"
   },
   {
    "duration": 147,
    "start_time": "2024-12-13T18:54:37.606Z"
   },
   {
    "duration": 141,
    "start_time": "2024-12-13T18:54:37.755Z"
   },
   {
    "duration": 15,
    "start_time": "2024-12-13T18:54:37.898Z"
   },
   {
    "duration": 110,
    "start_time": "2024-12-13T18:54:37.931Z"
   },
   {
    "duration": 4,
    "start_time": "2024-12-13T19:15:00.260Z"
   },
   {
    "duration": 17,
    "start_time": "2024-12-13T19:15:11.854Z"
   },
   {
    "duration": 329,
    "start_time": "2024-12-13T19:15:24.671Z"
   },
   {
    "duration": 319,
    "start_time": "2024-12-13T19:15:54.562Z"
   },
   {
    "duration": 547,
    "start_time": "2024-12-13T19:16:01.524Z"
   },
   {
    "duration": 35,
    "start_time": "2024-12-13T19:16:51.685Z"
   },
   {
    "duration": 339,
    "start_time": "2024-12-13T19:17:18.242Z"
   },
   {
    "duration": 444,
    "start_time": "2024-12-13T19:17:23.988Z"
   },
   {
    "duration": 327,
    "start_time": "2024-12-13T19:17:33.504Z"
   },
   {
    "duration": 1631,
    "start_time": "2024-12-13T19:17:49.501Z"
   },
   {
    "duration": 11,
    "start_time": "2024-12-13T19:27:15.230Z"
   },
   {
    "duration": 18,
    "start_time": "2024-12-13T19:27:19.203Z"
   },
   {
    "duration": 8,
    "start_time": "2024-12-13T19:27:32.773Z"
   },
   {
    "duration": 194,
    "start_time": "2024-12-13T19:28:52.185Z"
   },
   {
    "duration": 353,
    "start_time": "2024-12-13T19:29:13.239Z"
   },
   {
    "duration": 14,
    "start_time": "2024-12-13T19:29:31.844Z"
   },
   {
    "duration": 245,
    "start_time": "2024-12-13T19:29:38.935Z"
   },
   {
    "duration": 219,
    "start_time": "2024-12-13T19:32:40.854Z"
   },
   {
    "duration": 281,
    "start_time": "2024-12-13T19:32:55.915Z"
   },
   {
    "duration": 24,
    "start_time": "2024-12-13T19:34:37.549Z"
   },
   {
    "duration": 290,
    "start_time": "2024-12-13T19:34:41.963Z"
   },
   {
    "duration": 306,
    "start_time": "2024-12-13T19:35:36.785Z"
   },
   {
    "duration": 308,
    "start_time": "2024-12-13T19:36:12.489Z"
   },
   {
    "duration": 123,
    "start_time": "2024-12-13T19:37:05.222Z"
   },
   {
    "duration": 37,
    "start_time": "2024-12-13T19:37:25.784Z"
   },
   {
    "duration": 38,
    "start_time": "2024-12-13T19:37:52.962Z"
   },
   {
    "duration": 36,
    "start_time": "2024-12-13T19:37:57.486Z"
   },
   {
    "duration": 38,
    "start_time": "2024-12-13T19:37:59.718Z"
   },
   {
    "duration": 29,
    "start_time": "2024-12-13T19:39:10.011Z"
   },
   {
    "duration": 31,
    "start_time": "2024-12-13T19:39:17.960Z"
   },
   {
    "duration": 3,
    "start_time": "2024-12-13T19:39:56.167Z"
   },
   {
    "duration": 27,
    "start_time": "2024-12-13T19:40:01.696Z"
   },
   {
    "duration": 36,
    "start_time": "2024-12-13T19:40:20.103Z"
   },
   {
    "duration": 27,
    "start_time": "2024-12-13T19:40:29.322Z"
   },
   {
    "duration": 29,
    "start_time": "2024-12-13T19:41:28.595Z"
   },
   {
    "duration": 26,
    "start_time": "2024-12-13T19:41:35.618Z"
   },
   {
    "duration": 29,
    "start_time": "2024-12-13T19:41:38.952Z"
   },
   {
    "duration": 36,
    "start_time": "2024-12-13T19:42:04.972Z"
   },
   {
    "duration": 25,
    "start_time": "2024-12-13T19:43:04.432Z"
   },
   {
    "duration": 26,
    "start_time": "2024-12-13T19:43:24.860Z"
   },
   {
    "duration": 28,
    "start_time": "2024-12-13T19:43:40.316Z"
   },
   {
    "duration": 26,
    "start_time": "2024-12-13T19:43:46.517Z"
   },
   {
    "duration": 35,
    "start_time": "2024-12-13T19:44:03.438Z"
   },
   {
    "duration": 27,
    "start_time": "2024-12-13T19:44:09.175Z"
   },
   {
    "duration": 28,
    "start_time": "2024-12-13T19:44:14.905Z"
   },
   {
    "duration": 4,
    "start_time": "2024-12-13T19:44:59.422Z"
   },
   {
    "duration": 32,
    "start_time": "2024-12-13T19:45:08.658Z"
   },
   {
    "duration": 31,
    "start_time": "2024-12-13T19:45:35.145Z"
   },
   {
    "duration": 32,
    "start_time": "2024-12-13T19:46:07.930Z"
   },
   {
    "duration": 38,
    "start_time": "2024-12-13T19:46:14.571Z"
   },
   {
    "duration": 170,
    "start_time": "2024-12-13T19:46:58.864Z"
   },
   {
    "duration": 37,
    "start_time": "2024-12-13T19:48:01.992Z"
   },
   {
    "duration": 37,
    "start_time": "2024-12-13T19:48:18.873Z"
   },
   {
    "duration": 61,
    "start_time": "2024-12-13T19:48:29.440Z"
   },
   {
    "duration": 191,
    "start_time": "2024-12-13T19:48:47.391Z"
   },
   {
    "duration": 173,
    "start_time": "2024-12-13T19:49:15.940Z"
   },
   {
    "duration": 172,
    "start_time": "2024-12-13T19:49:20.561Z"
   },
   {
    "duration": 192,
    "start_time": "2024-12-13T19:49:26.836Z"
   },
   {
    "duration": 319,
    "start_time": "2024-12-13T19:49:39.247Z"
   },
   {
    "duration": 183,
    "start_time": "2024-12-13T19:49:54.196Z"
   },
   {
    "duration": 195,
    "start_time": "2024-12-13T19:50:33.025Z"
   },
   {
    "duration": 22,
    "start_time": "2024-12-13T19:51:31.899Z"
   },
   {
    "duration": 6,
    "start_time": "2024-12-13T19:52:21.459Z"
   },
   {
    "duration": 98,
    "start_time": "2024-12-13T19:52:24.162Z"
   },
   {
    "duration": 99,
    "start_time": "2024-12-13T19:52:37.749Z"
   },
   {
    "duration": 131,
    "start_time": "2024-12-13T19:53:14.906Z"
   },
   {
    "duration": 141,
    "start_time": "2024-12-13T19:53:27.608Z"
   },
   {
    "duration": 142,
    "start_time": "2024-12-13T19:53:37.605Z"
   },
   {
    "duration": 159,
    "start_time": "2024-12-13T19:54:33.972Z"
   },
   {
    "duration": 163,
    "start_time": "2024-12-13T19:55:14.989Z"
   },
   {
    "duration": 5,
    "start_time": "2024-12-13T19:56:23.051Z"
   },
   {
    "duration": 715,
    "start_time": "2024-12-13T19:57:04.007Z"
   },
   {
    "duration": 359,
    "start_time": "2024-12-13T19:57:52.242Z"
   },
   {
    "duration": 196,
    "start_time": "2024-12-13T19:58:00.971Z"
   },
   {
    "duration": 190,
    "start_time": "2024-12-13T19:58:06.500Z"
   },
   {
    "duration": 182,
    "start_time": "2024-12-13T19:58:20.784Z"
   },
   {
    "duration": 188,
    "start_time": "2024-12-13T19:58:24.046Z"
   },
   {
    "duration": 6,
    "start_time": "2024-12-13T20:01:59.420Z"
   },
   {
    "duration": 5,
    "start_time": "2024-12-13T20:02:02.305Z"
   },
   {
    "duration": 195,
    "start_time": "2024-12-13T20:02:09.431Z"
   },
   {
    "duration": 10,
    "start_time": "2024-12-13T20:04:57.372Z"
   },
   {
    "duration": 97,
    "start_time": "2024-12-13T20:05:14.153Z"
   },
   {
    "duration": 98,
    "start_time": "2024-12-13T20:05:19.633Z"
   },
   {
    "duration": 95,
    "start_time": "2024-12-13T20:05:32.899Z"
   },
   {
    "duration": 86,
    "start_time": "2024-12-13T20:05:46.414Z"
   },
   {
    "duration": 85,
    "start_time": "2024-12-13T20:05:59.601Z"
   },
   {
    "duration": 107,
    "start_time": "2024-12-13T20:06:54.482Z"
   },
   {
    "duration": 89,
    "start_time": "2024-12-13T20:07:12.309Z"
   },
   {
    "duration": 101,
    "start_time": "2024-12-13T20:07:55.019Z"
   },
   {
    "duration": 103,
    "start_time": "2024-12-13T20:09:01.736Z"
   },
   {
    "duration": 5,
    "start_time": "2024-12-13T20:10:11.266Z"
   },
   {
    "duration": 7,
    "start_time": "2024-12-13T20:10:15.690Z"
   },
   {
    "duration": 6,
    "start_time": "2024-12-13T20:10:25.593Z"
   },
   {
    "duration": 9,
    "start_time": "2024-12-13T20:10:37.713Z"
   },
   {
    "duration": 10,
    "start_time": "2024-12-13T20:10:49.660Z"
   },
   {
    "duration": 80,
    "start_time": "2024-12-13T20:12:01.595Z"
   },
   {
    "duration": 9,
    "start_time": "2024-12-13T20:12:09.052Z"
   },
   {
    "duration": 11,
    "start_time": "2024-12-13T20:12:15.178Z"
   },
   {
    "duration": 11,
    "start_time": "2024-12-13T20:12:21.807Z"
   },
   {
    "duration": 9,
    "start_time": "2024-12-13T20:12:31.342Z"
   },
   {
    "duration": 10,
    "start_time": "2024-12-13T20:12:41.321Z"
   },
   {
    "duration": 4,
    "start_time": "2024-12-13T23:07:28.363Z"
   },
   {
    "duration": 8,
    "start_time": "2024-12-13T23:07:39.368Z"
   },
   {
    "duration": 7,
    "start_time": "2024-12-13T23:18:36.002Z"
   },
   {
    "duration": 19,
    "start_time": "2024-12-13T23:27:22.268Z"
   },
   {
    "duration": 345,
    "start_time": "2024-12-13T23:27:44.844Z"
   },
   {
    "duration": 11,
    "start_time": "2024-12-13T23:28:41.567Z"
   },
   {
    "duration": 3,
    "start_time": "2024-12-13T23:28:50.108Z"
   },
   {
    "duration": 10,
    "start_time": "2024-12-13T23:29:04.662Z"
   },
   {
    "duration": 196,
    "start_time": "2024-12-13T23:29:25.191Z"
   },
   {
    "duration": 4,
    "start_time": "2024-12-13T23:29:36.614Z"
   },
   {
    "duration": 4,
    "start_time": "2024-12-13T23:29:41.097Z"
   },
   {
    "duration": 4,
    "start_time": "2024-12-13T23:29:50.122Z"
   },
   {
    "duration": 9,
    "start_time": "2024-12-13T23:29:55.869Z"
   },
   {
    "duration": 10,
    "start_time": "2024-12-13T23:31:14.990Z"
   },
   {
    "duration": 11,
    "start_time": "2024-12-14T00:13:40.745Z"
   },
   {
    "duration": 10,
    "start_time": "2024-12-14T00:13:57.771Z"
   },
   {
    "duration": 11,
    "start_time": "2024-12-14T00:14:19.745Z"
   },
   {
    "duration": 36,
    "start_time": "2024-12-14T00:14:35.192Z"
   },
   {
    "duration": 47,
    "start_time": "2024-12-14T00:14:38.107Z"
   },
   {
    "duration": 35,
    "start_time": "2024-12-14T00:14:49.378Z"
   },
   {
    "duration": 10,
    "start_time": "2024-12-14T00:15:21.888Z"
   },
   {
    "duration": 8,
    "start_time": "2024-12-14T00:17:23.466Z"
   },
   {
    "duration": 11,
    "start_time": "2024-12-14T00:17:29.136Z"
   },
   {
    "duration": 14,
    "start_time": "2024-12-14T00:18:36.698Z"
   },
   {
    "duration": 4,
    "start_time": "2024-12-14T00:19:14.916Z"
   },
   {
    "duration": 12,
    "start_time": "2024-12-14T00:19:21.153Z"
   },
   {
    "duration": 10,
    "start_time": "2024-12-14T00:19:26.068Z"
   },
   {
    "duration": 21,
    "start_time": "2024-12-14T00:19:56.910Z"
   },
   {
    "duration": 21,
    "start_time": "2024-12-14T00:20:01.735Z"
   },
   {
    "duration": 10,
    "start_time": "2024-12-14T00:20:06.127Z"
   },
   {
    "duration": 9,
    "start_time": "2024-12-14T00:20:12.007Z"
   },
   {
    "duration": 11,
    "start_time": "2024-12-14T00:20:20.166Z"
   },
   {
    "duration": 9,
    "start_time": "2024-12-14T00:20:28.191Z"
   },
   {
    "duration": 6,
    "start_time": "2024-12-14T00:21:06.015Z"
   },
   {
    "duration": 9,
    "start_time": "2024-12-14T00:21:09.376Z"
   },
   {
    "duration": 9,
    "start_time": "2024-12-14T00:21:15.707Z"
   },
   {
    "duration": 9,
    "start_time": "2024-12-14T00:21:40.815Z"
   },
   {
    "duration": 12,
    "start_time": "2024-12-14T00:22:03.552Z"
   },
   {
    "duration": 10,
    "start_time": "2024-12-14T00:23:14.439Z"
   },
   {
    "duration": 11,
    "start_time": "2024-12-14T00:32:25.471Z"
   },
   {
    "duration": 12,
    "start_time": "2024-12-14T00:34:00.597Z"
   },
   {
    "duration": 2521,
    "start_time": "2024-12-17T23:17:03.221Z"
   },
   {
    "duration": 35,
    "start_time": "2024-12-17T23:17:05.744Z"
   },
   {
    "duration": 26,
    "start_time": "2024-12-17T23:17:05.781Z"
   },
   {
    "duration": 5,
    "start_time": "2024-12-17T23:17:05.809Z"
   },
   {
    "duration": 12,
    "start_time": "2024-12-17T23:17:05.823Z"
   },
   {
    "duration": 21,
    "start_time": "2024-12-17T23:17:05.837Z"
   },
   {
    "duration": 6,
    "start_time": "2024-12-17T23:17:05.860Z"
   },
   {
    "duration": 5,
    "start_time": "2024-12-17T23:17:05.868Z"
   },
   {
    "duration": 7,
    "start_time": "2024-12-17T23:17:05.874Z"
   },
   {
    "duration": 47,
    "start_time": "2024-12-17T23:17:05.884Z"
   },
   {
    "duration": 4,
    "start_time": "2024-12-17T23:17:05.933Z"
   },
   {
    "duration": 10,
    "start_time": "2024-12-17T23:17:05.939Z"
   },
   {
    "duration": 4,
    "start_time": "2024-12-17T23:17:05.951Z"
   },
   {
    "duration": 5,
    "start_time": "2024-12-17T23:17:05.957Z"
   },
   {
    "duration": 5,
    "start_time": "2024-12-17T23:17:05.963Z"
   },
   {
    "duration": 4,
    "start_time": "2024-12-17T23:17:05.970Z"
   },
   {
    "duration": 53,
    "start_time": "2024-12-17T23:17:05.976Z"
   },
   {
    "duration": 4,
    "start_time": "2024-12-17T23:17:06.030Z"
   },
   {
    "duration": 8,
    "start_time": "2024-12-17T23:17:06.036Z"
   },
   {
    "duration": 3,
    "start_time": "2024-12-17T23:17:06.045Z"
   },
   {
    "duration": 5,
    "start_time": "2024-12-17T23:17:06.050Z"
   },
   {
    "duration": 11,
    "start_time": "2024-12-17T23:17:06.056Z"
   },
   {
    "duration": 15,
    "start_time": "2024-12-17T23:17:06.069Z"
   },
   {
    "duration": 44,
    "start_time": "2024-12-17T23:17:06.086Z"
   },
   {
    "duration": 14,
    "start_time": "2024-12-17T23:17:06.131Z"
   },
   {
    "duration": 19,
    "start_time": "2024-12-17T23:17:06.147Z"
   },
   {
    "duration": 14,
    "start_time": "2024-12-17T23:17:06.168Z"
   },
   {
    "duration": 171,
    "start_time": "2024-12-17T23:17:06.186Z"
   },
   {
    "duration": 10,
    "start_time": "2024-12-17T23:17:06.359Z"
   },
   {
    "duration": 127,
    "start_time": "2024-12-17T23:17:06.372Z"
   },
   {
    "duration": 123,
    "start_time": "2024-12-17T23:17:06.501Z"
   },
   {
    "duration": 121,
    "start_time": "2024-12-17T23:17:06.626Z"
   },
   {
    "duration": 178,
    "start_time": "2024-12-17T23:17:06.749Z"
   },
   {
    "duration": 129,
    "start_time": "2024-12-17T23:17:06.929Z"
   },
   {
    "duration": 11,
    "start_time": "2024-12-17T23:17:07.060Z"
   },
   {
    "duration": 123,
    "start_time": "2024-12-17T23:17:07.073Z"
   },
   {
    "duration": 10,
    "start_time": "2024-12-17T23:17:07.197Z"
   },
   {
    "duration": 135,
    "start_time": "2024-12-17T23:17:07.209Z"
   },
   {
    "duration": 234,
    "start_time": "2024-12-17T23:17:07.346Z"
   },
   {
    "duration": 325,
    "start_time": "2024-12-17T23:17:07.582Z"
   },
   {
    "duration": 147,
    "start_time": "2024-12-17T23:17:07.909Z"
   },
   {
    "duration": 145,
    "start_time": "2024-12-17T23:17:08.057Z"
   },
   {
    "duration": 26,
    "start_time": "2024-12-17T23:17:08.204Z"
   },
   {
    "duration": 166,
    "start_time": "2024-12-17T23:17:08.233Z"
   },
   {
    "duration": 200,
    "start_time": "2024-12-17T23:17:08.401Z"
   },
   {
    "duration": 10,
    "start_time": "2024-12-17T23:17:08.603Z"
   },
   {
    "duration": 18,
    "start_time": "2024-12-17T23:17:08.614Z"
   },
   {
    "duration": 11,
    "start_time": "2024-12-17T23:17:08.633Z"
   },
   {
    "duration": 7,
    "start_time": "2024-12-18T17:59:02.381Z"
   },
   {
    "duration": 6,
    "start_time": "2024-12-18T17:59:37.218Z"
   },
   {
    "duration": 19,
    "start_time": "2024-12-18T18:03:00.454Z"
   },
   {
    "duration": 552,
    "start_time": "2024-12-18T18:04:48.418Z"
   },
   {
    "duration": 47,
    "start_time": "2024-12-18T18:05:24.332Z"
   },
   {
    "duration": 45,
    "start_time": "2024-12-18T18:06:00.683Z"
   },
   {
    "duration": 8,
    "start_time": "2024-12-18T18:06:56.168Z"
   },
   {
    "duration": 8,
    "start_time": "2024-12-18T18:07:02.253Z"
   },
   {
    "duration": 9,
    "start_time": "2024-12-18T18:07:23.076Z"
   },
   {
    "duration": 9,
    "start_time": "2024-12-18T18:07:34.749Z"
   },
   {
    "duration": 10,
    "start_time": "2024-12-18T18:07:46.592Z"
   },
   {
    "duration": 8,
    "start_time": "2024-12-18T18:08:20.071Z"
   },
   {
    "duration": 8,
    "start_time": "2024-12-18T18:09:00.764Z"
   },
   {
    "duration": 10,
    "start_time": "2024-12-18T18:10:33.755Z"
   },
   {
    "duration": 11,
    "start_time": "2024-12-18T18:11:12.020Z"
   },
   {
    "duration": 565,
    "start_time": "2024-12-18T18:12:55.594Z"
   },
   {
    "duration": 118,
    "start_time": "2024-12-18T18:13:13.664Z"
   },
   {
    "duration": 208,
    "start_time": "2024-12-18T18:13:31.753Z"
   },
   {
    "duration": 9,
    "start_time": "2024-12-18T18:13:54.213Z"
   },
   {
    "duration": 8,
    "start_time": "2024-12-18T18:20:20.747Z"
   },
   {
    "duration": 824,
    "start_time": "2024-12-18T18:25:23.962Z"
   },
   {
    "duration": 24,
    "start_time": "2024-12-18T18:25:24.789Z"
   },
   {
    "duration": 28,
    "start_time": "2024-12-18T18:25:24.815Z"
   },
   {
    "duration": 4,
    "start_time": "2024-12-18T18:25:24.845Z"
   },
   {
    "duration": 10,
    "start_time": "2024-12-18T18:25:24.851Z"
   },
   {
    "duration": 20,
    "start_time": "2024-12-18T18:25:24.863Z"
   },
   {
    "duration": 8,
    "start_time": "2024-12-18T18:25:24.884Z"
   },
   {
    "duration": 33,
    "start_time": "2024-12-18T18:25:24.893Z"
   },
   {
    "duration": 4,
    "start_time": "2024-12-18T18:25:24.927Z"
   },
   {
    "duration": 0,
    "start_time": "2024-12-18T18:25:24.934Z"
   },
   {
    "duration": 0,
    "start_time": "2024-12-18T18:25:24.935Z"
   },
   {
    "duration": 0,
    "start_time": "2024-12-18T18:25:24.936Z"
   },
   {
    "duration": 0,
    "start_time": "2024-12-18T18:25:24.937Z"
   },
   {
    "duration": 0,
    "start_time": "2024-12-18T18:25:24.938Z"
   },
   {
    "duration": 0,
    "start_time": "2024-12-18T18:25:24.940Z"
   },
   {
    "duration": 1,
    "start_time": "2024-12-18T18:25:24.940Z"
   },
   {
    "duration": 0,
    "start_time": "2024-12-18T18:25:24.941Z"
   },
   {
    "duration": 0,
    "start_time": "2024-12-18T18:25:24.944Z"
   },
   {
    "duration": 0,
    "start_time": "2024-12-18T18:25:24.945Z"
   },
   {
    "duration": 0,
    "start_time": "2024-12-18T18:25:24.947Z"
   },
   {
    "duration": 0,
    "start_time": "2024-12-18T18:25:24.948Z"
   },
   {
    "duration": 0,
    "start_time": "2024-12-18T18:25:24.949Z"
   },
   {
    "duration": 0,
    "start_time": "2024-12-18T18:25:24.949Z"
   },
   {
    "duration": 0,
    "start_time": "2024-12-18T18:25:24.950Z"
   },
   {
    "duration": 0,
    "start_time": "2024-12-18T18:25:24.951Z"
   },
   {
    "duration": 0,
    "start_time": "2024-12-18T18:25:24.952Z"
   },
   {
    "duration": 0,
    "start_time": "2024-12-18T18:25:24.953Z"
   },
   {
    "duration": 0,
    "start_time": "2024-12-18T18:25:24.954Z"
   },
   {
    "duration": 0,
    "start_time": "2024-12-18T18:25:24.955Z"
   },
   {
    "duration": 0,
    "start_time": "2024-12-18T18:25:24.957Z"
   },
   {
    "duration": 0,
    "start_time": "2024-12-18T18:25:24.958Z"
   },
   {
    "duration": 0,
    "start_time": "2024-12-18T18:25:24.959Z"
   },
   {
    "duration": 0,
    "start_time": "2024-12-18T18:25:24.960Z"
   },
   {
    "duration": 0,
    "start_time": "2024-12-18T18:25:24.961Z"
   },
   {
    "duration": 0,
    "start_time": "2024-12-18T18:25:24.962Z"
   },
   {
    "duration": 0,
    "start_time": "2024-12-18T18:25:24.963Z"
   },
   {
    "duration": 0,
    "start_time": "2024-12-18T18:25:24.964Z"
   },
   {
    "duration": 0,
    "start_time": "2024-12-18T18:25:24.965Z"
   },
   {
    "duration": 0,
    "start_time": "2024-12-18T18:25:24.965Z"
   },
   {
    "duration": 0,
    "start_time": "2024-12-18T18:25:24.966Z"
   },
   {
    "duration": 0,
    "start_time": "2024-12-18T18:25:25.024Z"
   },
   {
    "duration": 0,
    "start_time": "2024-12-18T18:25:25.025Z"
   },
   {
    "duration": 0,
    "start_time": "2024-12-18T18:25:25.026Z"
   },
   {
    "duration": 0,
    "start_time": "2024-12-18T18:25:25.027Z"
   },
   {
    "duration": 0,
    "start_time": "2024-12-18T18:25:25.028Z"
   },
   {
    "duration": 0,
    "start_time": "2024-12-18T18:25:25.029Z"
   },
   {
    "duration": 0,
    "start_time": "2024-12-18T18:25:25.030Z"
   },
   {
    "duration": 0,
    "start_time": "2024-12-18T18:25:25.031Z"
   },
   {
    "duration": 0,
    "start_time": "2024-12-18T18:25:25.033Z"
   },
   {
    "duration": 0,
    "start_time": "2024-12-18T18:25:25.033Z"
   },
   {
    "duration": 3,
    "start_time": "2024-12-18T18:25:35.575Z"
   },
   {
    "duration": 7,
    "start_time": "2024-12-18T18:26:01.351Z"
   },
   {
    "duration": 7,
    "start_time": "2024-12-18T18:26:11.709Z"
   },
   {
    "duration": 7,
    "start_time": "2024-12-18T18:26:30.767Z"
   },
   {
    "duration": 832,
    "start_time": "2024-12-18T18:26:46.850Z"
   },
   {
    "duration": 24,
    "start_time": "2024-12-18T18:26:47.683Z"
   },
   {
    "duration": 35,
    "start_time": "2024-12-18T18:26:47.708Z"
   },
   {
    "duration": 4,
    "start_time": "2024-12-18T18:26:47.746Z"
   },
   {
    "duration": 9,
    "start_time": "2024-12-18T18:26:47.752Z"
   },
   {
    "duration": 21,
    "start_time": "2024-12-18T18:26:47.763Z"
   },
   {
    "duration": 7,
    "start_time": "2024-12-18T18:26:47.785Z"
   },
   {
    "duration": 34,
    "start_time": "2024-12-18T18:26:47.794Z"
   },
   {
    "duration": 10,
    "start_time": "2024-12-18T18:26:47.829Z"
   },
   {
    "duration": 15,
    "start_time": "2024-12-18T18:26:47.842Z"
   },
   {
    "duration": 4,
    "start_time": "2024-12-18T18:26:47.858Z"
   },
   {
    "duration": 10,
    "start_time": "2024-12-18T18:26:47.864Z"
   },
   {
    "duration": 5,
    "start_time": "2024-12-18T18:26:47.875Z"
   },
   {
    "duration": 44,
    "start_time": "2024-12-18T18:26:47.881Z"
   },
   {
    "duration": 6,
    "start_time": "2024-12-18T18:26:47.926Z"
   },
   {
    "duration": 6,
    "start_time": "2024-12-18T18:26:47.933Z"
   },
   {
    "duration": 9,
    "start_time": "2024-12-18T18:26:47.941Z"
   },
   {
    "duration": 5,
    "start_time": "2024-12-18T18:26:47.951Z"
   },
   {
    "duration": 9,
    "start_time": "2024-12-18T18:26:47.958Z"
   },
   {
    "duration": 3,
    "start_time": "2024-12-18T18:26:47.970Z"
   },
   {
    "duration": 6,
    "start_time": "2024-12-18T18:26:47.975Z"
   },
   {
    "duration": 55,
    "start_time": "2024-12-18T18:26:47.982Z"
   },
   {
    "duration": 16,
    "start_time": "2024-12-18T18:26:48.038Z"
   },
   {
    "duration": 9,
    "start_time": "2024-12-18T18:26:48.056Z"
   },
   {
    "duration": 14,
    "start_time": "2024-12-18T18:26:48.066Z"
   },
   {
    "duration": 45,
    "start_time": "2024-12-18T18:26:48.081Z"
   },
   {
    "duration": 17,
    "start_time": "2024-12-18T18:26:48.128Z"
   },
   {
    "duration": 161,
    "start_time": "2024-12-18T18:26:48.149Z"
   },
   {
    "duration": 15,
    "start_time": "2024-12-18T18:26:48.312Z"
   },
   {
    "duration": 123,
    "start_time": "2024-12-18T18:26:48.329Z"
   },
   {
    "duration": 167,
    "start_time": "2024-12-18T18:26:48.453Z"
   },
   {
    "duration": 121,
    "start_time": "2024-12-18T18:26:48.624Z"
   },
   {
    "duration": 118,
    "start_time": "2024-12-18T18:26:48.747Z"
   },
   {
    "duration": 119,
    "start_time": "2024-12-18T18:26:48.867Z"
   },
   {
    "duration": 12,
    "start_time": "2024-12-18T18:26:48.987Z"
   },
   {
    "duration": 126,
    "start_time": "2024-12-18T18:26:49.001Z"
   },
   {
    "duration": 9,
    "start_time": "2024-12-18T18:26:49.129Z"
   },
   {
    "duration": 129,
    "start_time": "2024-12-18T18:26:49.140Z"
   },
   {
    "duration": 218,
    "start_time": "2024-12-18T18:26:49.271Z"
   },
   {
    "duration": 300,
    "start_time": "2024-12-18T18:26:49.490Z"
   },
   {
    "duration": 201,
    "start_time": "2024-12-18T18:26:49.792Z"
   },
   {
    "duration": 149,
    "start_time": "2024-12-18T18:26:49.994Z"
   },
   {
    "duration": 15,
    "start_time": "2024-12-18T18:26:50.144Z"
   },
   {
    "duration": 109,
    "start_time": "2024-12-18T18:26:50.161Z"
   },
   {
    "duration": 196,
    "start_time": "2024-12-18T18:26:50.272Z"
   },
   {
    "duration": 10,
    "start_time": "2024-12-18T18:26:50.470Z"
   },
   {
    "duration": 10,
    "start_time": "2024-12-18T18:26:50.482Z"
   },
   {
    "duration": 34,
    "start_time": "2024-12-18T18:26:50.494Z"
   },
   {
    "duration": 8,
    "start_time": "2024-12-18T18:26:50.529Z"
   },
   {
    "duration": 7,
    "start_time": "2024-12-18T18:26:50.539Z"
   }
  ],
  "kernelspec": {
   "display_name": "Python 3",
   "language": "python",
   "name": "python3"
  },
  "language_info": {
   "codemirror_mode": {
    "name": "ipython",
    "version": 3
   },
   "file_extension": ".py",
   "mimetype": "text/x-python",
   "name": "python",
   "nbconvert_exporter": "python",
   "pygments_lexer": "ipython3",
   "version": "3.12.9"
  },
  "toc": {
   "base_numbering": 1,
   "nav_menu": {},
   "number_sections": true,
   "sideBar": true,
   "skip_h1_title": true,
   "title_cell": "Table of Contents",
   "title_sidebar": "Contents",
   "toc_cell": false,
   "toc_position": {},
   "toc_section_display": true,
   "toc_window_display": false
  }
 },
 "nbformat": 4,
 "nbformat_minor": 2
}
